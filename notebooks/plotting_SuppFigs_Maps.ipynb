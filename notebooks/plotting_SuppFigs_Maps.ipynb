{
 "cells": [
  {
   "cell_type": "markdown",
   "metadata": {},
   "source": [
    "# Supp figure, Maps\n",
    "\n",
    "\n",
    "\n",
    "For Sawi et al., 2021"
   ]
  },
  {
   "cell_type": "markdown",
   "metadata": {},
   "source": [
    "## Todo::\n",
    "\n"
   ]
  },
  {
   "cell_type": "code",
   "execution_count": 1,
   "metadata": {},
   "outputs": [],
   "source": [
    "import h5py\n",
    "import pandas as pd\n",
    "import numpy as np\n",
    "from matplotlib import pyplot as plt\n",
    "from obspy import read\n",
    "from matplotlib import cm\n",
    "import matplotlib.gridspec as gridspec\n",
    "import os\n",
    "import datetime as dtt\n",
    "import matplotlib.patches\n",
    "import matplotlib.patches as mpatches\n",
    "import matplotlib.dates as mdates\n",
    "import datetime\n",
    "from  sklearn.preprocessing import StandardScaler\n",
    "import sys\n",
    "from matplotlib.patches import Rectangle\n",
    "import sklearn.metrics\n",
    "from scipy import spatial\n",
    "import matplotlib.image as mpimg\n",
    "import obspy\n",
    "from scipy.signal import butter, lfilter\n",
    "import librosa\n",
    "from scipy.io import loadmat\n",
    "from sklearn.decomposition import PCA\n",
    "import scipy.io as spio\n",
    "from sklearn.metrics import silhouette_samples\n",
    "import seaborn as sns\n",
    "import scipy as sp\n",
    "import scipy.io as spio\n",
    "import scipy.signal\n",
    "from sklearn.metrics import confusion_matrix\n",
    "import seaborn as sns\n",
    "from sklearn.metrics import classification_report\n",
    "\n",
    "from obspy.signal.cross_correlation import correlate, xcorr_max\n",
    "\n",
    "\n",
    "sys.path.append('.')\n",
    "sys.path.append('../src/visualization/')\n",
    "\n",
    "import paths\n",
    "from sklearn.cluster import KMeans\n",
    "# import figureFunctions"
   ]
  },
  {
   "cell_type": "code",
   "execution_count": 2,
   "metadata": {},
   "outputs": [],
   "source": [
    "\n",
    "\n",
    "from functions2 import getFeatures, getLocationFeatures,getNMFOrder,resortByNMF,getSpectra_fromWF,getSgram\n",
    "from functions2 import PCAonFP,calcSilhScore,getDailyTempDiff,getSpectraMedian,CalcDiffPeak,PVEofPCA,getTopFCat \n",
    "from functions2 import catMergeFromH5, swapLabels, calcFFT, getWF, swapLabels,trimSpectra, KMeansSpectra, compileSpectraFromWF\n",
    "import figureFunctions2"
   ]
  },
  {
   "cell_type": "markdown",
   "metadata": {},
   "source": [
    "## Define helper functions (move later)"
   ]
  },
  {
   "cell_type": "markdown",
   "metadata": {},
   "source": [
    "## Set paths"
   ]
  },
  {
   "cell_type": "code",
   "execution_count": 3,
   "metadata": {},
   "outputs": [],
   "source": [
    "#%% load project variables: names and paths\n",
    "# key = sys.argv[1]\n",
    "\n",
    "key = \"BB_Gorner_Event_Final_v11_J8\"\n",
    "keyN = \"BB_Gorner_Cont_Final_v10_J8\"\n",
    "\n",
    "\n",
    "filetype = '.gse2'     \n",
    "filetypeN = '.sac' \n",
    "\n",
    "\n",
    "p = paths.returnp(key)\n",
    "pN = paths.returnp(keyN)\n",
    "\n",
    "#%%\n",
    "\n",
    "projName        = p['projName']\n",
    "datasetID       = p['datasetID']\n",
    "projName        = p['projName']\n",
    "station         = p['station']\n",
    "channel         = p['channel']\n",
    "path_top        = p['path_top']\n",
    "path_proj       = p['path_proj']\n",
    "outfile_name    = p['outfile_name']\n",
    "dataFile_name   = p['dataFile_name']\n",
    "path_WF         = p['path_WF']\n",
    "path_Cat        = p['path_Cat'] #original, raw catalog\n",
    "subCatalog_Name = f\"{dataFile_name}_Sgrams_Subcatalog.hdf5\"\n",
    "\n",
    "\n",
    "\n",
    "pathFP          = f'{path_top}{projName}/03_output/{station}/SpecUFEx_output/step4_FEATout/'\n",
    "pathACM         = f'{path_top}{projName}/03_output/{station}/SpecUFEx_output/step2_NMF/'\n",
    "pathSTM         = f'{path_top}{projName}/03_output/{station}/SpecUFEx_output/step4_stateTransMats/'\n",
    "pathEB          = f'{path_top}{projName}/02_src/02_SpecUFEx/EB.mat'\n",
    "pathElnB          = f'{path_top}{projName}/02_src/02_SpecUFEx/ElnB.mat'\n",
    "pathW        = path_proj + '02_src/02_SpecUFEx/out.DictGain.mat' \n",
    "\n",
    "\n",
    "# pathClusCat = path_proj + f\"principalDf_full_{mode}_Kopt{Kopt}.csv\"\n",
    "dataH5_path = path_proj + dataFile_name\n",
    "\n",
    "\n",
    "projNameN        = pN['projName']\n",
    "datasetIDN       = pN['datasetID']\n",
    "projNameN        = pN['projName']\n",
    "station         = pN['station']\n",
    "channel         = pN['channel']\n",
    "\n",
    "\n",
    "path_top        = pN['path_top']\n",
    "path_projN       = pN['path_proj']\n",
    "outfile_nameN    = pN['outfile_name']\n",
    "dataFile_nameN   = pN['dataFile_name']\n",
    "path_WFN         = pN['path_WF']\n",
    "path_CatN        = pN['path_Cat'] #original, raw catalog\n",
    "subCatalog_NameN = f\"{dataFile_name}_Sgrams_Subcatalog.hdf5\"\n",
    "\n",
    "\n",
    "pathACMN         = f'{path_top}{projNameN}/03_output/{station}/SpecUFEx_output/step2_NMF/'\n",
    "pathSTMN         = f'{path_top}{projNameN}/03_output/{station}/SpecUFEx_output/step4_stateTransMats/'\n",
    "pathEBN          = f'{path_top}{projNameN}/02_src/02_SpecUFEx/EB.mat'\n",
    "pathElnBN          = f'{path_top}{projNameN}/02_src/02_SpecUFEx/ElnB.mat'\n",
    "pathWN        = path_projN + '02_src/02_SpecUFEx/out.DictGain.mat' \n",
    "\n",
    "\n",
    "\n",
    "# pathClusCatN = path_projN + f\"principalDf_full_{mode}_Kopt{KoptN}.csv\"\n",
    "dataH5_pathN = path_projN + dataFile_nameN\n",
    "\n",
    "\n",
    "pathFig = '../reports/figures/'\n",
    "pathFigSupp = '../reports/supp_figures/'\n",
    "\n",
    "pathAuxData = '../data/processed/Garcia/'"
   ]
  },
  {
   "cell_type": "markdown",
   "metadata": {},
   "source": [
    "## Load auxiliary data"
   ]
  },
  {
   "cell_type": "code",
   "execution_count": 4,
   "metadata": {},
   "outputs": [],
   "source": [
    "## Load auxiliary catalog\n",
    "\n",
    "gps_station_list = ['24','34','36','37']\n",
    "gps_df_list = []\n",
    "\n",
    "for gst in gps_station_list:\n",
    "    \n",
    "    \n",
    "    gps_df = pd.read_csv(f'{pathAuxData}gps_roll{gst}.csv',index_col=0)\n",
    "    gps_df['datetime'] = [pd.to_datetime(ii) for ii in gps_df.index]\n",
    "    gps_df['datetime_index'] = [pd.to_datetime(ii) for ii in gps_df.index]\n",
    "    gps_df = gps_df.set_index('datetime_index')\n",
    "    \n",
    "    \n",
    "    gps_df_list.append(gps_df)\n",
    "\n",
    "\n",
    "lake_df = pd.read_csv(f'{pathAuxData}lake_df.csv',index_col=0)\n",
    "lake_df['datetime'] = [pd.to_datetime(ii) for ii in lake_df.index]\n",
    "lake_df['datetime_index'] = [pd.to_datetime(ii) for ii in lake_df.index]\n",
    "lake_df = lake_df.set_index('datetime_index')\n",
    "\n",
    "\n",
    "meteor_df = pd.read_csv(f'{pathAuxData}meteor_df.csv',index_col=0)\n",
    "meteor_df['datetime'] = [pd.to_datetime(ii) for ii in meteor_df.index]\n",
    "meteor_df['datetime_index'] = [pd.to_datetime(ii) for ii in meteor_df.index]\n",
    "meteor_df = meteor_df.set_index('datetime_index')\n",
    "\n"
   ]
  },
  {
   "cell_type": "markdown",
   "metadata": {},
   "source": [
    "## Define some important times in study period"
   ]
  },
  {
   "cell_type": "code",
   "execution_count": 5,
   "metadata": {},
   "outputs": [],
   "source": [
    "# timing of lake events \n",
    "tstart = dtt.datetime(2007, 6, 13)\n",
    "tend = dtt.datetime(2007, 7, 23)\n",
    "calvet = dtt.datetime(2007, 7, 1,13,41,35)\n",
    "supraDraint = dtt.datetime(2007, 7, 4)\n",
    "subDraint = dtt.datetime(2007, 7, 7)\n",
    "drainEndt = dtt.datetime(2007, 7, 15)\n"
   ]
  },
  {
   "cell_type": "markdown",
   "metadata": {},
   "source": [
    "## Load original catalogs"
   ]
  },
  {
   "cell_type": "code",
   "execution_count": null,
   "metadata": {},
   "outputs": [],
   "source": []
  },
  {
   "cell_type": "code",
   "execution_count": 6,
   "metadata": {},
   "outputs": [
    {
     "name": "stdout",
     "output_type": "stream",
     "text": [
      "1411 events kept, merge sucessful\n",
      "1521 events kept, merge sucessful\n"
     ]
    }
   ],
   "source": [
    "cat00 = catMergeFromH5(path_Cat,path_proj,outfile_name)\n",
    "cat00N = catMergeFromH5(path_CatN,path_projN,outfile_nameN)"
   ]
  },
  {
   "cell_type": "code",
   "execution_count": 7,
   "metadata": {},
   "outputs": [],
   "source": [
    "numStates = 15"
   ]
  },
  {
   "cell_type": "markdown",
   "metadata": {},
   "source": [
    "## Load station data"
   ]
  },
  {
   "cell_type": "code",
   "execution_count": 8,
   "metadata": {},
   "outputs": [],
   "source": [
    "##station data \n",
    "stn = pd.read_csv(\"../data/raw/stnlst.csv\",\n",
    "                  header=None,\n",
    "                  names=['name','X','Y','Elevation','dX','dY','Depth'])\n",
    "\n",
    "        \n",
    "     "
   ]
  },
  {
   "cell_type": "markdown",
   "metadata": {},
   "source": [
    "## Format day ticks, time plotting\n",
    "\n",
    "* Central European Time is 2 hours later than UTC (Coordinated Universal Time) \n",
    "* Max temp occurs around 16:00 (4pm) local time or, 14:00 (2pm) UTC\n",
    "* All times in UTC\n",
    "\n",
    "\n",
    "todo: fix ::\n",
    "\n",
    "\n",
    "##dummy variable -- just needed to get complete day set -- FIXFIX\n",
    "clus_clu_perday = cat0.event_ID.resample('D', label='left', closed='right').count()"
   ]
  },
  {
   "cell_type": "code",
   "execution_count": 9,
   "metadata": {},
   "outputs": [
    {
     "name": "stdout",
     "output_type": "stream",
     "text": [
      "['6-14', '6-21', '6-28', '7-5', '7-12', '7-19']\n"
     ]
    }
   ],
   "source": [
    "\n",
    "\n",
    "############################################################\n",
    "            ##### FORMAT DAY TICKS (ASSUMES NO DAYS SKIPPED?) ######\n",
    "############################################################\n",
    "tstart = pd.to_datetime('2007-06-14 00:00:00')\n",
    "tend   = pd.to_datetime('2007-07-22 00:00:00')\n",
    "\n",
    "\n",
    "\n",
    "delta_day = 7\n",
    "\n",
    "##dummy variable -- just needed to get complete day set -- FIXFIX\n",
    "clus_clu_perday = cat00.event_ID.resample('D', label='left', closed='right').count()\n",
    "\n",
    "numDays = len(clus_clu_perday)\n",
    "\n",
    "days_list = [clus_clu_perday.index[i] for i in range(numDays)]\n",
    "\n",
    "\n",
    "## these have lots of possible text formats\n",
    "day_labels = [f\"{days_list[d].month}-{days_list[d].date().day}\" for d in range(0,len(days_list),delta_day)]\n",
    "\n",
    "day_ticks = [days_list[d] for d in range(0,len(days_list),delta_day)]\n",
    "\n",
    "\n",
    "# Central European Time is 2 hours later than UTC (Coordinated Universal Time)\n",
    "##max temp is around 4pm local time or 16:00, in UTC it is 14:00 or 2pm\n",
    "#all times in UTC\n",
    "hour_of_approx_max_temp = 14\n",
    "hourMaxTemp = [dtt.datetime(2007, 6, 14,hour_of_approx_max_temp,0,0) + pd.DateOffset(i) for i in range(0,numDays)]\n",
    "\n",
    "hour24labels = [str(r) for r in range(0,24)] #UTC\n",
    "\n",
    "print(day_labels)\n",
    "############################################################\n",
    "############################################################\n",
    "\n",
    "       "
   ]
  },
  {
   "cell_type": "code",
   "execution_count": 10,
   "metadata": {},
   "outputs": [],
   "source": [
    "plt.rcParams['image.cmap']='magma'\n",
    "\n",
    "plt.rcParams.update({'font.size': 8})\n",
    "colors =cm.Paired(np.array([1,5,7,9,2,4,6,8]))\n",
    "\n",
    "\n",
    "## when plotting, add a bit of buffer so bars aren't cut off\n",
    "tlimstart = pd.to_datetime('2007-06-13 12:00:00')\n",
    "tlimend   = pd.to_datetime('2007-07-22 12:00:00')\n",
    "\n",
    "\n",
    "lw1=4        \n",
    "lw2=5\n",
    "alphaT=1\n",
    "ylabfont=8\n",
    "ylabpad =10\n",
    "\n",
    "\n",
    "plt_kwargs = {'lw1':lw1,\n",
    "              'lw2':lw2,\n",
    "              'alphaT':alphaT,\n",
    "              'ylabfont':ylabfont,\n",
    "              'ylabpad':ylabpad,\n",
    "              'colors':colors,\n",
    "#               'scaling':scaling,\n",
    "#               'sgram_mode':sgram_mode,\n",
    "              'hour24labels':hour24labels,\n",
    "              'day_ticks':day_ticks,\n",
    "              'day_labels':day_labels,\n",
    "              'numDays':numDays,\n",
    "              'hourMaxTemp':hourMaxTemp,\n",
    "              'tstart':tlimstart, ## for extending x axis to fit bars\n",
    "              'tend':tlimend,     ## for extending x axis to fit bars\n",
    "              'tstartreal':tstart,## actual study bound\n",
    "              'tendreal':tend,     ## actual study bound\n",
    "              'supraDraint':supraDraint,\n",
    "              'subDraint':subDraint,\n",
    "              'drainEndt':drainEndt}            \n"
   ]
  },
  {
   "cell_type": "markdown",
   "metadata": {},
   "source": [
    "## Specs for figures JGR"
   ]
  },
  {
   "cell_type": "code",
   "execution_count": 11,
   "metadata": {},
   "outputs": [],
   "source": [
    "#quarter page\n",
    "width1 = 3.74016\n",
    "height1 = 4.52756\n",
    "\n",
    "#full page\n",
    "width2 = 7.48031\n",
    "height2 = 9.05512"
   ]
  },
  {
   "cell_type": "markdown",
   "metadata": {},
   "source": [
    "## Reduce dimensionality\n",
    "\n",
    "* Perform PCA on FPs \n",
    "* Calculate PVE (percent variance explained) for each PC, and keep enouch PCs to capture XX% of variance\n",
    "* Cluster using Kmeans \n",
    "* Choose cluster based on highest mean silhouette score\n"
   ]
  },
  {
   "cell_type": "code",
   "execution_count": 12,
   "metadata": {},
   "outputs": [
    {
     "name": "stdout",
     "output_type": "stream",
     "text": [
      "1 0.141772319308\n",
      "2 0.225535762943\n",
      "3 0.277379352917\n",
      "4 0.312981168339\n",
      "5 0.343504139047\n",
      "6 0.372574711808\n",
      "7 0.398888875476\n",
      "8 0.42088795471\n",
      "9 0.43934723161\n",
      "10 0.456412011172\n",
      "11 0.472865571884\n",
      "12 0.48864675777\n",
      "13 0.503514257161\n",
      "14 0.517482217774\n",
      "15 0.530760857589\n",
      "16 0.543708239748\n",
      "17 0.556272291256\n",
      "18 0.568396175137\n",
      "19 0.580148634613\n",
      "20 0.591305840204\n",
      "21 0.602295286898\n",
      "22 0.612595007165\n",
      "23 0.621712269276\n",
      "24 0.631134347378\n",
      "25 0.63978819914\n",
      "26 0.6482939689\n",
      "27 0.65712551735\n",
      "28 0.665358065236\n",
      "29 0.673140693252\n",
      "30 0.680508809749\n",
      "31 0.687821645745\n",
      "32 0.69494229503\n",
      "33 0.701895736814\n",
      "34 0.708888095885\n",
      "35 0.7154211303\n",
      "36 0.722135200338\n",
      "37 0.728455797052\n",
      "38 0.734896592711\n",
      "39 0.741177435988\n",
      "40 0.746837716357\n",
      "41 0.753116032448\n",
      "42 0.758299783121\n",
      "43 0.76419204386\n",
      "44 0.76937254698\n",
      "45 0.774507404711\n",
      "46 0.779779686775\n",
      "47 0.78487934418\n",
      "48 0.789707140554\n",
      "49 0.794601810792\n",
      "50 0.799177800489\n",
      "51 0.803735164777\n",
      "52 0.808084424333\n",
      "53 0.812196748387\n",
      "54 0.816423234402\n",
      "55 0.820754169814\n",
      "56 0.825026422487\n",
      "57 0.828762994185\n",
      "58 0.83266741831\n",
      "59 0.836430591781\n",
      "60 0.84004188352\n",
      "61 0.843225795483\n",
      "62 0.846953575296\n",
      "63 0.850567555393\n",
      "64 0.853360314734\n",
      "65 0.856917060489\n",
      "66 0.859938711074\n",
      "67 0.863340503756\n",
      "break\n",
      "1 0.562553\n",
      "2 0.7565\n",
      "3 0.860942\n",
      "break\n"
     ]
    }
   ],
   "source": [
    "\n",
    "PCA_df, numPCA_PVE, cum_pve = PVEofPCA(path_proj,outfile_name,cat00,numPCMax=numStates**2,cum_pve_thresh=.86,stand=False);\n",
    "PCA_dfN, numPCA_PVEN, cum_pveN = PVEofPCA(path_projN,outfile_nameN,cat00N,numPCMax=numStates**2,cum_pve_thresh=.86,stand=False)\n",
    "\n"
   ]
  },
  {
   "cell_type": "code",
   "execution_count": null,
   "metadata": {},
   "outputs": [],
   "source": []
  },
  {
   "cell_type": "code",
   "execution_count": 13,
   "metadata": {},
   "outputs": [
    {
     "name": "stdout",
     "output_type": "stream",
     "text": [
      "\n",
      " For icequakes, 86.33% of variance explained by the first 67 principal components\n",
      "\n",
      " For noise, 86.09% of variance explained by the first 3 principal components\n"
     ]
    }
   ],
   "source": [
    "print(f'\\n For icequakes, {100*cum_pve:.2f}% of variance explained by the first {numPCA_PVE} principal components')\n",
    "print(f'\\n For noise, {100*cum_pveN:.2f}% of variance explained by the first {numPCA_PVEN} principal components')"
   ]
  },
  {
   "cell_type": "code",
   "execution_count": 14,
   "metadata": {},
   "outputs": [],
   "source": [
    "stand = False #standard scalar before PCA\n",
    "\n",
    "\n",
    "#returns a PCA sklearn object, a dataframe of cat00 but with columns for PCs, and a numpy array of PCs (N x numPC)\n",
    "\n",
    "sklearn_pca, cat00, Y_PCA = PCAonFP(path_proj,outfile_name,cat00,numPCA=numPCA_PVE,stand=stand)\n",
    "sklearn_pcaN, cat00N, Y_PCAN = PCAonFP(path_projN,outfile_nameN,cat00N,numPCA=numPCA_PVEN,stand=stand)\n"
   ]
  },
  {
   "cell_type": "markdown",
   "metadata": {},
   "source": [
    "## Clustering using Kmeans, validating using silhouette score"
   ]
  },
  {
   "cell_type": "code",
   "execution_count": 15,
   "metadata": {},
   "outputs": [
    {
     "name": "stdout",
     "output_type": "stream",
     "text": [
      "kmeans on 2 clusters...\n",
      "kmeans on 3 clusters...\n",
      "kmeans on 4 clusters...\n",
      "kmeans on 5 clusters...\n",
      "kmeans on 6 clusters...\n",
      "kmeans on 7 clusters...\n",
      "kmeans on 8 clusters...\n",
      "kmeans on 9 clusters...\n",
      "kmeans on 10 clusters...\n",
      "Best cluster: 3\n",
      "Event optimum number of clusters::  3\n",
      "kmeans on 2 clusters...\n",
      "kmeans on 3 clusters...\n",
      "kmeans on 4 clusters...\n",
      "kmeans on 5 clusters...\n",
      "kmeans on 6 clusters...\n",
      "kmeans on 7 clusters...\n",
      "kmeans on 8 clusters...\n",
      "kmeans on 9 clusters...\n",
      "kmeans on 10 clusters...\n",
      "Best cluster: 4\n",
      "Noise optimum number of clusters::  4\n"
     ]
    }
   ],
   "source": [
    "## silh score and validation\n",
    "##making rep catalog\n",
    "\n",
    "\n",
    "##can force K here\n",
    "Kmax=10\n",
    "range_n_clusters_all = list(range(2,Kmax+1))\n",
    "\n",
    "\n",
    "cat00, catall, Kopt, maxSilScore, avgSils, sse,cluster_labels_best,ss_best,euc_dist_best = calcSilhScore(path_proj,outfile_name,cat00,range_n_clusters_all,numPCA=numPCA_PVE,Xtype='fingerprints', distMeasure = \"SilhScore\",stand=stand);\n",
    "\n",
    "print('Event optimum number of clusters:: ',Kopt)\n",
    "\n",
    "\n",
    "cat00N, catallN, KoptN, maxSilScoreN, avgSilsN, sseN,cluster_labels_bestN,ss_bestN,euc_dist_bestN = calcSilhScore(path_projN,outfile_nameN,cat00N,range_n_clusters_all,numPCA=numPCA_PVEN,Xtype='fingerprints',distMeasure = \"SilhScore\", stand=stand);\n",
    "\n",
    "\n",
    "print('Noise optimum number of clusters:: ',KoptN)\n"
   ]
  },
  {
   "cell_type": "markdown",
   "metadata": {},
   "source": [
    "### 10 most representative events"
   ]
  },
  {
   "cell_type": "code",
   "execution_count": 16,
   "metadata": {},
   "outputs": [],
   "source": [
    "topF = 20\n",
    "\n",
    "catRep = getTopFCat(cat00,topF=topF) \n",
    "\n",
    "catRepN = getTopFCat(cat00N,topF=topF)"
   ]
  },
  {
   "cell_type": "code",
   "execution_count": null,
   "metadata": {},
   "outputs": [],
   "source": []
  },
  {
   "cell_type": "markdown",
   "metadata": {},
   "source": [
    "# Figure 10 - Big Map of Icequakes"
   ]
  },
  {
   "cell_type": "code",
   "execution_count": 19,
   "metadata": {},
   "outputs": [
    {
     "data": {
      "image/png": "[encoded data removed]",
      "text/plain": [
       "<Figure size 538.582x325.984 with 1 Axes>"
      ]
     },
     "metadata": {
      "needs_background": "light"
     },
     "output_type": "display_data"
    }
   ],
   "source": [
    "##v3 separate map for each cluster\n",
    "##settings for yellow bars\n",
    "plotMap = 0\n",
    "size1 = 1000\n",
    "a1 = .7\n",
    "\n",
    "k=3\n",
    "plt.rcParams.update({'font.size': 12})\n",
    "\n",
    "\n",
    "# if 'Event' in key:\n",
    "fig,axes = plt.subplots(figsize = (width2,height1))#,sharex=True,constrained_layout=True)\n",
    "\n",
    "\n",
    "gs = gridspec.GridSpec(1,1)\n",
    "\n",
    "# gs.update(wspace=0.02, hspace=0.07)\n",
    "\n",
    "ax = plt.subplot(gs[0])\n",
    "\n",
    "ax.set_aspect('equal')\n",
    "ax.tick_params(axis='x',labelrotation=45)\n",
    "\n",
    "figureFunctions2.plotStations(stn,station,ax=ax)   \n",
    "\n",
    "# cat00k = cat00[cat00.Cluster==k]\n",
    "\n",
    "\n",
    "\n",
    "\n",
    "\n",
    "figureFunctions2.plotMap(cat00,\n",
    "        ax=ax,\n",
    "        colorBy='cluster',\n",
    "        size=3,\n",
    "        lw=1,\n",
    "        alpha=.3,\n",
    "        edgecolor='cluster',\n",
    "        **plt_kwargs); #'oneCluster''cluster';'all';'datetime'\n",
    "\n",
    "\n",
    "figureFunctions2.plotMap(catRep,\n",
    "        ax=ax,\n",
    "        colorBy='cluster',\n",
    "        size=25,\n",
    "        marker='o',\n",
    "        lw=1,\n",
    "        alpha=.6,\n",
    "        edgecolor='None',\n",
    "        **plt_kwargs); #'oneCluster''cluster';'all';'datetime'\n",
    "\n",
    "\n",
    "\n",
    "\n",
    "\n",
    "\n",
    "\n",
    "\n",
    "plt.savefig(pathFigSupp + f'Supp_Map_large_{topF}_v3.pdf',bbox_inches='tight')\n",
    "\n"
   ]
  },
  {
   "cell_type": "code",
   "execution_count": null,
   "metadata": {},
   "outputs": [],
   "source": []
  }
 ],
 "metadata": {
  "kernelspec": {
   "display_name": "Python 3",
   "language": "python",
   "name": "python3"
  },
  "language_info": {
   "codemirror_mode": {
    "name": "ipython",
    "version": 3
   },
   "file_extension": ".py",
   "mimetype": "text/x-python",
   "name": "python",
   "nbconvert_exporter": "python",
   "pygments_lexer": "ipython3",
   "version": "3.7.8"
  }
 },
 "nbformat": 4,
 "nbformat_minor": 4
}
