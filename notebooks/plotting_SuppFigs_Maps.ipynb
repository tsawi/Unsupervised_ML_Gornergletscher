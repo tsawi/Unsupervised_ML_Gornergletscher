{
 "cells": [
  {
   "cell_type": "markdown",
   "metadata": {},
   "source": [
    "# Supp figure, Maps\n",
    "\n",
    "\n",
    "\n",
    "For Sawi et al., 2021"
   ]
  },
  {
   "cell_type": "markdown",
   "metadata": {},
   "source": [
    "## Todo::\n",
    "\n"
   ]
  },
  {
   "cell_type": "code",
   "execution_count": 1,
   "metadata": {},
   "outputs": [],
   "source": [
    "import h5py\n",
    "import pandas as pd\n",
    "import numpy as np\n",
    "from matplotlib import pyplot as plt\n",
    "from obspy import read\n",
    "from matplotlib import cm\n",
    "import matplotlib.gridspec as gridspec\n",
    "import os\n",
    "import datetime as dtt\n",
    "import matplotlib.patches\n",
    "import matplotlib.patches as mpatches\n",
    "import matplotlib.dates as mdates\n",
    "import datetime\n",
    "from  sklearn.preprocessing import StandardScaler\n",
    "import sys\n",
    "from matplotlib.patches import Rectangle\n",
    "import sklearn.metrics\n",
    "from scipy import spatial\n",
    "import matplotlib.image as mpimg\n",
    "import obspy\n",
    "from scipy.signal import butter, lfilter\n",
    "import librosa\n",
    "from scipy.io import loadmat\n",
    "from sklearn.decomposition import PCA\n",
    "import scipy.io as spio\n",
    "from sklearn.metrics import silhouette_samples\n",
    "import seaborn as sns\n",
    "import scipy as sp\n",
    "import scipy.io as spio\n",
    "import scipy.signal\n",
    "from sklearn.metrics import confusion_matrix\n",
    "import seaborn as sns\n",
    "from sklearn.metrics import classification_report\n",
    "\n",
    "from obspy.signal.cross_correlation import correlate, xcorr_max\n",
    "\n",
    "\n",
    "sys.path.append('.')\n",
    "sys.path.append('../src/visualization/')\n",
    "\n",
    "import paths\n",
    "from sklearn.cluster import KMeans\n",
    "# import figureFunctions"
   ]
  },
  {
   "cell_type": "code",
   "execution_count": 2,
   "metadata": {},
   "outputs": [],
   "source": [
    "\n",
    "\n",
    "from functions2 import getFeatures, getLocationFeatures,getNMFOrder,resortByNMF,getSpectra_fromWF,getSgram\n",
    "from functions2 import PCAonFP,calcSilhScore,getDailyTempDiff,getSpectraMedian,CalcDiffPeak,PVEofPCA,getTopFCat \n",
    "from functions2 import catMergeFromH5, swapLabels, calcFFT, getWF, swapLabels,trimSpectra, KMeansSpectra, compileSpectraFromWF\n",
    "import figureFunctions2"
   ]
  },
  {
   "cell_type": "markdown",
   "metadata": {},
   "source": [
    "## Define helper functions (move later)"
   ]
  },
  {
   "cell_type": "markdown",
   "metadata": {},
   "source": [
    "## Set paths"
   ]
  },
  {
   "cell_type": "code",
   "execution_count": 3,
   "metadata": {},
   "outputs": [],
   "source": [
    "#%% load project variables: names and paths\n",
    "# key = sys.argv[1]\n",
    "\n",
    "key = \"BB_Gorner_Event_Final_v11_J8\"\n",
    "keyN = \"BB_Gorner_Cont_Final_v10_J8\"\n",
    "\n",
    "\n",
    "filetype = '.gse2'     \n",
    "filetypeN = '.sac' \n",
    "\n",
    "\n",
    "p = paths.returnp(key)\n",
    "pN = paths.returnp(keyN)\n",
    "\n",
    "#%%\n",
    "\n",
    "projName        = p['projName']\n",
    "datasetID       = p['datasetID']\n",
    "projName        = p['projName']\n",
    "station         = p['station']\n",
    "channel         = p['channel']\n",
    "path_top        = p['path_top']\n",
    "path_proj       = p['path_proj']\n",
    "outfile_name    = p['outfile_name']\n",
    "dataFile_name   = p['dataFile_name']\n",
    "path_WF         = p['path_WF']\n",
    "path_Cat        = p['path_Cat'] #original, raw catalog\n",
    "subCatalog_Name = f\"{dataFile_name}_Sgrams_Subcatalog.hdf5\"\n",
    "\n",
    "\n",
    "\n",
    "pathFP          = f'{path_top}{projName}/03_output/{station}/SpecUFEx_output/step4_FEATout/'\n",
    "pathACM         = f'{path_top}{projName}/03_output/{station}/SpecUFEx_output/step2_NMF/'\n",
    "pathSTM         = f'{path_top}{projName}/03_output/{station}/SpecUFEx_output/step4_stateTransMats/'\n",
    "pathEB          = f'{path_top}{projName}/02_src/02_SpecUFEx/EB.mat'\n",
    "pathElnB          = f'{path_top}{projName}/02_src/02_SpecUFEx/ElnB.mat'\n",
    "pathW        = path_proj + '02_src/02_SpecUFEx/out.DictGain.mat' \n",
    "\n",
    "\n",
    "# pathClusCat = path_proj + f\"principalDf_full_{mode}_Kopt{Kopt}.csv\"\n",
    "dataH5_path = path_proj + dataFile_name\n",
    "\n",
    "\n",
    "projNameN        = pN['projName']\n",
    "datasetIDN       = pN['datasetID']\n",
    "projNameN        = pN['projName']\n",
    "station         = pN['station']\n",
    "channel         = pN['channel']\n",
    "\n",
    "\n",
    "path_top        = pN['path_top']\n",
    "path_projN       = pN['path_proj']\n",
    "outfile_nameN    = pN['outfile_name']\n",
    "dataFile_nameN   = pN['dataFile_name']\n",
    "path_WFN         = pN['path_WF']\n",
    "path_CatN        = pN['path_Cat'] #original, raw catalog\n",
    "subCatalog_NameN = f\"{dataFile_name}_Sgrams_Subcatalog.hdf5\"\n",
    "\n",
    "\n",
    "pathACMN         = f'{path_top}{projNameN}/03_output/{station}/SpecUFEx_output/step2_NMF/'\n",
    "pathSTMN         = f'{path_top}{projNameN}/03_output/{station}/SpecUFEx_output/step4_stateTransMats/'\n",
    "pathEBN          = f'{path_top}{projNameN}/02_src/02_SpecUFEx/EB.mat'\n",
    "pathElnBN          = f'{path_top}{projNameN}/02_src/02_SpecUFEx/ElnB.mat'\n",
    "pathWN        = path_projN + '02_src/02_SpecUFEx/out.DictGain.mat' \n",
    "\n",
    "\n",
    "\n",
    "# pathClusCatN = path_projN + f\"principalDf_full_{mode}_Kopt{KoptN}.csv\"\n",
    "dataH5_pathN = path_projN + dataFile_nameN\n",
    "\n",
    "\n",
    "pathFig = '../reports/figures/'\n",
    "pathFigSupp = '../reports/supp_figures/'\n",
    "\n",
    "pathAuxData = '../data/processed/Garcia/'"
   ]
  },
  {
   "cell_type": "markdown",
   "metadata": {},
   "source": [
    "## Load auxiliary data"
   ]
  },
  {
   "cell_type": "code",
   "execution_count": 4,
   "metadata": {},
   "outputs": [],
   "source": [
    "## Load auxiliary catalog\n",
    "\n",
    "gps_station_list = ['24','34','36','37']\n",
    "gps_df_list = []\n",
    "\n",
    "for gst in gps_station_list:\n",
    "    \n",
    "    \n",
    "    gps_df = pd.read_csv(f'{pathAuxData}gps_roll{gst}.csv',index_col=0)\n",
    "    gps_df['datetime'] = [pd.to_datetime(ii) for ii in gps_df.index]\n",
    "    gps_df['datetime_index'] = [pd.to_datetime(ii) for ii in gps_df.index]\n",
    "    gps_df = gps_df.set_index('datetime_index')\n",
    "    \n",
    "    \n",
    "    gps_df_list.append(gps_df)\n",
    "\n",
    "\n",
    "lake_df = pd.read_csv(f'{pathAuxData}lake_df.csv',index_col=0)\n",
    "lake_df['datetime'] = [pd.to_datetime(ii) for ii in lake_df.index]\n",
    "lake_df['datetime_index'] = [pd.to_datetime(ii) for ii in lake_df.index]\n",
    "lake_df = lake_df.set_index('datetime_index')\n",
    "\n",
    "\n",
    "meteor_df = pd.read_csv(f'{pathAuxData}meteor_df.csv',index_col=0)\n",
    "meteor_df['datetime'] = [pd.to_datetime(ii) for ii in meteor_df.index]\n",
    "meteor_df['datetime_index'] = [pd.to_datetime(ii) for ii in meteor_df.index]\n",
    "meteor_df = meteor_df.set_index('datetime_index')\n",
    "\n"
   ]
  },
  {
   "cell_type": "markdown",
   "metadata": {},
   "source": [
    "## Define some important times in study period"
   ]
  },
  {
   "cell_type": "code",
   "execution_count": 5,
   "metadata": {},
   "outputs": [],
   "source": [
    "# timing of lake events \n",
    "tstart = dtt.datetime(2007, 6, 13)\n",
    "tend = dtt.datetime(2007, 7, 23)\n",
    "calvet = dtt.datetime(2007, 7, 1,13,41,35)\n",
    "supraDraint = dtt.datetime(2007, 7, 4)\n",
    "subDraint = dtt.datetime(2007, 7, 7)\n",
    "drainEndt = dtt.datetime(2007, 7, 15)\n"
   ]
  },
  {
   "cell_type": "markdown",
   "metadata": {},
   "source": [
    "## Load cluster catalogs"
   ]
  },
  {
   "cell_type": "code",
   "execution_count": null,
   "metadata": {},
   "outputs": [],
   "source": []
  },
  {
   "cell_type": "code",
   "execution_count": 6,
   "metadata": {},
   "outputs": [],
   "source": [
    "Kopt = 3\n",
    "KoptN = 4\n",
    "\n",
    "cat00 = pd.read_csv('../data/interim/icequakes_k{Kopt}.csv')\n",
    "\n",
    "cat00N = pd.read_csv('../data/interim/noise_k{KoptN}.csv')\n",
    "\n",
    "\n",
    "\n",
    "\n",
    "## convert to datetime, set as index\n",
    "cat00['datetime'] = [pd.to_datetime(i) for i in cat00.datetime]\n",
    "cat00['datetime_index']= [pd.to_datetime(i) for i in cat00.datetime]\n",
    "cat00 = cat00.set_index('datetime_index')\n",
    "\n",
    "\n",
    "## convert to datetime, set as index\n",
    "cat00N['datetime'] = [pd.to_datetime(i) for i in cat00N.datetime]\n",
    "cat00N['datetime_index']= [pd.to_datetime(i) for i in cat00N.datetime]\n",
    "cat00N = cat00N.set_index('datetime_index')"
   ]
  },
  {
   "cell_type": "code",
   "execution_count": 7,
   "metadata": {},
   "outputs": [],
   "source": [
    "numStates = 15"
   ]
  },
  {
   "cell_type": "markdown",
   "metadata": {},
   "source": [
    "## Load station data"
   ]
  },
  {
   "cell_type": "code",
   "execution_count": 8,
   "metadata": {},
   "outputs": [],
   "source": [
    "##station data \n",
    "stn = pd.read_csv(\"../data/raw/stnlst.csv\",\n",
    "                  header=None,\n",
    "                  names=['name','X','Y','Elevation','dX','dY','Depth'])\n",
    "\n",
    "        \n",
    "     "
   ]
  },
  {
   "cell_type": "markdown",
   "metadata": {},
   "source": [
    "## Format day ticks, time plotting\n",
    "\n",
    "* Central European Time is 2 hours later than UTC (Coordinated Universal Time) \n",
    "* Max temp occurs around 16:00 (4pm) local time or, 14:00 (2pm) UTC\n",
    "* All times in UTC\n",
    "\n",
    "\n",
    "todo: fix ::\n",
    "\n",
    "\n",
    "##dummy variable -- just needed to get complete day set -- FIXFIX\n",
    "clus_clu_perday = cat0.event_ID.resample('D', label='left', closed='right').count()"
   ]
  },
  {
   "cell_type": "code",
   "execution_count": 9,
   "metadata": {},
   "outputs": [
    {
     "name": "stdout",
     "output_type": "stream",
     "text": [
      "['6-14', '6-21', '6-28', '7-5', '7-12', '7-19']\n"
     ]
    }
   ],
   "source": [
    "\n",
    "\n",
    "############################################################\n",
    "            ##### FORMAT DAY TICKS (ASSUMES NO DAYS SKIPPED?) ######\n",
    "############################################################\n",
    "tstart = pd.to_datetime('2007-06-14 00:00:00')\n",
    "tend   = pd.to_datetime('2007-07-22 00:00:00')\n",
    "\n",
    "\n",
    "\n",
    "delta_day = 7\n",
    "\n",
    "##dummy variable -- just needed to get complete day set -- FIXFIX\n",
    "clus_clu_perday = cat00.event_ID.resample('D', label='left', closed='right').count()\n",
    "\n",
    "numDays = len(clus_clu_perday)\n",
    "\n",
    "days_list = [clus_clu_perday.index[i] for i in range(numDays)]\n",
    "\n",
    "\n",
    "## these have lots of possible text formats\n",
    "day_labels = [f\"{days_list[d].month}-{days_list[d].date().day}\" for d in range(0,len(days_list),delta_day)]\n",
    "\n",
    "day_ticks = [days_list[d] for d in range(0,len(days_list),delta_day)]\n",
    "\n",
    "\n",
    "# Central European Time is 2 hours later than UTC (Coordinated Universal Time)\n",
    "##max temp is around 4pm local time or 16:00, in UTC it is 14:00 or 2pm\n",
    "#all times in UTC\n",
    "hour_of_approx_max_temp = 14\n",
    "hourMaxTemp = [dtt.datetime(2007, 6, 14,hour_of_approx_max_temp,0,0) + pd.DateOffset(i) for i in range(0,numDays)]\n",
    "\n",
    "hour24labels = [str(r) for r in range(0,24)] #UTC\n",
    "\n",
    "print(day_labels)\n",
    "############################################################\n",
    "############################################################\n",
    "\n",
    "       "
   ]
  },
  {
   "cell_type": "code",
   "execution_count": 10,
   "metadata": {},
   "outputs": [],
   "source": [
    "plt.rcParams['image.cmap']='magma'\n",
    "\n",
    "plt.rcParams.update({'font.size': 8})\n",
    "colors =cm.Paired(np.array([1,5,7,9,2,4,6,8]))\n",
    "\n",
    "\n",
    "## when plotting, add a bit of buffer so bars aren't cut off\n",
    "tlimstart = pd.to_datetime('2007-06-13 12:00:00')\n",
    "tlimend   = pd.to_datetime('2007-07-22 12:00:00')\n",
    "\n",
    "\n",
    "lw1=4        \n",
    "lw2=5\n",
    "alphaT=1\n",
    "ylabfont=8\n",
    "ylabpad =10\n",
    "\n",
    "\n",
    "plt_kwargs = {'lw1':lw1,\n",
    "              'lw2':lw2,\n",
    "              'alphaT':alphaT,\n",
    "              'ylabfont':ylabfont,\n",
    "              'ylabpad':ylabpad,\n",
    "              'colors':colors,\n",
    "#               'scaling':scaling,\n",
    "#               'sgram_mode':sgram_mode,\n",
    "              'hour24labels':hour24labels,\n",
    "              'day_ticks':day_ticks,\n",
    "              'day_labels':day_labels,\n",
    "              'numDays':numDays,\n",
    "              'hourMaxTemp':hourMaxTemp,\n",
    "              'tstart':tlimstart, ## for extending x axis to fit bars\n",
    "              'tend':tlimend,     ## for extending x axis to fit bars\n",
    "              'tstartreal':tstart,## actual study bound\n",
    "              'tendreal':tend,     ## actual study bound\n",
    "              'supraDraint':supraDraint,\n",
    "              'subDraint':subDraint,\n",
    "              'drainEndt':drainEndt}            \n"
   ]
  },
  {
   "cell_type": "markdown",
   "metadata": {},
   "source": [
    "## Specs for figures JGR"
   ]
  },
  {
   "cell_type": "code",
   "execution_count": 11,
   "metadata": {},
   "outputs": [],
   "source": [
    "#quarter page\n",
    "width1 = 3.74016\n",
    "height1 = 4.52756\n",
    "\n",
    "#full page\n",
    "width2 = 7.48031\n",
    "height2 = 9.05512"
   ]
  },
  {
   "cell_type": "markdown",
   "metadata": {},
   "source": [
    "### 10 most representative events"
   ]
  },
  {
   "cell_type": "code",
   "execution_count": 12,
   "metadata": {},
   "outputs": [],
   "source": [
    "topF = 5\n",
    "\n",
    "catRep = getTopFCat(cat00,topF=topF) \n",
    "\n",
    "catRepN = getTopFCat(cat00N,topF=topF)"
   ]
  },
  {
   "cell_type": "code",
   "execution_count": null,
   "metadata": {},
   "outputs": [],
   "source": []
  },
  {
   "cell_type": "markdown",
   "metadata": {},
   "source": [
    "# Figure 10 - Big Map of Icequakes"
   ]
  },
  {
   "cell_type": "code",
   "execution_count": 17,
   "metadata": {},
   "outputs": [
    {
     "data": {
      "image/png": "[encoded data removed]",
      "text/plain": [
       "<Figure size 538.582x325.984 with 1 Axes>"
      ]
     },
     "metadata": {
      "needs_background": "light"
     },
     "output_type": "display_data"
    }
   ],
   "source": [
    "##v3 separate map for each cluster\n",
    "##settings for yellow bars\n",
    "plotMap = 0\n",
    "size1 = 1000\n",
    "a1 = .7\n",
    "\n",
    "k=3\n",
    "plt.rcParams.update({'font.size': 12})\n",
    "\n",
    "\n",
    "# if 'Event' in key:\n",
    "fig,axes = plt.subplots(figsize = (width2,height1))#,sharex=True,constrained_layout=True)\n",
    "\n",
    "\n",
    "gs = gridspec.GridSpec(1,1)\n",
    "\n",
    "# gs.update(wspace=0.02, hspace=0.07)\n",
    "\n",
    "ax = plt.subplot(gs[0])\n",
    "\n",
    "ax.set_aspect('equal')\n",
    "ax.tick_params(axis='x',labelrotation=45)\n",
    "\n",
    "\n",
    "# cat00k = cat00[cat00.Cluster==k]\n",
    "\n",
    "\n",
    "\n",
    "figureFunctions2.plotStations(stn,station,ax=ax)   \n",
    "\n",
    "\n",
    "figureFunctions2.plotMap(cat00,\n",
    "        ax=ax,\n",
    "        colorBy='cluster',\n",
    "        size=3,\n",
    "        lw=1,\n",
    "        alpha=.3,\n",
    "        edgecolor='cluster',\n",
    "        **plt_kwargs); #'oneCluster''cluster';'all';'datetime'\n",
    "\n",
    "\n",
    "figureFunctions2.plotMap(catRep,\n",
    "        ax=ax,\n",
    "        colorBy='cluster',\n",
    "        size=25,\n",
    "        marker='o',\n",
    "        lw=1,\n",
    "        alpha=.6,\n",
    "        edgecolor='None',\n",
    "        **plt_kwargs); #'oneCluster''cluster';'all';'datetime'\n",
    "\n",
    "\n",
    "\n",
    "\n",
    "buff=0\n",
    "ax.set_xlim(cat00.X_m.min()-buff,cat00.X_m.max()+buff)\n",
    "ax.set_ylim(cat00.Y_m.min()-buff,cat00.Y_m.max()+buff)\n",
    "\n",
    "\n",
    "\n",
    "plt.savefig(pathFigSupp + f'Supp_Map_large_{topF}_v3.pdf',bbox_inches='tight')\n",
    "\n"
   ]
  },
  {
   "cell_type": "code",
   "execution_count": null,
   "metadata": {},
   "outputs": [],
   "source": []
  }
 ],
 "metadata": {
  "kernelspec": {
   "display_name": "Python 3",
   "language": "python",
   "name": "python3"
  },
  "language_info": {
   "codemirror_mode": {
    "name": "ipython",
    "version": 3
   },
   "file_extension": ".py",
   "mimetype": "text/x-python",
   "name": "python",
   "nbconvert_exporter": "python",
   "pygments_lexer": "ipython3",
   "version": "3.7.8"
  }
 },
 "nbformat": 4,
 "nbformat_minor": 4
}
