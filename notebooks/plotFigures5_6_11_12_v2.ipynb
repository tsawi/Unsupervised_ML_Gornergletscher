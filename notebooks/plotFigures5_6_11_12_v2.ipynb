{
 "cells": [
  {
   "cell_type": "markdown",
   "metadata": {},
   "source": [
    "# Plot Figures 5 (PCA), 6 (waveforms), 11 (FP) 12 (reconstruct)\n",
    "\n",
    "\n",
    "These figures show clustering metrics and PCA\n",
    "\n",
    "For Sawi et al., 2021\n",
    "\n",
    "\n",
    "#### Todo:\n",
    "\n",
    "* 2D PCA\n",
    "* PCA by timelines, stats\n",
    "* example waveforms --> clustered waveforms\n",
    "* split up waveforms and spectra \n",
    "* spectra -> ACM -> STM for IQ and NS ?"
   ]
  },
  {
   "cell_type": "markdown",
   "metadata": {},
   "source": [
    "## Todo::\n",
    "\n",
    "\n",
    "* Why is cluster assignment changing in k-means even when I set random state to 0? Try 42??"
   ]
  },
  {
   "cell_type": "code",
   "execution_count": 1,
   "metadata": {},
   "outputs": [],
   "source": [
    "import h5py\n",
    "import pandas as pd\n",
    "import numpy as np\n",
    "from matplotlib import pyplot as plt\n",
    "from obspy import read\n",
    "from matplotlib import cm\n",
    "import matplotlib.gridspec as gridspec\n",
    "import os\n",
    "import datetime as dtt\n",
    "import matplotlib.patches\n",
    "import matplotlib.patches as mpatches\n",
    "import matplotlib.dates as mdates\n",
    "import datetime\n",
    "from  sklearn.preprocessing import StandardScaler\n",
    "import sys\n",
    "from matplotlib.patches import Rectangle\n",
    "import sklearn.metrics\n",
    "from scipy import spatial\n",
    "import matplotlib.image as mpimg\n",
    "import obspy\n",
    "from scipy.signal import butter, lfilter\n",
    "import librosa\n",
    "# sys.path.insert(0, '../01_DataPrep')\n",
    "from scipy.io import loadmat\n",
    "from sklearn.decomposition import PCA\n",
    "import scipy.io as spio\n",
    "from sklearn.metrics import silhouette_samples\n",
    "import seaborn as sns\n",
    "import scipy as sp\n",
    "import scipy.io as spio\n",
    "import scipy.signal\n",
    "from sklearn.metrics import confusion_matrix\n",
    "import seaborn as sns\n",
    "from sklearn.metrics import classification_report\n",
    "\n",
    "from obspy.signal.cross_correlation import correlate, xcorr_max\n",
    "\n",
    "\n",
    "sys.path.append('.')\n",
    "sys.path.append('../src/visualization/')\n",
    "\n",
    "import paths\n",
    "from sklearn.cluster import KMeans\n",
    "# import figureFunctions"
   ]
  },
  {
   "cell_type": "code",
   "execution_count": 2,
   "metadata": {},
   "outputs": [],
   "source": [
    "\n",
    "\n",
    "from functions2 import getFeatures, getLocationFeatures,getNMFOrder,resortByNMF,getSpectra_fromWF,getSgram,catMergeFromH5,lagWF,calcCorr_template\n",
    "from functions2 import PCAonFP,calcSilhScore,getDailyTempDiff,getSpectraMedian,CalcDiffPeak,PVEofPCA,getTopFCat, calcCorr_template, calcCCMatrix\n",
    "\n",
    "from functions2 import getSpectra,getFP,getMaxIndexFP,calcFFT, getWF, swapLabels,trimSpectra, KMeansSpectra, compileSpectraFromWF, lagWF\n",
    "import figureFunctions2"
   ]
  },
  {
   "cell_type": "markdown",
   "metadata": {},
   "source": [
    "## Set paths"
   ]
  },
  {
   "cell_type": "code",
   "execution_count": 3,
   "metadata": {},
   "outputs": [],
   "source": [
    "#%% load project variables: names and paths\n",
    "# key = sys.argv[1]\n",
    "\n",
    "key = \"BB_Gorner_Event_Final_v11_J8\"\n",
    "keyN = \"BB_Gorner_Cont_Final_v10_J8\"\n",
    "\n",
    "\n",
    "filetype = '.gse2'     \n",
    "filetypeN = '.sac' \n",
    "\n",
    "\n",
    "p = paths.returnp(key)\n",
    "pN = paths.returnp(keyN)\n",
    "\n",
    "#%%\n",
    "\n",
    "projName        = p['projName']\n",
    "datasetID       = p['datasetID']\n",
    "projName        = p['projName']\n",
    "station         = p['station']\n",
    "channel         = p['channel']\n",
    "path_top        = p['path_top']\n",
    "path_proj       = p['path_proj']\n",
    "outfile_name    = p['outfile_name']\n",
    "dataFile_name   = p['dataFile_name']\n",
    "path_WF         = p['path_WF']\n",
    "path_Cat        = p['path_Cat'] #original, raw catalog\n",
    "subCatalog_Name = f\"{dataFile_name}_Sgrams_Subcatalog.hdf5\"\n",
    "\n",
    "\n",
    "\n",
    "pathFP          = f'{path_top}{projName}/03_output/{station}/SpecUFEx_output/step4_FEATout/'\n",
    "pathACM         = f'{path_top}{projName}/03_output/{station}/SpecUFEx_output/step2_NMF/'\n",
    "pathSTM         = f'{path_top}{projName}/03_output/{station}/SpecUFEx_output/step4_stateTransMats/'\n",
    "pathEB          = f'{path_top}{projName}/02_src/02_SpecUFEx/EB.mat'\n",
    "pathElnB          = f'{path_top}{projName}/02_src/02_SpecUFEx/ElnB.mat'\n",
    "pathW        = path_proj + '02_src/02_SpecUFEx/out.DictGain.mat' \n",
    "\n",
    "\n",
    "# pathClusCat = path_proj + f\"principalDf_full_{mode}_Kopt{Kopt}.csv\"\n",
    "dataH5_path = path_proj + dataFile_name\n",
    "\n",
    "\n",
    "projNameN        = pN['projName']\n",
    "datasetIDN       = pN['datasetID']\n",
    "projNameN        = pN['projName']\n",
    "station         = pN['station']\n",
    "channel         = pN['channel']\n",
    "\n",
    "\n",
    "path_top        = pN['path_top']\n",
    "path_projN       = pN['path_proj']\n",
    "outfile_nameN    = pN['outfile_name']\n",
    "dataFile_nameN   = pN['dataFile_name']\n",
    "path_WFN         = pN['path_WF']\n",
    "path_CatN        = pN['path_Cat'] #original, raw catalog\n",
    "subCatalog_NameN = f\"{dataFile_name}_Sgrams_Subcatalog.hdf5\"\n",
    "\n",
    "\n",
    "pathACMN         = f'{path_top}{projNameN}/03_output/{station}/SpecUFEx_output/step2_NMF/'\n",
    "pathSTMN         = f'{path_top}{projNameN}/03_output/{station}/SpecUFEx_output/step4_stateTransMats/'\n",
    "pathEBN          = f'{path_top}{projNameN}/02_src/02_SpecUFEx/EB.mat'\n",
    "pathElnBN          = f'{path_top}{projNameN}/02_src/02_SpecUFEx/ElnB.mat'\n",
    "pathWN        = path_projN + '02_src/02_SpecUFEx/out.DictGain.mat' \n",
    "\n",
    "\n",
    "\n",
    "# pathClusCatN = path_projN + f\"principalDf_full_{mode}_Kopt{KoptN}.csv\"\n",
    "dataH5_pathN = path_projN + dataFile_nameN\n",
    "\n",
    "\n",
    "pathFig = '../reports/figures/'\n",
    "pathFigSupp = '../reports/supp_figures/'\n",
    "pathAuxData = '../data/processed/Garcia/'"
   ]
  },
  {
   "cell_type": "markdown",
   "metadata": {},
   "source": [
    "## Load auxiliary catalog"
   ]
  },
  {
   "cell_type": "code",
   "execution_count": 4,
   "metadata": {},
   "outputs": [],
   "source": [
    "## Load auxiliary catalog\n",
    "\n",
    "gps_station_list = ['24','34','36','37']\n",
    "gps_df_list = []\n",
    "\n",
    "for gst in gps_station_list:\n",
    "    \n",
    "    \n",
    "    gps_df = pd.read_csv(f'{pathAuxData}gps_roll{gst}.csv',index_col=0)\n",
    "    gps_df['datetime'] = [pd.to_datetime(ii) for ii in gps_df.index]\n",
    "    gps_df['datetime_index'] = [pd.to_datetime(ii) for ii in gps_df.index]\n",
    "    gps_df = gps_df.set_index('datetime_index')\n",
    "    \n",
    "    \n",
    "    gps_df_list.append(gps_df)\n",
    "\n",
    "\n",
    "lake_df = pd.read_csv(f'{pathAuxData}lake_df.csv',index_col=0)\n",
    "lake_df['datetime'] = [pd.to_datetime(ii) for ii in lake_df.index]\n",
    "lake_df['datetime_index'] = [pd.to_datetime(ii) for ii in lake_df.index]\n",
    "lake_df = lake_df.set_index('datetime_index')\n",
    "\n",
    "\n",
    "meteor_df = pd.read_csv(f'{pathAuxData}meteor_df.csv',index_col=0)\n",
    "meteor_df['datetime'] = [pd.to_datetime(ii) for ii in meteor_df.index]\n",
    "meteor_df['datetime_index'] = [pd.to_datetime(ii) for ii in meteor_df.index]\n",
    "meteor_df = meteor_df.set_index('datetime_index')\n",
    "\n"
   ]
  },
  {
   "cell_type": "markdown",
   "metadata": {},
   "source": [
    "## Define some important times in study period"
   ]
  },
  {
   "cell_type": "code",
   "execution_count": 5,
   "metadata": {},
   "outputs": [],
   "source": [
    "# timing of lake events \n",
    "tstart = dtt.datetime(2007, 6, 13)\n",
    "tend = dtt.datetime(2007, 7, 23)\n",
    "calvet = dtt.datetime(2007, 7, 1,13,41,35)\n",
    "supraDraint = dtt.datetime(2007, 7, 4)\n",
    "subDraint = dtt.datetime(2007, 7, 7)\n",
    "drainEndt = dtt.datetime(2007, 7, 15)\n"
   ]
  },
  {
   "cell_type": "markdown",
   "metadata": {},
   "source": [
    "## Load original catalogs"
   ]
  },
  {
   "cell_type": "code",
   "execution_count": 6,
   "metadata": {},
   "outputs": [
    {
     "name": "stdout",
     "output_type": "stream",
     "text": [
      "1411 events kept, merge sucessful\n",
      "1521 events kept, merge sucessful\n"
     ]
    }
   ],
   "source": [
    "cat00 = catMergeFromH5(path_Cat,path_proj,outfile_name)\n",
    "cat00N = catMergeFromH5(path_CatN,path_projN,outfile_nameN)"
   ]
  },
  {
   "cell_type": "markdown",
   "metadata": {},
   "source": [
    "## Load station data"
   ]
  },
  {
   "cell_type": "code",
   "execution_count": 7,
   "metadata": {},
   "outputs": [],
   "source": [
    "##station data \n",
    "stn = pd.read_csv(\"../data/raw/stnlst.csv\",\n",
    "                  header=None,\n",
    "                  names=['name','X','Y','Elevation','dX','dY','Depth'])\n",
    "\n",
    "        \n",
    "     "
   ]
  },
  {
   "cell_type": "markdown",
   "metadata": {},
   "source": [
    "## Get experiment parameters from H5 file"
   ]
  },
  {
   "cell_type": "code",
   "execution_count": 8,
   "metadata": {},
   "outputs": [
    {
     "data": {
      "text/plain": [
       "(1411, 1521)"
      ]
     },
     "execution_count": 8,
     "metadata": {},
     "output_type": "execute_result"
    }
   ],
   "source": [
    "len(cat00),len(cat00N)\n",
    "# BB_Gorner_Event_Final_v11_J8\n",
    "# BB_Gorner_Cont_Final_v10_J8"
   ]
  },
  {
   "cell_type": "code",
   "execution_count": 9,
   "metadata": {},
   "outputs": [],
   "source": [
    "#########       #########       #########       #########       #########       #########       #########       #########       \n",
    "\n",
    "####IQIQIQIQIQIQIQIQI\n",
    "\n",
    "#########       #########       #########       #########       #########       #########       #########       #########       \n",
    "\n",
    "\n",
    "\n",
    "with h5py.File(path_proj + dataFile_name,'r') as dataFile:\n",
    "\n",
    "    lenData = dataFile['processing_info/'].get('lenData')[()]\n",
    "    fs = dataFile['spec_parameters/'].get('fs')[()]\n",
    "    \n",
    "    # fmin = \n",
    "    nperseg = dataFile['spec_parameters/'].get('nperseg')[()]\n",
    "    noverlap = dataFile['spec_parameters/'].get('noverlap')[()]\n",
    "    nfft = dataFile['spec_parameters/'].get('nfft')[()]\n",
    "\n",
    "\n",
    "    fmax = dataFile['spec_parameters/'].get('fmax')[()]\n",
    "    fmax = np.ceil(fmax)\n",
    "    fmin = dataFile['spec_parameters/'].get('fmin')[()]\n",
    "    fmin = np.floor(fmin)    \n",
    "    fSTFT = dataFile['spec_parameters/'].get('fSTFT')[()]\n",
    "    tSTFT = dataFile['spec_parameters/'].get('tSTFT')[()]\n",
    "    \n",
    "    sgram_mode = dataFile['spec_parameters/'].get('mode')[()].decode('utf-8')\n",
    "    scaling = dataFile['spec_parameters/'].get('scaling')[()].decode('utf-8')\n",
    "    \n",
    "    \n",
    "fs = int(np.ceil(fs))\n",
    "winLen_Sec = float(nperseg / fs)\n",
    "\n",
    "\n",
    "#########       #########       #########       #########       #########       #########       #########       #########       \n",
    "\n",
    "##### NOISENOISENOISENOISENOISE\n",
    "\n",
    "#########       #########       #########       #########       #########       #########       #########       #########       \n",
    "\n",
    "\n",
    "with h5py.File(path_projN + dataFile_nameN,'r') as dataFile:\n",
    "\n",
    "    lenDataN = dataFile['processing_info/'].get('lenData')[()]\n",
    "    fsN = dataFile['spec_parameters/'].get('fs')[()]\n",
    "    \n",
    "    # fminN = \n",
    "    npersegN = dataFile['spec_parameters/'].get('nperseg')[()]\n",
    "    noverlapN = dataFile['spec_parameters/'].get('noverlap')[()]\n",
    "    nfftN = dataFile['spec_parameters/'].get('nfft')[()]\n",
    "\n",
    "\n",
    "    fmaxN = dataFile['spec_parameters/'].get('fmax')[()]\n",
    "    fmaxN = np.ceil(fmaxN)\n",
    "    fminN = dataFile['spec_parameters/'].get('fmin')[()]\n",
    "    fminN = np.floor(fminN)    \n",
    "    fSTFTN = dataFile['spec_parameters/'].get('fSTFT')[()]\n",
    "    tSTFTN = dataFile['spec_parameters/'].get('tSTFT')[()]\n",
    "    \n",
    "    sgram_modeN = dataFile['spec_parameters/'].get('mode')[()].decode('utf-8')\n",
    "    scalingN = dataFile['spec_parameters/'].get('scaling')[()].decode('utf-8')\n",
    "    \n",
    "    \n",
    "fsN = int(np.ceil(fsN))\n",
    "winLen_SecN = float(npersegN / fsN)\n",
    "\n"
   ]
  },
  {
   "cell_type": "markdown",
   "metadata": {},
   "source": [
    "## Load specufex output"
   ]
  },
  {
   "cell_type": "code",
   "execution_count": 10,
   "metadata": {},
   "outputs": [],
   "source": [
    "\n",
    "#########       #########       #########       #########       #########       #########       #########       #########       \n",
    "\n",
    "## specufex output - IQIQIQIQIQIQIQIQIQIQ\n",
    " \n",
    "#########       #########       #########       #########       #########       #########       #########       #########       Wmat = loadmat(pathW)\n",
    "\n",
    "Wmat = loadmat(pathW)\n",
    "EBmat = loadmat(pathEB)\n",
    "\n",
    "W = Wmat.get('W1')\n",
    "EB = EBmat.get('EB')\n",
    "\n",
    "\n",
    "\n",
    "numPatterns = len(W[1])\n",
    "Nfreqs = len(W)\n",
    "numStates = EB.shape[0]\n",
    "\n",
    "\n",
    "\n",
    "order_swap = getNMFOrder(W,numPatterns)\n",
    "W_new = resortByNMF(W,order_swap)\n",
    "EB_new = resortByNMF(EB,order_swap)\n",
    "\n",
    "RMM = W_new @ EB_new.T\n",
    "\n",
    "#########       #########       #########       #########       #########       #########       #########       #########       \n",
    "\n",
    "## specufex output - NOISENOISENOINSENOISE\n",
    "\n",
    "#########       #########       #########       #########       #########       #########       #########       #########       \n",
    "\n",
    "\n",
    "WmatN = loadmat(pathWN)\n",
    "EBmatN = loadmat(pathEBN)\n",
    "\n",
    "WN = WmatN.get('W1')\n",
    "EBN = EBmatN.get('EB')\n",
    "\n",
    "\n",
    "\n",
    "numPatternsN = len(WN[1])\n",
    "NfreqsN = len(WN)\n",
    "numStatesN = EBN.shape[0]\n",
    "\n",
    "\n",
    "order_swapN = getNMFOrder(WN,numPatternsN)\n",
    "W_newN = resortByNMF(WN,order_swapN)\n",
    "EB_newN = resortByNMF(EBN,order_swapN)\n",
    "\n",
    "RMMN = W_newN @ EB_newN.T"
   ]
  },
  {
   "cell_type": "markdown",
   "metadata": {},
   "source": [
    "## Format day ticks, time plotting\n",
    "\n",
    "* Central European Time is 2 hours later than UTC (Coordinated Universal Time) \n",
    "* Max temp occurs around 16:00 (4pm) local time or, 14:00 (2pm) UTC\n",
    "* All times in UTC\n",
    "\n",
    "\n",
    "todo: fix ::\n",
    "\n",
    "\n",
    "##dummy variable -- just needed to get complete day set -- FIXFIX\n",
    "clus_clu_perday = cat0.event_ID.resample('D', label='left', closed='right').count()"
   ]
  },
  {
   "cell_type": "code",
   "execution_count": 11,
   "metadata": {},
   "outputs": [
    {
     "name": "stdout",
     "output_type": "stream",
     "text": [
      "['6-14', '6-21', '6-28', '7-5', '7-12', '7-19']\n"
     ]
    }
   ],
   "source": [
    "\n",
    "\n",
    "############################################################\n",
    "            ##### FORMAT DAY TICKS (ASSUMES NO DAYS SKIPPED?) ######\n",
    "############################################################\n",
    "tstart = pd.to_datetime('2007-06-14 00:00:00')\n",
    "tend   = pd.to_datetime('2007-07-22 00:00:00')\n",
    "\n",
    "\n",
    "\n",
    "delta_day = 7\n",
    "\n",
    "##dummy variable -- just needed to get complete day set -- FIXFIX\n",
    "clus_clu_perday = cat00.event_ID.resample('D', label='left', closed='right').count()\n",
    "\n",
    "numDays = len(clus_clu_perday)\n",
    "\n",
    "days_list = [clus_clu_perday.index[i] for i in range(numDays)]\n",
    "\n",
    "\n",
    "## these have lots of possible text formats\n",
    "day_labels = [f\"{days_list[d].month}-{days_list[d].date().day}\" for d in range(0,len(days_list),delta_day)]\n",
    "\n",
    "day_ticks = [days_list[d] for d in range(0,len(days_list),delta_day)]\n",
    "\n",
    "\n",
    "# Central European Time is 2 hours later than UTC (Coordinated Universal Time)\n",
    "##max temp is around 4pm local time or 16:00, in UTC it is 14:00 or 2pm\n",
    "#all times in UTC\n",
    "hour_of_approx_max_temp = 14\n",
    "hourMaxTemp = [dtt.datetime(2007, 6, 14,hour_of_approx_max_temp,0,0) + pd.DateOffset(i) for i in range(0,numDays)]\n",
    "\n",
    "hour24labels = [str(r) for r in range(0,24)] #UTC\n",
    "\n",
    "print(day_labels)\n",
    "############################################################\n",
    "############################################################\n",
    "\n",
    "       "
   ]
  },
  {
   "cell_type": "code",
   "execution_count": null,
   "metadata": {},
   "outputs": [],
   "source": []
  },
  {
   "cell_type": "code",
   "execution_count": 12,
   "metadata": {},
   "outputs": [],
   "source": [
    "plt.rcParams['image.cmap']='magma'\n",
    "\n",
    "plt.rcParams.update({'font.size': 8})\n",
    "colors =cm.Paired(np.array([1,5,7,9,2,4,6,8]))\n",
    "\n",
    "\n",
    "## when plotting, add a bit of buffer so bars aren't cut off\n",
    "tlimstart = pd.to_datetime('2007-06-13 12:00:00')\n",
    "tlimend   = pd.to_datetime('2007-07-22 12:00:00')\n",
    "\n",
    "\n",
    "lw1=4        \n",
    "lw2=5\n",
    "alphaT=1\n",
    "ylabfont=8\n",
    "ylabpad =10\n",
    "\n",
    "\n",
    "plt_kwargs = {'lw1':lw1,\n",
    "              'lw2':lw2,\n",
    "              'alphaT':alphaT,\n",
    "              'ylabfont':ylabfont,\n",
    "              'ylabpad':ylabpad,\n",
    "              'colors':colors,\n",
    "              'scaling':scaling,\n",
    "              'sgram_mode':sgram_mode,\n",
    "              'hour24labels':hour24labels,\n",
    "              'day_ticks':day_ticks,\n",
    "              'day_labels':day_labels,\n",
    "              'numDays':numDays,\n",
    "              'hourMaxTemp':hourMaxTemp,\n",
    "              'tstart':tlimstart, ## for extending x axis to fit bars\n",
    "              'tend':tlimend,     ## for extending x axis to fit bars\n",
    "              'tstartreal':tstart,## actual study bound\n",
    "              'tendreal':tend     ## actual study bound\n",
    "             }"
   ]
  },
  {
   "cell_type": "markdown",
   "metadata": {},
   "source": [
    "## Specs for figures JGR"
   ]
  },
  {
   "cell_type": "code",
   "execution_count": 13,
   "metadata": {},
   "outputs": [],
   "source": [
    "#quarter page\n",
    "width1 = 3.74016\n",
    "height1 = 4.52756\n",
    "\n",
    "#full page\n",
    "width2 = 7.48031\n",
    "height2 = 9.05512"
   ]
  },
  {
   "cell_type": "markdown",
   "metadata": {},
   "source": [
    "# Figure 5 - Reduce dimensionality, visualize PC plots by time, hour, cluster\n",
    "\n",
    "* Perform PCA on FPs \n",
    "* Calculate PVE (percent variance explained) for each PC, and keep enouch PCs to capture XX% of variance\n",
    "* Cluster using Kmeans \n",
    "* Choose cluster based on highest mean silhouette score\n"
   ]
  },
  {
   "cell_type": "code",
   "execution_count": 14,
   "metadata": {},
   "outputs": [
    {
     "name": "stdout",
     "output_type": "stream",
     "text": [
      "1 0.141772319308\n",
      "2 0.225535762943\n",
      "3 0.277379352227\n",
      "4 0.312981183612\n",
      "5 0.343504089454\n",
      "6 0.372574610883\n",
      "7 0.39888818466\n",
      "8 0.420888306039\n",
      "9 0.439342434448\n",
      "10 0.456416177236\n",
      "11 0.472883686373\n",
      "12 0.488665381454\n",
      "13 0.503515947857\n",
      "14 0.517479577234\n",
      "15 0.530735695111\n",
      "16 0.543709164513\n",
      "17 0.556273164823\n",
      "18 0.568415605257\n",
      "19 0.580153193487\n",
      "20 0.591266998085\n",
      "21 0.602310226354\n",
      "22 0.612584376085\n",
      "23 0.621883358605\n",
      "24 0.631150968549\n",
      "25 0.639849144413\n",
      "26 0.648524618335\n",
      "27 0.656948225199\n",
      "28 0.665544633468\n",
      "29 0.673233938607\n",
      "30 0.68063723122\n",
      "31 0.687616088793\n",
      "32 0.694964585548\n",
      "33 0.702000509548\n",
      "34 0.708871034359\n",
      "35 0.715585390378\n",
      "36 0.722341252619\n",
      "37 0.728699116709\n",
      "38 0.734758421154\n",
      "39 0.740986289413\n",
      "40 0.747050972521\n",
      "41 0.752670917635\n",
      "42 0.758482659922\n",
      "43 0.764102881579\n",
      "44 0.769477857128\n",
      "45 0.774658255044\n",
      "46 0.779748855001\n",
      "47 0.78479405\n",
      "48 0.789884039672\n",
      "49 0.79462473914\n",
      "50 0.799329137399\n",
      "51 0.803771788858\n",
      "52 0.808341927967\n",
      "53 0.8126707773\n",
      "54 0.816667540033\n",
      "55 0.820801476116\n",
      "56 0.824870732639\n",
      "57 0.828693179741\n",
      "58 0.832674946568\n",
      "59 0.836351855203\n",
      "60 0.839940210799\n",
      "61 0.843551003761\n",
      "62 0.846752357025\n",
      "63 0.850306615623\n",
      "64 0.853499173832\n",
      "65 0.856987249822\n",
      "66 0.860097895794\n",
      "break\n",
      "1 0.562551\n",
      "2 0.756501\n",
      "3 0.860942\n",
      "break\n"
     ]
    }
   ],
   "source": [
    "\n",
    "PCA_df, numPCA_PVE, cum_pve = PVEofPCA(path_proj,outfile_name,cat00,numPCMax=numStates**2,cum_pve_thresh=.86,stand=False);\n",
    "PCA_dfN, numPCA_PVEN, cum_pveN = PVEofPCA(path_projN,outfile_nameN,cat00N,numPCMax=numStates**2,cum_pve_thresh=.86,stand=False)\n",
    "\n"
   ]
  },
  {
   "cell_type": "code",
   "execution_count": 15,
   "metadata": {},
   "outputs": [
    {
     "name": "stdout",
     "output_type": "stream",
     "text": [
      "\n",
      " For icequakes, 86.01% of variance explained by the first 66 principal components\n",
      "\n",
      " For noise, 86.09% of variance explained by the first 3 principal components\n"
     ]
    }
   ],
   "source": [
    "print(f'\\n For icequakes, {100*cum_pve:.2f}% of variance explained by the first {numPCA_PVE} principal components')\n",
    "print(f'\\n For noise, {100*cum_pveN:.2f}% of variance explained by the first {numPCA_PVEN} principal components')"
   ]
  },
  {
   "cell_type": "code",
   "execution_count": 16,
   "metadata": {},
   "outputs": [],
   "source": [
    "stand = False #standard scalar before PCA\n",
    "\n",
    "\n",
    "#returns a PCA sklearn object, a dataframe of cat00 but with columns for PCs, and a numpy array of PCs (N x numPC)\n",
    "\n",
    "sklearn_pca, cat00, Y_PCA = PCAonFP(path_proj,outfile_name,cat00,numPCA=numPCA_PVE,stand=stand)\n",
    "sklearn_pcaN, cat00N, Y_PCAN = PCAonFP(path_projN,outfile_nameN,cat00N,numPCA=numPCA_PVEN,stand=stand)\n"
   ]
  },
  {
   "cell_type": "markdown",
   "metadata": {},
   "source": [
    "## PCA plot colored by datetime"
   ]
  },
  {
   "cell_type": "code",
   "execution_count": 17,
   "metadata": {},
   "outputs": [],
   "source": [
    "hour_list = [h.hour for h in cat00.datetime]\n",
    "hour_listN = [h.hour for h in cat00N.datetime]\n",
    "\n",
    "cat00['hod'] = hour_list\n",
    "cat00N['hod'] = hour_listN"
   ]
  },
  {
   "cell_type": "code",
   "execution_count": 18,
   "metadata": {},
   "outputs": [],
   "source": [
    "\n",
    "series_datetime = cat00.datetime\n",
    "series_datetimeN = cat00N.datetime\n",
    "\n",
    "\n",
    "series_hour = cat00.hod\n",
    "series_hourN = cat00N.hod\n"
   ]
  },
  {
   "cell_type": "markdown",
   "metadata": {},
   "source": [
    "# Figure 6 - clustering results [using mean silh score, not median -- outliers should influence clustering]"
   ]
  },
  {
   "cell_type": "markdown",
   "metadata": {},
   "source": [
    "## Clustering using Kmeans, validating using silhouette score"
   ]
  },
  {
   "cell_type": "code",
   "execution_count": 19,
   "metadata": {},
   "outputs": [
    {
     "name": "stdout",
     "output_type": "stream",
     "text": [
      "kmeans on 2 clusters...\n",
      "kmeans on 3 clusters...\n",
      "kmeans on 4 clusters...\n",
      "kmeans on 5 clusters...\n",
      "kmeans on 6 clusters...\n",
      "kmeans on 7 clusters...\n",
      "kmeans on 8 clusters...\n",
      "kmeans on 9 clusters...\n",
      "kmeans on 10 clusters...\n",
      "Best cluster: 3\n",
      "Event optimum number of clusters::  3\n",
      "kmeans on 2 clusters...\n",
      "kmeans on 3 clusters...\n",
      "kmeans on 4 clusters...\n",
      "kmeans on 5 clusters...\n",
      "kmeans on 6 clusters...\n",
      "kmeans on 7 clusters...\n",
      "kmeans on 8 clusters...\n",
      "kmeans on 9 clusters...\n",
      "kmeans on 10 clusters...\n",
      "Best cluster: 4\n",
      "Noise optimum number of clusters::  4\n"
     ]
    }
   ],
   "source": [
    "## silh score and validation\n",
    "##making rep catalog\n",
    "\n",
    "\n",
    "##can force K here\n",
    "Kmax=10\n",
    "range_n_clusters_all = list(range(2,Kmax+1))\n",
    "\n",
    "\n",
    "cat00, catall, Kopt, maxSilScore, avgSils, sse,cluster_labels_best,ss_best,euc_dist_best = calcSilhScore(path_proj,outfile_name,cat00,range_n_clusters_all,numPCA=numPCA_PVE,Xtype='fingerprints', distMeasure = \"SilhScore\",stand=stand);\n",
    "\n",
    "print('Event optimum number of clusters:: ',Kopt)\n",
    "\n",
    "\n",
    "cat00N, catallN, KoptN, maxSilScoreN, avgSilsN, sseN,cluster_labels_bestN,ss_bestN,euc_dist_bestN = calcSilhScore(path_projN,outfile_nameN,cat00N,range_n_clusters_all,numPCA=numPCA_PVEN,Xtype='fingerprints',distMeasure = \"SilhScore\", stand=stand);\n",
    "\n",
    "\n",
    "print('Noise optimum number of clusters:: ',KoptN)\n",
    "\n",
    "\n",
    "\n",
    "cat00.to_csv('../data/interim/icequakes_k{Kopt}.csv')\n",
    "cat00N.to_csv('../data/interim/noise_k{KoptN}.csv')\n",
    "\n"
   ]
  },
  {
   "cell_type": "code",
   "execution_count": 20,
   "metadata": {},
   "outputs": [
    {
     "name": "stdout",
     "output_type": "stream",
     "text": [
      "164\n",
      "445\n",
      "802\n",
      "\n",
      "\n",
      "601\n",
      "215\n",
      "353\n",
      "352\n"
     ]
    }
   ],
   "source": [
    "for k in range(1,Kopt+1):\n",
    "    print(len(cat00[cat00.Cluster==k]))\n",
    "\n",
    "    \n",
    "print('\\n')\n",
    "for k in range(1,KoptN+1):\n",
    "    print(len(cat00N[cat00N.Cluster==k]))"
   ]
  },
  {
   "cell_type": "code",
   "execution_count": 21,
   "metadata": {},
   "outputs": [
    {
     "data": {
      "text/plain": [
       "(0.10656102125209198,\n",
       " [0.10133276668598813,\n",
       "  0.10656102125209198,\n",
       "  0.067372122505064858,\n",
       "  0.059426229815130176,\n",
       "  0.054708525075542878,\n",
       "  0.057379503703075742,\n",
       "  0.057353986437424613,\n",
       "  0.048533871821583349,\n",
       "  0.045194233573216794])"
      ]
     },
     "execution_count": 21,
     "metadata": {},
     "output_type": "execute_result"
    }
   ],
   "source": [
    "maxSilScore, avgSils"
   ]
  },
  {
   "cell_type": "markdown",
   "metadata": {},
   "source": [
    "## Plot PCA with {topF} most representative events"
   ]
  },
  {
   "cell_type": "code",
   "execution_count": 22,
   "metadata": {},
   "outputs": [],
   "source": [
    "topF = 20\n",
    "\n",
    "catRep = getTopFCat(cat00,topF=topF)\n",
    "\n",
    "catRepN = getTopFCat(cat00N,topF=topF)"
   ]
  },
  {
   "cell_type": "markdown",
   "metadata": {},
   "source": [
    "# Plot 5 -- PCA with cluster assignment\n",
    "\n",
    "The red cluster has many identical fingerprints (n=555/601) with really high silh scores (>.92), and so they exaggerate the mean silhouette score for the noise clusters."
   ]
  },
  {
   "cell_type": "code",
   "execution_count": 23,
   "metadata": {},
   "outputs": [
    {
     "name": "stdout",
     "output_type": "stream",
     "text": [
      "3 4\n"
     ]
    },
    {
     "data": {
      "image/png": "[encoded data removed]",
      "text/plain": [
       "<Figure size 538.582x325.984 with 3 Axes>"
      ]
     },
     "metadata": {
      "needs_background": "light"
     },
     "output_type": "display_data"
    }
   ],
   "source": [
    "## Plot PCA by datetime, show rep events\n",
    "tfont=14\n",
    "plt.rcParams.update({'font.size': 10})\n",
    "\n",
    "\n",
    "print(Kopt,KoptN)\n",
    "\n",
    "fig,axes = plt.subplots(figsize = (width2,height1))\n",
    "plt.box(False)\n",
    "plt.xticks(ticks=[])\n",
    "plt.yticks(ticks=[])\n",
    "cmap=cm.get_cmap('rainbow')\n",
    "\n",
    "\n",
    "size_dot = 4\n",
    "alpha_dot = .3\n",
    "size_rep = 25\n",
    "\n",
    "label_fontsize = fontsize = 8\n",
    "\n",
    "\n",
    "\n",
    "\n",
    "\n",
    "ax = fig.add_subplot(121, projection='3d')\n",
    "figureFunctions2.plotPCA(cat00,catRep,Kopt, size=size_dot,size2=size_rep, alpha=alpha_dot,labelpad = 5,fontsize=fontsize,ax=ax, fig=fig, **plt_kwargs)\n",
    "ax.set_xlim(-.3,.5)\n",
    "ax.set_ylim(-.2,.4)    \n",
    "ax.set_zlim(-.3,.4)\n",
    "\n",
    "\n",
    "\n",
    "\n",
    "ax = fig.add_subplot(122, projection='3d')\n",
    "figureFunctions2.plotPCA(cat00N,catRepN,KoptN, size=size_dot,size2=size_rep, alpha=alpha_dot,labelpad = 5,fontsize=fontsize,ax=ax, fig=fig, **plt_kwargs)\n",
    "\n",
    "\n",
    "\n",
    "plt.subplots_adjust(wspace=0.3)\n",
    "\n",
    "\n",
    "\n",
    "\n",
    "plt.savefig(pathFig + 'Figure_5.png')"
   ]
  },
  {
   "cell_type": "markdown",
   "metadata": {},
   "source": [
    "# PLOT PCA 2D"
   ]
  },
  {
   "cell_type": "code",
   "execution_count": 24,
   "metadata": {},
   "outputs": [
    {
     "name": "stdout",
     "output_type": "stream",
     "text": [
      "3 4\n"
     ]
    },
    {
     "data": {
      "image/png": "[encoded data removed]",
      "text/plain": [
       "<Figure size 538.582x325.984 with 1 Axes>"
      ]
     },
     "metadata": {},
     "output_type": "display_data"
    }
   ],
   "source": [
    "## Plot PCA by datetime, show rep events\n",
    "tfont=14\n",
    "plt.rcParams.update({'font.size': 10})\n",
    "\n",
    "\n",
    "print(Kopt,KoptN)\n",
    "\n",
    "fig,axes = plt.subplots(figsize = (width2,height1))\n",
    "plt.box(False)\n",
    "plt.xticks(ticks=[])\n",
    "plt.yticks(ticks=[])\n",
    "cmap=cm.get_cmap('rainbow')\n",
    "\n",
    "\n",
    "size_dot = 4\n",
    "alpha_dot = .3\n",
    "size_rep = 25\n",
    "\n",
    "label_fontsize = fontsize = 8\n",
    "\n",
    "\n",
    "\n",
    "\n",
    "\n",
    "# ax = fig.add_subplot(121, projection='3d')\n",
    "figureFunctions2.plotPCA2D(cat00,catRep,Kopt, size=size_dot,size2=size_rep, alpha=alpha_dot,labelpad = 5,fontsize=fontsize,ax=ax, fig=fig, **plt_kwargs)\n",
    "ax.set_xlim(-.3,.5)\n",
    "ax.set_ylim(-.2,.4)    \n",
    "ax.set_zlim(-.3,.4)\n",
    "\n",
    "\n",
    "\n",
    "\n",
    "# ax = fig.add_subplot(122, projection='3d')\n",
    "figureFunctions2.plotPCA2D(cat00N,catRepN,KoptN, size=size_dot,size2=size_rep, alpha=alpha_dot,labelpad = 5,fontsize=fontsize,ax=ax, fig=fig, **plt_kwargs)\n",
    "\n",
    "\n",
    "\n",
    "plt.subplots_adjust(wspace=0.3)\n",
    "\n",
    "\n",
    "\n",
    "\n",
    "plt.savefig(pathFig + 'Figure_5.png')"
   ]
  },
  {
   "cell_type": "code",
   "execution_count": null,
   "metadata": {},
   "outputs": [],
   "source": []
  },
  {
   "cell_type": "code",
   "execution_count": null,
   "metadata": {},
   "outputs": [],
   "source": []
  },
  {
   "cell_type": "markdown",
   "metadata": {},
   "source": [
    "### plot figure 5 silhScore"
   ]
  },
  {
   "cell_type": "code",
   "execution_count": 25,
   "metadata": {},
   "outputs": [
    {
     "data": {
      "image/png": "[encoded data removed]",
      "text/plain": [
       "<Figure size 538.582x325.984 with 3 Axes>"
      ]
     },
     "metadata": {
      "needs_background": "light"
     },
     "output_type": "display_data"
    }
   ],
   "source": [
    "xlabelsize=10\n",
    "\n",
    "fig,axes = plt.subplots(figsize = (width2,height1))\n",
    "plt.box(False)\n",
    "plt.xticks(ticks=[])\n",
    "plt.yticks(ticks=[])\n",
    "cmap=cm.get_cmap('rainbow')\n",
    "\n",
    "### Plot silh Scores\n",
    "ax = fig.add_subplot(223)\n",
    "figureFunctions2.plotSilhScore(Kopt, avgSils, range_n_clusters_all,starSize=15,ax=ax)\n",
    "ax.set_xlim(2,10)\n",
    "ax.set_ylim(.04,.12)\n",
    "ax.xaxis.label.set_size(xlabelsize)\n",
    "\n",
    "ax = fig.add_subplot(224)\n",
    "figureFunctions2.plotSilhScore(KoptN, avgSilsN, range_n_clusters_all,starSize=15,ax=ax)\n",
    "plt.subplots_adjust(wspace=0.4,hspace=0.1)\n",
    "ax.set_xlim(2,10)\n",
    "ax.set_ylim(.56,.64)\n",
    "ax.xaxis.label.set_size(xlabelsize)\n",
    "\n",
    "\n",
    "plt.subplots_adjust(wspace=0.5,hspace=0.1)\n",
    "\n",
    "\n",
    "plt.savefig(pathFig + 'Figure_5_silhScore.png')"
   ]
  },
  {
   "cell_type": "code",
   "execution_count": 26,
   "metadata": {},
   "outputs": [
    {
     "data": {
      "text/plain": [
       "(0.10656102125209198, 0.62581497)"
      ]
     },
     "execution_count": 26,
     "metadata": {},
     "output_type": "execute_result"
    }
   ],
   "source": [
    "maxSilScore,maxSilScoreN"
   ]
  },
  {
   "cell_type": "markdown",
   "metadata": {},
   "source": [
    "# Figure 6 rep wf spectra and reconstructed spectra"
   ]
  },
  {
   "cell_type": "code",
   "execution_count": 27,
   "metadata": {},
   "outputs": [],
   "source": [
    "# # Finding CC and Lag matrices for top {20} events\n",
    "# shift_cc = lenData\n",
    "# shift_ccN = lenDataN\n",
    "# topF = 20\n",
    "# catRep = getTopFCat(cat00,topF=topF) \n",
    "# catRepN = getTopFCat(cat00N,topF=topF)\n",
    "\n",
    "# print(f'calculating IQ CC topF = {topF}...')\n",
    "# cc_mat,lag_mat = calcCCMatrix(catRep,lenData,dataH5_path,station,channel,fmin,fmax,fs)\n",
    "\n",
    "# print(f'calculating NS CC topF = {topF}...')\n",
    "\n",
    "# cc_matN,lag_matN = calcCCMatrix(catRepN,lenDataN,dataH5_pathN,station,channel,fminN,fmaxN,fsN)\n",
    "\n",
    "# print(f'saving...')\n",
    "\n",
    "# np.save(f'../data/interim/ccLagMat_top{topF}_SS.npy',lag_mat)\n",
    "# np.save(f'../data/interim/ccLagMat_top{topF}_SS_N.npy',lag_matN)\n",
    "\n",
    "# np.save(f'../data/interim/ccMat_top{topF}_SS.npy',cc_mat)\n",
    "# np.save(f'../data/interim/ccMat_top{topF}_SS_N.npy',cc_matN)\n"
   ]
  },
  {
   "cell_type": "code",
   "execution_count": 28,
   "metadata": {},
   "outputs": [
    {
     "data": {
      "text/plain": [
       "(80, 80)"
      ]
     },
     "execution_count": 28,
     "metadata": {},
     "output_type": "execute_result"
    }
   ],
   "source": [
    "topF = 20 \n",
    "\n",
    "catRep = getTopFCat(cat00,topF)\n",
    "catRepN = getTopFCat(cat00N,topF)\n",
    "\n",
    "lag_mat = np.load(f'../data/interim/ccLagMat_top{topF}_SS.npy')\n",
    "lag_matN = np.load(f'../data/interim/ccLagMat_top{topF}_SS_N.npy')\n",
    "\n",
    "lag_matN.shape"
   ]
  },
  {
   "cell_type": "code",
   "execution_count": 29,
   "metadata": {},
   "outputs": [
    {
     "data": {
      "image/png": "[encoded data removed]",
      "text/plain": [
       "<Figure size 538.582x651.969 with 8 Axes>"
      ]
     },
     "metadata": {
      "needs_background": "light"
     },
     "output_type": "display_data"
    }
   ],
   "source": [
    "# plt.rcParams.update({'font.size': 8})\n",
    "\n",
    "\n",
    "## mute depreciation warning\n",
    "import warnings\n",
    "import matplotlib.cbook\n",
    "warnings.filterwarnings(\"ignore\",category=matplotlib.cbook.mplDeprecation)\n",
    "\n",
    "\n",
    "fig,axes = plt.subplots(figsize = (width2,height2))#,sharex=True)#,constrained_layout=True)\n",
    "\n",
    "template_index=0\n",
    "\n",
    "\n",
    "gs = gridspec.GridSpec(4,2)\n",
    "gs.update(wspace=.5)\n",
    "\n",
    "tfont = 14\n",
    "lw=.8\n",
    "alpha=.1\n",
    "    \n",
    "\n",
    "for i, evID in enumerate(catRep.event_ID):    \n",
    "\n",
    "        \n",
    "        \n",
    "    date_str = str(catRep.datetime.iloc[i])[5:]\n",
    "    k = catRep.Cluster.iloc[i]\n",
    "    ax=plt.subplot(gs[k-1,0:1]);\n",
    "    \n",
    "    ax.spines['right'].set_visible(False)\n",
    "    ax.spines['top'].set_visible(False)\n",
    "\n",
    "\n",
    "    \n",
    "    lag0 = lag_mat[(k-1)*5,:] ## get template for each cluster\n",
    "    \n",
    "    \n",
    "    # load wf from H5\n",
    "    wf = getWF(str(evID),dataH5_path,station,channel,fmin,fmax,fs)\n",
    "    \n",
    "    #Norm by max and zero mean\n",
    "    wf_norm = wf / np.max(np.abs(wf))\n",
    "    wf_zeromean = wf_norm - np.mean(wf_norm)\n",
    "    \n",
    "    offset = 0\n",
    "    wf_offset = (wf_zeromean) + i*offset#1.5\n",
    "    \n",
    "    waveform_shift = lagWF(wf_offset, lag0, index_wf=i)\n",
    "    ##plot !!\n",
    "\n",
    "    plt.plot(waveform_shift,lw=lw,alpha=alpha,c=colors[k-1])\n",
    "\n",
    "    if k==1:\n",
    "        ax.set_ylabel('Normalized velocity')\n",
    "\n",
    "\n",
    "\n",
    "# #### General\n",
    "    ticks=[c for c in np.linspace(0,len(wf_zeromean),8)]\n",
    "    ticklabels=[f'{c:.1f}' for c in np.linspace(0,np.ceil(max(tSTFT)),8)]\n",
    "    plt.xticks(ticks=ticks,labels=ticklabels)\n",
    "\n",
    "    plt.xlabel('t (s)')\n",
    "    plt.xlim(0,len(wf_zeromean))\n",
    "\n",
    "    \n",
    "    xmin = 400\n",
    "    xmax = 1200\n",
    "    plt.xlim(xmin,xmax)\n",
    "    \n",
    "    \n",
    "ax=plt.subplot(gs[Kopt,0])\n",
    "ax.axis('off')\n",
    "# ax.spines['right'].set_visible(False)\n",
    "# ax.spines['top'].set_visible(False)\n",
    "    \n",
    "## NOISENOISENOISENOISENOISENOISE ###\n",
    "    \n",
    "for k in range(1,KoptN+1):\n",
    "    \n",
    "    \n",
    "    ax=plt.subplot(gs[k-1,1:2])\n",
    "    \n",
    "    \n",
    "    if k ==1 :\n",
    "        ax.set_title('Icequakes                                        Noise                                                         ', fontsize=tfont,pad=15)\n",
    "\n",
    "    catRepK = catRepN[catRepN.Cluster==k]\n",
    "\n",
    "        \n",
    "        \n",
    "######     plot sgram:\n",
    "#     ax.set_yscale('log')\n",
    "\n",
    "\n",
    "    lw=1\n",
    "    alpha=.1\n",
    "\n",
    "    ax.spines['right'].set_visible(False)\n",
    "    ax.spines['top'].set_visible(False)\n",
    "    \n",
    "    for i, evID in enumerate(catRepK.event_ID):\n",
    "        matSum, specMat = getSpectra(evID,station,path_projN,normed=True)\n",
    "        ax.plot(fSTFTN,matSum,lw=lw,c=colors[k-1],alpha=alpha)\n",
    "        plt.grid('on')\n",
    "        \n",
    "\n",
    "\n",
    "#     if k != 2:\n",
    "#         ax2.set_ylabel('')\n",
    "#         ax2.set_yticklabels('')        \n",
    "#         ax2.set_yticks([])  \n",
    "        \n",
    "\n",
    "\n",
    "    if k == 1:            \n",
    "        ax.set_ylabel(\"20*log10(|m/s$^2$|$^2$)\")\n",
    "        \n",
    "    if k == KoptN:    \n",
    "        ax.set_xlabel('f (Hz)',labelpad=4)   \n",
    "\n",
    "    else:\n",
    "\n",
    "        ax.set_xticklabels('')  \n",
    "\n",
    "        \n",
    "\n",
    "    \n",
    "    \n",
    "    \n",
    "\n",
    "plt.savefig(pathFig+ f'Figure_6.png')"
   ]
  },
  {
   "cell_type": "code",
   "execution_count": null,
   "metadata": {},
   "outputs": [],
   "source": []
  },
  {
   "cell_type": "markdown",
   "metadata": {},
   "source": [
    "# Figure 11 -- Top Rep FPS and Key States"
   ]
  },
  {
   "cell_type": "code",
   "execution_count": 30,
   "metadata": {},
   "outputs": [],
   "source": [
    "# ## get highest state transition in top fingerprint\n",
    "\n",
    "catRep1 = getTopFCat(cat00,1,0)\n",
    "catRep1N = getTopFCat(cat00N,1,0)\n"
   ]
  },
  {
   "cell_type": "code",
   "execution_count": 31,
   "metadata": {},
   "outputs": [
    {
     "name": "stdout",
     "output_type": "stream",
     "text": [
      "\n",
      " These are the selected state transitions :\n",
      "\n",
      "IQ:  [(12, 12), (14, 14), (8, 8)]\n",
      "NS:  [(6, 6), (4, 4), (5, 5), (3, 3)]\n",
      "\n",
      " These are the key states :\n",
      "\n",
      "IQ:  [12, 14, 8]\n",
      "NS:  [6, 4, 5, 3]\n"
     ]
    }
   ],
   "source": [
    "\n",
    "\n",
    "### get select states from top fingerprint in each cluster\n",
    "sel_state = []\n",
    "sel_stateN = []\n",
    "\n",
    "for i, evID in enumerate(catRep1.event_ID):\n",
    "\n",
    "    fp = getFP(evID,path_proj,outfile_name)\n",
    "\n",
    "    iMax,jMax = getMaxIndexFP(fp)\n",
    "\n",
    "\n",
    "    argMaxFP = (iMax,jMax)\n",
    "\n",
    "    sel_state.append(argMaxFP)\n",
    "\n",
    "for i, evID in enumerate(catRep1N.event_ID):\n",
    "\n",
    "    fp = getFP(evID,path_projN,outfile_nameN)\n",
    "\n",
    "    iMax,jMax = getMaxIndexFP(fp)\n",
    "\n",
    "\n",
    "    argMaxFP = (iMax,jMax)\n",
    "\n",
    "    sel_stateN.append(argMaxFP)\n",
    "    \n",
    "\n",
    "    \n",
    "###\n",
    "print('\\n These are the selected state transitions :\\n')# (same as their row or column index): \\n')\n",
    "print('IQ: ', sel_state)\n",
    "print('NS: ', sel_stateN)\n",
    "\n",
    "\n",
    "#### convert sel_state variable from tuple to single -- this works because key_states are on the diagonal of fingerprint of rep event\n",
    "\n",
    "sel_state_single = [tup[0] for tup in sel_state if tup[0]==tup[1]]\n",
    "sel_state_singleN = [tup[0] for tup in sel_stateN if tup[0]==tup[1]]\n",
    "print('\\n These are the key states :\\n')# (same as their row or column index): \\n')\n",
    "print('IQ: ', sel_state_single)\n",
    "print('NS: ', sel_state_singleN)\n",
    "\n"
   ]
  },
  {
   "cell_type": "markdown",
   "metadata": {},
   "source": [
    "## Plot Figure 11 FPs with circles around sel states\n"
   ]
  },
  {
   "cell_type": "code",
   "execution_count": 32,
   "metadata": {},
   "outputs": [
    {
     "data": {
      "image/png": "[encoded data removed]",
      "text/plain": [
       "<Figure size 269.292x325.984 with 7 Axes>"
      ]
     },
     "metadata": {
      "needs_background": "light"
     },
     "output_type": "display_data"
    }
   ],
   "source": [
    "\n",
    "\n",
    "\n",
    "\n",
    "\n",
    "plt.figure(figsize=(width1,height1))\n",
    "\n",
    "nRows = nR = 4\n",
    "nCols = nC = 2\n",
    "\n",
    "# fig, axes = plt.subplots(nRows,nCols)\n",
    "\n",
    "gs = gridspec.GridSpec(nRows,nCols)\n",
    "\n",
    "gs.update(wspace=0, hspace=0.2)\n",
    "\n",
    "    \n",
    "tfont = 14\n",
    "symbolSize = 150    \n",
    "shift = .4 #shift marker for selected states \n",
    "\n",
    "for i, evID in enumerate(catRep1.event_ID):\n",
    "\n",
    "\n",
    "    ax=plt.subplot(gs[i,0])\n",
    "    ax.set_aspect('equal')\n",
    "    if i==0:\n",
    "        ax.set_title('Icequakes',fontsize=tfont)\n",
    "        ax.set_ylabel('$S(t)$',fontsize=tfont-2)\n",
    "        \n",
    "    else:\n",
    "        ax.set_ylabel('')\n",
    "        \n",
    "\n",
    "        \n",
    "    #normalize fps by local max\n",
    "    fp = getFP(evID,path_proj,outfile_name) \n",
    "    fp = fp / np.max(fp)\n",
    "        \n",
    "\n",
    "    ## plot FP\n",
    "    plt.pcolormesh(fp,cmap=cm.magma)#, aspect='auto')\n",
    "\n",
    "    \n",
    "    \n",
    "\n",
    "    ## plot symbol on key states\n",
    "\n",
    "    plt.scatter(sel_state[i][1]+shift,\n",
    "                sel_state[i][0]+shift,\n",
    "                symbolSize,\n",
    "                edgecolors='limegreen',\n",
    "                color='None',\n",
    "                marker='o',\n",
    "                linewidths=1)    \n",
    "\n",
    "    ax.text(9,.5,f'({sel_state[i][0]})',color='limegreen',size=10)\n",
    "    \n",
    "    #ticks\n",
    "    plt.yticks(ticks = [0,5,10],labels=['0','5','10'])\n",
    "    plt.xticks(ticks = [0,5,10],labels=['0','5','10'])\n",
    "\n",
    "    #labels\n",
    "    if i == Kopt-1:\n",
    "        ax.set_xlabel('$S(t+1)$',fontsize=tfont-2)\n",
    "    else:\n",
    "        ax.set_xlabel('')\n",
    "        ax.set_xticklabels('')\n",
    "        \n",
    "    i == Kopt-1\n",
    "        \n",
    "    \n",
    "\n",
    "    \n",
    "    \n",
    "for i, evID in enumerate(catRep1N.event_ID):\n",
    "\n",
    "\n",
    "    ax=plt.subplot(gs[i,1])\n",
    "    ax.set_aspect('equal')\n",
    "    if i==0:        \n",
    "        ax.set_title('Noise',fontsize=tfont)\n",
    "\n",
    "#     ax.axis('off')\n",
    "    #normalize fps by local max\n",
    "    fp = getFP(evID,path_projN,outfile_nameN) \n",
    "    fp = fp / np.max(fp)\n",
    "        \n",
    "\n",
    "    ## plot FP\n",
    "    plt.pcolormesh(fp,cmap=cm.magma)#, aspect='auto')\n",
    "    #colorbar\n",
    "    \n",
    "#     plt.colorbar(pad=.1, shrink=.6)\n",
    "\n",
    "    ## plot symbol on key states\n",
    "\n",
    "    plt.scatter(sel_stateN[i][1]+shift,\n",
    "                sel_stateN[i][0]+shift,\n",
    "                symbolSize,\n",
    "                edgecolors='limegreen',\n",
    "                color='None',\n",
    "                marker='o',\n",
    "                linewidths=1)    \n",
    "\n",
    "    \n",
    "    ax.text(10,.5,f'({sel_stateN[i][0]})',color='limegreen',size=10)\n",
    "    ##ticks\n",
    "    plt.yticks(ticks = [0,5,10],labels=['0','5','10'])\n",
    "    plt.xticks(ticks = [0,5,10],labels=['0','5','10'])\n",
    "\n",
    "    #labels\n",
    "    #labels\n",
    "    if i == KoptN-1:\n",
    "        ax.set_xlabel('$S(t+1)$',fontsize=tfont-2)\n",
    "    else:\n",
    "        ax.set_xlabel('')\n",
    "        ax.set_xticklabels('')\n",
    "        \n",
    "        \n",
    "\n",
    "    \n",
    "    \n",
    "plt.savefig(pathFig + f'Figure_11.png',bbox_inches='tight')\n"
   ]
  },
  {
   "cell_type": "markdown",
   "metadata": {},
   "source": [
    "## plot colorbar\n"
   ]
  },
  {
   "cell_type": "code",
   "execution_count": 33,
   "metadata": {},
   "outputs": [
    {
     "data": {
      "image/png": "[encoded data removed]",
      "text/plain": [
       "<Figure size 269.292x325.984 with 2 Axes>"
      ]
     },
     "metadata": {
      "needs_background": "light"
     },
     "output_type": "display_data"
    }
   ],
   "source": [
    "\n",
    "\n",
    "plt.rcParams.update({'font.size': 10})\n",
    "\n",
    "\n",
    "plt.figure(figsize=(width1,height1))\n",
    "\n",
    "gs = gridspec.GridSpec(nRows,nCols)\n",
    "\n",
    "ax=plt.subplot(gs[:,1])\n",
    "\n",
    "plt.pcolormesh(fp,cmap=cm.magma)#, aspect='auto')\n",
    "plt.colorbar(pad=.1, shrink=.8,label='Normalized state-transition probability')\n",
    "\n",
    "\n",
    "\n",
    "ax.set_aspect('equal')\n",
    "plt.savefig(pathFig + f'Figure_11_colorbar.png',bbox_inches='tight')"
   ]
  },
  {
   "cell_type": "code",
   "execution_count": null,
   "metadata": {},
   "outputs": [],
   "source": []
  },
  {
   "cell_type": "code",
   "execution_count": null,
   "metadata": {},
   "outputs": [],
   "source": []
  },
  {
   "cell_type": "markdown",
   "metadata": {},
   "source": [
    "# Figure 12 - Reconstructed spectra"
   ]
  },
  {
   "cell_type": "markdown",
   "metadata": {},
   "source": [
    "## Find scaling factors"
   ]
  },
  {
   "cell_type": "code",
   "execution_count": 34,
   "metadata": {},
   "outputs": [],
   "source": [
    "\n",
    "k=3\n",
    "peak_rec_state, peak_spec, scale = CalcDiffPeak(path_proj,cat00,k,RMM,sel_state_single,station)\n",
    "kN=1\n",
    "peak_rec_stateN, peak_specN, scaleN = CalcDiffPeak(path_projN,cat00N,kN,RMMN,sel_state_singleN,station)\n"
   ]
  },
  {
   "cell_type": "code",
   "execution_count": 35,
   "metadata": {},
   "outputs": [
    {
     "data": {
      "text/plain": [
       "(33, 72)"
      ]
     },
     "execution_count": 35,
     "metadata": {},
     "output_type": "execute_result"
    }
   ],
   "source": [
    "len(tSTFT),len(tSTFTN)"
   ]
  },
  {
   "cell_type": "markdown",
   "metadata": {},
   "source": [
    "## reconstructed spectra with median "
   ]
  },
  {
   "cell_type": "code",
   "execution_count": 36,
   "metadata": {},
   "outputs": [
    {
     "data": {
      "image/png": "[encoded data removed]",
      "text/plain": [
       "<Figure size 538.582x651.969 with 2 Axes>"
      ]
     },
     "metadata": {
      "needs_background": "light"
     },
     "output_type": "display_data"
    }
   ],
   "source": [
    "plt.rcParams.update({'font.size': 12})\n",
    "\n",
    "fig,axes = plt.subplots(figsize = (width2,height2))#,sharex=True,constrained_layout=True)\n",
    "gs = gridspec.GridSpec(2,1)\n",
    "gs.update(wspace=.4, hspace=.4)\n",
    "leg = legN = ['','','','','','','','','','','']\n",
    "\n",
    "title='Icequakes'\n",
    "titleN='Noise'\n",
    "\n",
    "tpad=4\n",
    "\n",
    "\n",
    "### ### ### ### ### ### ### ### ### ### ### ### \n",
    "## NOISE\n",
    "ax = plt.subplot(gs[0])\n",
    "ax.set_xlim(0,80)\n",
    "\n",
    "ax.set_title(title,fontsize=tfont,pad=tpad)\n",
    "  \n",
    "\n",
    "\n",
    "lw=.5\n",
    "alpha=.3\n",
    "\n",
    "\n",
    "\n",
    "\n",
    "\n",
    "\n",
    "figureFunctions2.plotMedianSpectra(path_proj,cat00,Kopt,fSTFT,station,leg,normed='median',ax=ax,scale=peak_spec,**plt_kwargs)\n",
    "\n",
    "figureFunctions2.plotReconstructedStates(RMM,\n",
    "                                         sel_state_single,\n",
    "                                         fSTFT,\n",
    "                                         lw=1,\n",
    "                                         legend='outside',\n",
    "                                         bb1=1.25,\n",
    "                                         bb2=.75,                                         \n",
    "                                         freq_list=None,\n",
    "                                         normed='median',\n",
    "                                         ax=ax,\n",
    "                                         scale=peak_rec_state,\n",
    "                                         **plt_kwargs)\n",
    "\n",
    "\n",
    "\n",
    "    \n",
    "    \n",
    "\n",
    "ax.set_ylabel('dB/max(dB)')\n",
    "ax.set_xlabel('')\n",
    "\n",
    "\n",
    "\n",
    "plt.yscale('log')\n",
    "# plt.xscale('log')\n",
    "\n",
    "\n",
    "\n",
    "\n",
    "\n",
    "### ### ### ### ### ### ### ### ### ### ### ### \n",
    "## NOISE\n",
    "ax = plt.subplot(gs[1])\n",
    "ax.set_xlim(0,80)\n",
    "\n",
    "ax.set_title(titleN,fontsize=tfont,pad=tpad)\n",
    "  \n",
    "\n",
    "\n",
    "\n",
    "\n",
    "figureFunctions2.plotMedianSpectra(path_projN,\n",
    "                                   cat00N,\n",
    "                                   KoptN,\n",
    "                                   fSTFTN,\n",
    "                                   station,\n",
    "                                   leg,\n",
    "                                   normed='median',\n",
    "                                   ax=ax,\n",
    "                                   scale=peak_specN,\n",
    "                                   **plt_kwargs)\n",
    "\n",
    "\n",
    "\n",
    "figureFunctions2.plotReconstructedStates(RMMN,\n",
    "                                         sel_state_singleN,\n",
    "                                         fSTFTN,\n",
    "                                         lw=1,\n",
    "                                         legend='outside',\n",
    "                                         bb1=1.25,\n",
    "                                         bb2=.75,                                         \n",
    "                                         freq_list=None,\n",
    "                                         normed='median',\n",
    "                                         ax=ax,\n",
    "                                         scale=peak_rec_stateN,\n",
    "                                         **plt_kwargs)\n",
    "\n",
    "    \n",
    "    \n",
    "\n",
    "ax.set_ylabel('')\n",
    "ax.set_xlabel('$f$ (Hz)')\n",
    "\n",
    "\n",
    "\n",
    "plt.yscale('log')\n",
    "# plt.xscale('log')\n",
    "\n",
    "\n",
    "\n",
    "\n",
    "\n",
    "\n",
    "\n",
    "plt.savefig(pathFig + f'Figure_12.png',bbox_inches='tight')"
   ]
  },
  {
   "cell_type": "code",
   "execution_count": null,
   "metadata": {},
   "outputs": [],
   "source": []
  },
  {
   "cell_type": "code",
   "execution_count": null,
   "metadata": {},
   "outputs": [],
   "source": []
  },
  {
   "cell_type": "code",
   "execution_count": null,
   "metadata": {},
   "outputs": [],
   "source": []
  },
  {
   "cell_type": "code",
   "execution_count": null,
   "metadata": {},
   "outputs": [],
   "source": []
  },
  {
   "cell_type": "code",
   "execution_count": null,
   "metadata": {},
   "outputs": [],
   "source": []
  },
  {
   "cell_type": "code",
   "execution_count": null,
   "metadata": {},
   "outputs": [],
   "source": []
  },
  {
   "cell_type": "code",
   "execution_count": 37,
   "metadata": {},
   "outputs": [],
   "source": [
    "# def CalcDiffPeak_Cluster(catRep,k,RMM,sel_state,station,path_proj):\n",
    "#     \"\"\"\n",
    "#     For cluster k, divide max of Rep spectra by median of maxes of top representative spectra\n",
    "#     \"\"\"\n",
    "    \n",
    "    \n",
    "#     maxAmp_list = []\n",
    "    \n",
    "    \n",
    "#     # for Rep catalog of cluster k, get list of maxes of spectra\n",
    "#     catRepK = catRep[catRep.Cluster==k]\n",
    "#     for i, evID in enumerate(catRepK.event_ID):      \n",
    "#         spectra, __ = getSpectra(evID,station,path_proj,normed=True)\n",
    "#         maxAmp_list.append(np.max(spectra))\n",
    "            \n",
    "#     maxAmp_list_array = np.array(maxAmp_list)\n",
    "    \n",
    "#     medianMaxAmp = np.median(maxAmp_list_array)\n",
    "                    \n",
    "#     ## get max value of reconstructed spectra from selected stated\n",
    "#     rec_state = RMM[:,sel_state[k-1]]\n",
    "#     maxRecSpec = np.max(rec_state) \n",
    "\n",
    "\n",
    "\n",
    "#     scale = maxRecSpec / medianMaxAmp\n",
    "\n",
    "#     return scale\n",
    "\n",
    "# k=1\n",
    "# scale = CalcDiffPeak_Cluster(catRep,k,RMM,sel_state,station,path_proj)\n",
    "# scale"
   ]
  },
  {
   "cell_type": "code",
   "execution_count": null,
   "metadata": {},
   "outputs": [],
   "source": []
  }
 ],
 "metadata": {
  "kernelspec": {
   "display_name": "Python 3",
   "language": "python",
   "name": "python3"
  },
  "language_info": {
   "codemirror_mode": {
    "name": "ipython",
    "version": 3
   },
   "file_extension": ".py",
   "mimetype": "text/x-python",
   "name": "python",
   "nbconvert_exporter": "python",
   "pygments_lexer": "ipython3",
   "version": "3.7.8"
  }
 },
 "nbformat": 4,
 "nbformat_minor": 4
}
