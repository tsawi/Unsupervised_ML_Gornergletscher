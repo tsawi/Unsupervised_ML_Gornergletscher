{
 "cells": [
  {
   "cell_type": "markdown",
   "metadata": {},
   "source": [
    "# Plot Figures 7 (maps), 8 (boxplots), 9 (hour), 10 (GPS), \n",
    "\n",
    "Analyzing clusters through time and by features\n",
    "\n",
    "For Sawi et al., 2021\n",
    "\n",
    "\n",
    "#### Todo:\n",
    "\n",
    "* Add numbers to black dashed lines\n"
   ]
  },
  {
   "cell_type": "markdown",
   "metadata": {},
   "source": [
    "## Todo::\n",
    "\n",
    "* Combine figure 11, features\n"
   ]
  },
  {
   "cell_type": "markdown",
   "metadata": {},
   "source": [
    "## CUSTOM LEGEND"
   ]
  },
  {
   "cell_type": "code",
   "execution_count": 27,
   "metadata": {},
   "outputs": [
    {
     "data": {
      "image/png": "[encoded data removed]",
      "text/plain": [
       "<Figure size 432x288 with 1 Axes>"
      ]
     },
     "metadata": {
      "needs_background": "light"
     },
     "output_type": "display_data"
    }
   ],
   "source": [
    "##CUSTOM LEGEND\n",
    "from matplotlib.patches import Patch\n",
    "from matplotlib.lines import Line2D\n",
    "\n",
    "legend_elements = [Line2D([0], [0], color='b', lw=4, label='Line'),\n",
    "                   Line2D([0], [0], marker='o', color='w', label='Scatter',\n",
    "                          markerfacecolor='g', markersize=15),\n",
    "                   Patch(facecolor='orange', edgecolor='r',\n",
    "                         label='Color Patch')]\n",
    "\n",
    "# Create the figure\n",
    "fig, ax = plt.subplots()\n",
    "ax.legend(handles=legend_elements, loc='center')\n",
    "\n",
    "plt.show()"
   ]
  },
  {
   "cell_type": "code",
   "execution_count": 1,
   "metadata": {},
   "outputs": [],
   "source": [
    "import h5py\n",
    "import pandas as pd\n",
    "import numpy as np\n",
    "from matplotlib import pyplot as plt\n",
    "from obspy import read\n",
    "from matplotlib import cm\n",
    "import matplotlib.gridspec as gridspec\n",
    "import os\n",
    "import datetime as dtt\n",
    "import matplotlib.patches\n",
    "import matplotlib.patches as mpatches\n",
    "import matplotlib.dates as mdates\n",
    "import datetime\n",
    "from  sklearn.preprocessing import StandardScaler\n",
    "import sys\n",
    "from matplotlib.patches import Rectangle\n",
    "import sklearn.metrics\n",
    "from scipy import spatial\n",
    "import matplotlib.image as mpimg\n",
    "import obspy\n",
    "from scipy.signal import butter, lfilter\n",
    "import librosa\n",
    "from scipy.io import loadmat\n",
    "from sklearn.decomposition import PCA\n",
    "import scipy.io as spio\n",
    "from sklearn.metrics import silhouette_samples\n",
    "import seaborn as sns\n",
    "import scipy as sp\n",
    "import scipy.io as spio\n",
    "import scipy.signal\n",
    "from sklearn.metrics import confusion_matrix\n",
    "import seaborn as sns\n",
    "from sklearn.metrics import classification_report\n",
    "\n",
    "from obspy.signal.cross_correlation import correlate, xcorr_max\n",
    "\n",
    "from letter_subplots import letter_subplots\n",
    "\n",
    "sys.path.append('.')\n",
    "sys.path.append('../src/visualization/')\n",
    "\n",
    "import paths\n",
    "from sklearn.cluster import KMeans\n",
    "# import figureFunctions"
   ]
  },
  {
   "cell_type": "code",
   "execution_count": 2,
   "metadata": {},
   "outputs": [],
   "source": [
    "\n",
    "\n",
    "from functions2 import getFeatures, getLocationFeatures,getNMFOrder,resortByNMF,getSpectra_fromWF,getSgram\n",
    "from functions2 import PCAonFP,calcSilhScore,getDailyTempDiff,getSpectraMedian,CalcDiffPeak,PVEofPCA,getTopFCat \n",
    "from functions2 import catMergeFromH5, swapLabels, calcFFT, getWF, swapLabels,trimSpectra, KMeansSpectra, compileSpectraFromWF\n",
    "import figureFunctions2"
   ]
  },
  {
   "cell_type": "markdown",
   "metadata": {},
   "source": [
    "## Define helper functions (move later)"
   ]
  },
  {
   "cell_type": "code",
   "execution_count": null,
   "metadata": {},
   "outputs": [],
   "source": []
  },
  {
   "cell_type": "markdown",
   "metadata": {},
   "source": [
    "## Set paths"
   ]
  },
  {
   "cell_type": "code",
   "execution_count": 3,
   "metadata": {},
   "outputs": [],
   "source": [
    "#%% load project variables: names and paths\n",
    "# key = sys.argv[1]\n",
    "\n",
    "key = \"BB_Gorner_Event_Final_v11_J8\"\n",
    "keyN = \"BB_Gorner_Cont_Final_v10_J8\"\n",
    "\n",
    "\n",
    "filetype = '.gse2'     \n",
    "filetypeN = '.sac' \n",
    "\n",
    "\n",
    "p = paths.returnp(key)\n",
    "pN = paths.returnp(keyN)\n",
    "\n",
    "#%%\n",
    "\n",
    "projName        = p['projName']\n",
    "datasetID       = p['datasetID']\n",
    "projName        = p['projName']\n",
    "station         = p['station']\n",
    "channel         = p['channel']\n",
    "path_top        = p['path_top']\n",
    "path_proj       = p['path_proj']\n",
    "outfile_name    = p['outfile_name']\n",
    "dataFile_name   = p['dataFile_name']\n",
    "path_WF         = p['path_WF']\n",
    "path_Cat        = p['path_Cat'] #original, raw catalog\n",
    "subCatalog_Name = f\"{dataFile_name}_Sgrams_Subcatalog.hdf5\"\n",
    "\n",
    "\n",
    "\n",
    "pathFP          = f'{path_top}{projName}/03_output/{station}/SpecUFEx_output/step4_FEATout/'\n",
    "pathACM         = f'{path_top}{projName}/03_output/{station}/SpecUFEx_output/step2_NMF/'\n",
    "pathSTM         = f'{path_top}{projName}/03_output/{station}/SpecUFEx_output/step4_stateTransMats/'\n",
    "pathEB          = f'{path_top}{projName}/02_src/02_SpecUFEx/EB.mat'\n",
    "pathElnB          = f'{path_top}{projName}/02_src/02_SpecUFEx/ElnB.mat'\n",
    "pathW        = path_proj + '02_src/02_SpecUFEx/out.DictGain.mat' \n",
    "\n",
    "\n",
    "# pathClusCat = path_proj + f\"principalDf_full_{mode}_Kopt{Kopt}.csv\"\n",
    "dataH5_path = path_proj + dataFile_name\n",
    "\n",
    "\n",
    "projNameN        = pN['projName']\n",
    "datasetIDN       = pN['datasetID']\n",
    "projNameN        = pN['projName']\n",
    "station         = pN['station']\n",
    "channel         = pN['channel']\n",
    "\n",
    "\n",
    "path_top        = pN['path_top']\n",
    "path_projN       = pN['path_proj']\n",
    "outfile_nameN    = pN['outfile_name']\n",
    "dataFile_nameN   = pN['dataFile_name']\n",
    "path_WFN         = pN['path_WF']\n",
    "path_CatN        = pN['path_Cat'] #original, raw catalog\n",
    "subCatalog_NameN = f\"{dataFile_name}_Sgrams_Subcatalog.hdf5\"\n",
    "\n",
    "\n",
    "pathACMN         = f'{path_top}{projNameN}/03_output/{station}/SpecUFEx_output/step2_NMF/'\n",
    "pathSTMN         = f'{path_top}{projNameN}/03_output/{station}/SpecUFEx_output/step4_stateTransMats/'\n",
    "pathEBN          = f'{path_top}{projNameN}/02_src/02_SpecUFEx/EB.mat'\n",
    "pathElnBN          = f'{path_top}{projNameN}/02_src/02_SpecUFEx/ElnB.mat'\n",
    "pathWN        = path_projN + '02_src/02_SpecUFEx/out.DictGain.mat' \n",
    "\n",
    "\n",
    "\n",
    "# pathClusCatN = path_projN + f\"principalDf_full_{mode}_Kopt{KoptN}.csv\"\n",
    "dataH5_pathN = path_projN + dataFile_nameN\n",
    "\n",
    "\n",
    "pathFig = '../reports/figures/'\n",
    "pathAuxData = '../data/processed/Garcia/'"
   ]
  },
  {
   "cell_type": "markdown",
   "metadata": {},
   "source": [
    "## Load auxiliary data"
   ]
  },
  {
   "cell_type": "code",
   "execution_count": null,
   "metadata": {},
   "outputs": [],
   "source": []
  },
  {
   "cell_type": "code",
   "execution_count": 4,
   "metadata": {},
   "outputs": [],
   "source": [
    "## Load auxiliary catalog\n",
    "\n",
    "gps_station_list = ['24','34','36','37']\n",
    "gps_df_list = []\n",
    "\n",
    "for gst in gps_station_list:\n",
    "    \n",
    "    \n",
    "    gps_df = pd.read_csv(f'{pathAuxData}gps_roll_Slopecorrected_{gst}.csv',index_col=0)\n",
    "    gps_df['datetime'] = [pd.to_datetime(ii) for ii in gps_df.index]\n",
    "    gps_df['datetime_index'] = [pd.to_datetime(ii) for ii in gps_df.index]\n",
    "    gps_df = gps_df.set_index('datetime_index')\n",
    "    \n",
    "    \n",
    "    gps_df_list.append(gps_df)\n",
    "\n",
    "\n",
    "lake_df = pd.read_csv(f'{pathAuxData}lake_df.csv',index_col=0)\n",
    "lake_df['datetime'] = [pd.to_datetime(ii) for ii in lake_df.index]\n",
    "lake_df['datetime_index'] = [pd.to_datetime(ii) for ii in lake_df.index]\n",
    "lake_df = lake_df.set_index('datetime_index')\n",
    "\n",
    "\n",
    "meteor_df = pd.read_csv(f'{pathAuxData}meteor_df.csv',index_col=0)\n",
    "meteor_df['datetime'] = [pd.to_datetime(ii) for ii in meteor_df.index]\n",
    "meteor_df['datetime_index'] = [pd.to_datetime(ii) for ii in meteor_df.index]\n",
    "meteor_df = meteor_df.set_index('datetime_index')\n",
    "\n",
    "rain_df = meteor_df.rain\n"
   ]
  },
  {
   "cell_type": "code",
   "execution_count": 5,
   "metadata": {},
   "outputs": [
    {
     "data": {
      "text/plain": [
       "920"
      ]
     },
     "execution_count": 5,
     "metadata": {},
     "output_type": "execute_result"
    }
   ],
   "source": [
    "len(gps_df)\n"
   ]
  },
  {
   "cell_type": "markdown",
   "metadata": {},
   "source": [
    "## Define some important times in study period"
   ]
  },
  {
   "cell_type": "code",
   "execution_count": 6,
   "metadata": {},
   "outputs": [],
   "source": [
    "# timing of lake events \n",
    "tstart = dtt.datetime(2007, 6, 13)\n",
    "tend = dtt.datetime(2007, 7, 23)\n",
    "calvet = dtt.datetime(2007, 7, 1,13,41,35)\n",
    "supraDraint = dtt.datetime(2007, 7, 4)\n",
    "subDraint = dtt.datetime(2007, 7, 7)\n",
    "drainEndt = dtt.datetime(2007, 7, 15)\n"
   ]
  },
  {
   "cell_type": "markdown",
   "metadata": {},
   "source": [
    "## Load cluster catalogs"
   ]
  },
  {
   "cell_type": "code",
   "execution_count": 7,
   "metadata": {},
   "outputs": [],
   "source": [
    "Kopt = 3\n",
    "KoptN = 4\n",
    "\n",
    "cat00 = pd.read_csv('../data/interim/icequakes_k{Kopt}.csv')\n",
    "\n",
    "cat00N = pd.read_csv('../data/interim/noise_k{KoptN}.csv')\n",
    "\n",
    "\n",
    "\n",
    "cat00['event_ID'] = [str(i) for i in cat00.event_ID]\n",
    "## convert to datetime, set as index\n",
    "cat00['datetime'] = [pd.to_datetime(i) for i in cat00.datetime]\n",
    "cat00['datetime_index']= [pd.to_datetime(i) for i in cat00.datetime]\n",
    "cat00 = cat00.set_index('datetime_index')\n",
    "\n",
    "\n",
    "## convert to datetime, set as index\n",
    "cat00N['event_ID'] = [str(i) for i in cat00N.event_ID]\n",
    "\n",
    "cat00N['datetime'] = [pd.to_datetime(i) for i in cat00N.datetime]\n",
    "cat00N['datetime_index']= [pd.to_datetime(i) for i in cat00N.datetime]\n",
    "cat00N = cat00N.set_index('datetime_index')"
   ]
  },
  {
   "cell_type": "code",
   "execution_count": 8,
   "metadata": {},
   "outputs": [
    {
     "data": {
      "text/plain": [
       "datetime_index\n",
       "2007-06-14 01:06:58    1\n",
       "2007-06-14 03:15:42    1\n",
       "2007-06-14 03:27:42    1\n",
       "2007-06-14 03:49:12    1\n",
       "2007-06-14 05:44:43    1\n",
       "                      ..\n",
       "2007-07-21 23:46:28    2\n",
       "2007-07-21 23:58:13    2\n",
       "2007-07-22 00:08:58    2\n",
       "2007-07-22 00:20:43    2\n",
       "2007-07-22 00:34:28    2\n",
       "Name: Cluster, Length: 1521, dtype: int64"
      ]
     },
     "execution_count": 8,
     "metadata": {},
     "output_type": "execute_result"
    }
   ],
   "source": [
    "cat00N.Cluster"
   ]
  },
  {
   "cell_type": "code",
   "execution_count": null,
   "metadata": {},
   "outputs": [],
   "source": []
  },
  {
   "cell_type": "markdown",
   "metadata": {},
   "source": [
    "## Load station data"
   ]
  },
  {
   "cell_type": "code",
   "execution_count": 9,
   "metadata": {},
   "outputs": [],
   "source": [
    "##station data \n",
    "stn = pd.read_csv(\"../data/raw/stnlst.csv\",\n",
    "                  header=None,\n",
    "                  names=['name','X','Y','Elevation','dX','dY','Depth'])\n",
    "\n",
    "        \n",
    "     "
   ]
  },
  {
   "cell_type": "markdown",
   "metadata": {},
   "source": [
    "## Get experiment parameters from H5 file"
   ]
  },
  {
   "cell_type": "code",
   "execution_count": 10,
   "metadata": {},
   "outputs": [],
   "source": [
    "#########       #########       #########       #########       #########       #########       #########       #########       \n",
    "\n",
    "####IQIQIQIQIQIQIQIQI\n",
    "\n",
    "#########       #########       #########       #########       #########       #########       #########       #########       \n",
    "\n",
    "\n",
    "\n",
    "with h5py.File(path_proj + dataFile_name,'r') as dataFile:\n",
    "\n",
    "    lenData = dataFile['processing_info/'].get('lenData')[()]\n",
    "    fs = dataFile['spec_parameters/'].get('fs')[()]\n",
    "    \n",
    "    # fmin = \n",
    "    nperseg = dataFile['spec_parameters/'].get('nperseg')[()]\n",
    "    noverlap = dataFile['spec_parameters/'].get('noverlap')[()]\n",
    "    nfft = dataFile['spec_parameters/'].get('nfft')[()]\n",
    "\n",
    "\n",
    "    fmax = dataFile['spec_parameters/'].get('fmax')[()]\n",
    "    fmax = np.ceil(fmax)\n",
    "    fmin = dataFile['spec_parameters/'].get('fmin')[()]\n",
    "    fmin = np.floor(fmin)    \n",
    "    fSTFT = dataFile['spec_parameters/'].get('fSTFT')[()]\n",
    "    tSTFT = dataFile['spec_parameters/'].get('tSTFT')[()]\n",
    "    \n",
    "    sgram_mode = dataFile['spec_parameters/'].get('mode')[()].decode('utf-8')\n",
    "    scaling = dataFile['spec_parameters/'].get('scaling')[()].decode('utf-8')\n",
    "    \n",
    "    \n",
    "fs = int(np.ceil(fs))\n",
    "winLen_Sec = float(nperseg / fs)\n",
    "\n",
    "\n",
    "#########       #########       #########       #########       #########       #########       #########       #########       \n",
    "\n",
    "##### NOISENOISENOISENOISENOISE\n",
    "\n",
    "#########       #########       #########       #########       #########       #########       #########       #########       \n",
    "\n",
    "\n",
    "with h5py.File(path_projN + dataFile_nameN,'r') as dataFile:\n",
    "\n",
    "    lenDataN = dataFile['processing_info/'].get('lenData')[()]\n",
    "    fsN = dataFile['spec_parameters/'].get('fs')[()]\n",
    "    \n",
    "    # fminN = \n",
    "    npersegN = dataFile['spec_parameters/'].get('nperseg')[()]\n",
    "    noverlapN = dataFile['spec_parameters/'].get('noverlap')[()]\n",
    "    nfftN = dataFile['spec_parameters/'].get('nfft')[()]\n",
    "\n",
    "\n",
    "    fmaxN = dataFile['spec_parameters/'].get('fmax')[()]\n",
    "    fmaxN = np.ceil(fmaxN)\n",
    "    fminN = dataFile['spec_parameters/'].get('fmin')[()]\n",
    "    fminN = np.floor(fminN)    \n",
    "    fSTFTN = dataFile['spec_parameters/'].get('fSTFT')[()]\n",
    "    tSTFTN = dataFile['spec_parameters/'].get('tSTFT')[()]\n",
    "    \n",
    "    sgram_modeN = dataFile['spec_parameters/'].get('mode')[()].decode('utf-8')\n",
    "    scalingN = dataFile['spec_parameters/'].get('scaling')[()].decode('utf-8')\n",
    "    \n",
    "    \n",
    "fsN = int(np.ceil(fsN))\n",
    "winLen_SecN = float(npersegN / fsN)\n",
    "\n"
   ]
  },
  {
   "cell_type": "markdown",
   "metadata": {},
   "source": [
    "## Load specufex output"
   ]
  },
  {
   "cell_type": "code",
   "execution_count": 11,
   "metadata": {},
   "outputs": [],
   "source": [
    "\n",
    "#########       #########       #########       #########       #########       #########       #########       #########       \n",
    "\n",
    "## specufex output - IQIQIQIQIQIQIQIQIQIQ\n",
    " \n",
    "#########       #########       #########       #########       #########       #########       #########       #########       Wmat = loadmat(pathW)\n",
    "\n",
    "Wmat = loadmat(pathW)\n",
    "EBmat = loadmat(pathEB)\n",
    "\n",
    "W = Wmat.get('W1')\n",
    "EB = EBmat.get('EB')\n",
    "\n",
    "\n",
    "\n",
    "numPatterns = len(W[1])\n",
    "Nfreqs = len(W)\n",
    "numStates = EB.shape[0]\n",
    "\n",
    "\n",
    "\n",
    "order_swap = getNMFOrder(W,numPatterns)\n",
    "W_new = resortByNMF(W,order_swap)\n",
    "EB_new = resortByNMF(EB,order_swap)\n",
    "\n",
    "RMM = W_new @ EB_new.T\n",
    "\n",
    "#########       #########       #########       #########       #########       #########       #########       #########       \n",
    "\n",
    "## specufex output - NOISENOISENOINSENOISE\n",
    "\n",
    "#########       #########       #########       #########       #########       #########       #########       #########       \n",
    "\n",
    "\n",
    "WmatN = loadmat(pathWN)\n",
    "EBmatN = loadmat(pathEBN)\n",
    "\n",
    "WN = WmatN.get('W1')\n",
    "EBN = EBmatN.get('EB')\n",
    "\n",
    "\n",
    "\n",
    "numPatternsN = len(WN[1])\n",
    "NfreqsN = len(WN)\n",
    "numStatesN = EBN.shape[0]\n",
    "\n",
    "\n",
    "order_swapN = getNMFOrder(WN,numPatternsN)\n",
    "W_newN = resortByNMF(WN,order_swapN)\n",
    "EB_newN = resortByNMF(EBN,order_swapN)\n",
    "\n",
    "RMMN = W_newN @ EB_newN.T"
   ]
  },
  {
   "cell_type": "markdown",
   "metadata": {},
   "source": [
    "## Format day ticks, time plotting\n",
    "\n",
    "* Central European Time is 2 hours later than UTC (Coordinated Universal Time) \n",
    "* Max temp occurs around 16:00 (4pm) local time or, 14:00 (2pm) UTC\n",
    "* All times in UTC\n",
    "\n",
    "\n",
    "todo: fix ::\n",
    "\n",
    "\n",
    "##dummy variable -- just needed to get complete day set -- FIXFIX\n",
    "clus_clu_perday = cat0.event_ID.resample('D', label='left', closed='right').count()"
   ]
  },
  {
   "cell_type": "code",
   "execution_count": 12,
   "metadata": {},
   "outputs": [
    {
     "name": "stdout",
     "output_type": "stream",
     "text": [
      "['6-14', '6-21', '6-28', '7-5', '7-12', '7-19']\n"
     ]
    }
   ],
   "source": [
    "\n",
    "\n",
    "############################################################\n",
    "            ##### FORMAT DAY TICKS (ASSUMES NO DAYS SKIPPED?) ######\n",
    "############################################################\n",
    "tstart = pd.to_datetime('2007-06-14 00:00:00')\n",
    "tend   = pd.to_datetime('2007-07-22 00:00:00')\n",
    "\n",
    "\n",
    "\n",
    "delta_day = 7\n",
    "\n",
    "##dummy variable -- just needed to get complete day set -- FIXFIX\n",
    "clus_clu_perday = cat00.event_ID.resample('D', label='left', closed='right').count()\n",
    "\n",
    "numDays = len(clus_clu_perday)\n",
    "\n",
    "days_list = [clus_clu_perday.index[i] for i in range(numDays)]\n",
    "\n",
    "\n",
    "## these have lots of possible text formats\n",
    "day_labels = [f\"{days_list[d].month}-{days_list[d].date().day}\" for d in range(0,len(days_list),delta_day)]\n",
    "\n",
    "day_ticks = [days_list[d] for d in range(0,len(days_list),delta_day)]\n",
    "\n",
    "\n",
    "# Central European Time is 2 hours later than UTC (Coordinated Universal Time)\n",
    "##max temp is around 4pm local time or 16:00, in UTC it is 14:00 or 2pm\n",
    "## start of\n",
    "\n",
    "#all times in UTC\n",
    "hour_of_approx_max_temp = 14\n",
    "# hourMaxTemp = [dtt.datetime(2007, 6, 14,hour_of_approx_max_temp,0,0) + pd.DateOffset(i) for i in range(0,numDays)]\n",
    "\n",
    "\n",
    "## ts 2021/08/07 : change line to start of day\n",
    "dayStart = hourMaxTemp = [dtt.datetime(2007, 6, 14) + pd.DateOffset(i) for i in range(0,numDays)]\n",
    "\n",
    "hour24labels = [str(r) for r in range(0,24)] #UTC\n",
    "\n",
    "print(day_labels)\n",
    "############################################################\n",
    "############################################################\n",
    "\n",
    "       "
   ]
  },
  {
   "cell_type": "code",
   "execution_count": null,
   "metadata": {},
   "outputs": [],
   "source": []
  },
  {
   "cell_type": "code",
   "execution_count": 13,
   "metadata": {},
   "outputs": [],
   "source": [
    "plt.rcParams['image.cmap']='magma'\n",
    "\n",
    "plt.rcParams.update({'font.size': 8})\n",
    "colors =cm.Paired(np.array([1,5,7,9,2,4,6,8]))\n",
    "\n",
    "\n",
    "## when plotting, add a bit of buffer so bars aren't cut off\n",
    "tlimstart = pd.to_datetime('2007-06-13 12:00:00')\n",
    "tlimend   = pd.to_datetime('2007-07-22 12:00:00')\n",
    "\n",
    "\n",
    "lw1=4        \n",
    "lw2=5\n",
    "alphaT=1\n",
    "ylabfont=8\n",
    "ylabpad =10\n",
    "\n",
    "\n",
    "plt_kwargs = {'lw1':lw1,\n",
    "              'lw2':lw2,\n",
    "              'alphaT':alphaT,\n",
    "              'ylabfont':ylabfont,\n",
    "              'ylabpad':ylabpad,\n",
    "              'colors':colors,\n",
    "              'scaling':scaling,\n",
    "              'sgram_mode':sgram_mode,\n",
    "              'hour24labels':hour24labels,\n",
    "              'day_ticks':day_ticks,\n",
    "              'day_labels':day_labels,\n",
    "              'numDays':numDays,\n",
    "              'hourMaxTemp':hourMaxTemp,\n",
    "              'tstart':tlimstart, ## for extending x axis to fit bars\n",
    "              'tend':tlimend,     ## for extending x axis to fit bars\n",
    "              'tstartreal':tstart,## actual study bound\n",
    "              'tendreal':tend,     ## actual study bound\n",
    "              'supraDraint':supraDraint,\n",
    "              'subDraint':subDraint,\n",
    "              'drainEndt':drainEndt}            \n"
   ]
  },
  {
   "cell_type": "markdown",
   "metadata": {},
   "source": [
    "## Specs for figures JGR"
   ]
  },
  {
   "cell_type": "code",
   "execution_count": 14,
   "metadata": {},
   "outputs": [],
   "source": [
    "#quarter page\n",
    "width1 = 3.74016\n",
    "height1 = 4.52756\n",
    "\n",
    "#full page\n",
    "width2 = 7.48031\n",
    "height2 = 9.05512"
   ]
  },
  {
   "cell_type": "markdown",
   "metadata": {},
   "source": [
    "# Figure 7 - Map of Icequakes\n"
   ]
  },
  {
   "cell_type": "code",
   "execution_count": 15,
   "metadata": {},
   "outputs": [
    {
     "data": {
      "image/png": "[encoded data removed]",
      "text/plain": [
       "<Figure size 538.582x325.984 with 1 Axes>"
      ]
     },
     "metadata": {
      "needs_background": "light"
     },
     "output_type": "display_data"
    }
   ],
   "source": [
    "topF = 20\n",
    "catRep = getTopFCat(cat00,topF)\n",
    "\n",
    "\n",
    "##v3 separate map for each cluster\n",
    "##settings for yellow bars\n",
    "plotMap = 0\n",
    "size1 = 1000\n",
    "a1 = .7\n",
    "\n",
    "k=3\n",
    "plt.rcParams.update({'font.size': 12})\n",
    "\n",
    "\n",
    "# if 'Event' in key:\n",
    "fig,axes = plt.subplots(figsize = (width2,height1))#,sharex=True,constrained_layout=True)\n",
    "\n",
    "\n",
    "gs = gridspec.GridSpec(1,1)\n",
    "\n",
    "# gs.update(wspace=0.02, hspace=0.07)\n",
    "\n",
    "ax = plt.subplot(gs[0])\n",
    "\n",
    "ax.set_aspect('equal')\n",
    "ax.tick_params(axis='x',labelrotation=45)\n",
    "\n",
    "\n",
    "# cat00k = cat00[cat00.Cluster==k]\n",
    "\n",
    "\n",
    "\n",
    "\n",
    "\n",
    "figureFunctions2.plotMap(cat00,\n",
    "        ax=ax,\n",
    "        colorBy='cluster',\n",
    "        size=3,\n",
    "        lw=1,\n",
    "        alpha=.3,\n",
    "        edgecolor='cluster',\n",
    "        **plt_kwargs); #'oneCluster''cluster';'all';'datetime'\n",
    "\n",
    "\n",
    "figureFunctions2.plotMap(catRep,\n",
    "        ax=ax,\n",
    "        colorBy='cluster',\n",
    "        size=25,\n",
    "        marker='o',\n",
    "        lw=1,\n",
    "        alpha=.6,\n",
    "        edgecolor='None',\n",
    "        **plt_kwargs); #'oneCluster''cluster';'all';'datetime'\n",
    "\n",
    "\n",
    "\n",
    "\n",
    "###% Stations\n",
    "\n",
    "figureFunctions2.plotStations(stn,station,ax=ax)   \n",
    "\n",
    "\n",
    "\n",
    "#%% Legend\n",
    "\n",
    "\n",
    "from matplotlib.lines import Line2D\n",
    "\n",
    "ms2 = 6\n",
    "\n",
    "n_list = [len(cat00[cat00.Cluster==k]) for k in range(1,Kopt+1)]\n",
    "\n",
    "legend_elements = [Line2D([0], [0], marker='o', linestyle='None', color=colors[0], label=f'C1, n={n_list[0]}',markersize=ms2),\n",
    "                    Line2D([0], [0], marker='o', linestyle='None', color=colors[1], label=f'C2, n={n_list[1]}',markersize=ms2),\n",
    "                    Line2D([0], [0], marker='o', linestyle='None', color=colors[2], label=f'C3, n={n_list[2]}',markersize=ms2)]\n",
    "\n",
    "# Create the figure\n",
    "\n",
    "ax.legend(handles=legend_elements)#, loc='center')\n",
    "\n",
    "\n",
    "\n",
    "#%% limits \n",
    "\n",
    "\n",
    "buff=5\n",
    "ax.set_xlim(cat00.X_m.min()-buff,cat00.X_m.max()+buff)\n",
    "ax.set_ylim(cat00.Y_m.min()-buff,cat00.Y_m.max()+buff)\n",
    "\n",
    "\n",
    "plt.savefig(pathFig + f'Figure_7.png', dpi=300, bbox_inches='tight')\n",
    "\n"
   ]
  },
  {
   "cell_type": "markdown",
   "metadata": {},
   "source": []
  },
  {
   "cell_type": "code",
   "execution_count": null,
   "metadata": {},
   "outputs": [],
   "source": []
  },
  {
   "cell_type": "markdown",
   "metadata": {},
   "source": [
    "# Figure 8\n",
    "\n",
    "## Get Features for Rep Events\n"
   ]
  },
  {
   "cell_type": "code",
   "execution_count": 16,
   "metadata": {},
   "outputs": [
    {
     "name": "stdout",
     "output_type": "stream",
     "text": [
      "getting features for events...\n"
     ]
    },
    {
     "name": "stderr",
     "output_type": "stream",
     "text": [
      "/Users/theresasawi/opt/anaconda3/envs/seismo2/lib/python3.7/site-packages/librosa/core/spectrum.py:224: UserWarning: n_fft=2048 is too small for input signal of length=2001\n",
      "  n_fft, y.shape[-1]\n"
     ]
    },
    {
     "name": "stdout",
     "output_type": "stream",
     "text": [
      "getting features for noise...\n",
      "done!\n",
      "getting location features for events...\n"
     ]
    }
   ],
   "source": [
    "catRepN = getTopFCat(cat00N,topF)\n",
    "\n",
    "\n",
    "gF = 1\n",
    "if gF:\n",
    "    \n",
    "    print('getting features for events...')\n",
    "    df = getFeatures(catRep,dataH5_path,station,channel,fmin,fmax,fs,nfft)\n",
    "    \n",
    "    print('getting features for noise...')    \n",
    "    dfN = getFeatures(catRepN,dataH5_pathN,station,channel,fminN,fmaxN,fsN,nfftN)\n",
    "\n",
    "#     df = getFeatures(catRep,filetype,fmin,fmax,fs,path_WF,nfft,dataH5_path,station,channel)\n",
    "    \n",
    "#     print('getting features for noise...')    \n",
    "#     dfN = getFeatures(catRepN,filetypeN,fminN,fmaxN,fsN,path_WFN,nfftN,dataH5_pathN,station,channel)\n",
    "    print('done!')\n",
    "    \n",
    "    # get location features\n",
    "\n",
    "\n",
    "    print('getting location features for events...')    \n",
    "    df_loc = getLocationFeatures(catRep,stn,station)"
   ]
  },
  {
   "cell_type": "markdown",
   "metadata": {},
   "source": [
    "# Figure 8 - Boxplots \n",
    "\n",
    "## plot feature boxplots\n"
   ]
  },
  {
   "cell_type": "code",
   "execution_count": 17,
   "metadata": {},
   "outputs": [
    {
     "name": "stderr",
     "output_type": "stream",
     "text": [
      "/Users/theresasawi/opt/anaconda3/envs/seismo2/lib/python3.7/site-packages/ipykernel_launcher.py:112: UserWarning: This figure includes Axes that are not compatible with tight_layout, so results might be incorrect.\n"
     ]
    },
    {
     "data": {
      "image/png": "[encoded data removed]",
      "text/plain": [
       "<Figure size 269.292x651.969 with 6 Axes>"
      ]
     },
     "metadata": {
      "needs_background": "light"
     },
     "output_type": "display_data"
    }
   ],
   "source": [
    "\n",
    "\n",
    "\n",
    "\n",
    "\n",
    "plt.rcParams.update({'font.size': 8})\n",
    "\n",
    "fig,axes = plt.subplots(figsize = (width1,height2))#,sharex=True,constrained_layout=True)\n",
    "gs = gridspec.GridSpec(4,7)\n",
    "gs.update(wspace=4, hspace=0.1)\n",
    "\n",
    "\n",
    "FS = 13 #'Cluster' x label\n",
    "\n",
    "tfont = 14\n",
    "tpad = 6\n",
    "title = 'Icequakes'\n",
    "titleN = 'Noise'\n",
    "\n",
    "textYN = 8\n",
    "textY = 7.8\n",
    "\n",
    "\n",
    "\n",
    "# ### ### ### ### ### ### ### ### ### ### ### ### \n",
    "# ### ### ### ### ### ### ### ### ### ### ### ### \n",
    "# ####### LOCATION LOCATION LOCATION\n",
    "# ### ### ### ### ### ### ### ### ### ### ### ### \n",
    "# ### ### ### ### ### ### ### ### ### ### ### ### \n",
    "\n",
    "## plot 3D dist boxplot\n",
    "ax = plt.subplot(gs[0,0:3])\n",
    "ax.set_title(title,fontsize=tfont,pad=tpad)\n",
    "\n",
    "figureFunctions2.plotFeatureBoxPlot(df_loc,Kopt,'DistXYZ_m',ax=ax,**plt_kwargs)\n",
    "ax.set_ylabel('Station distance (m)',labelpad=10)\n",
    "ax.set_xlabel('')\n",
    "ax.set_xticks([])\n",
    "ax.set_xticklabels('')\n",
    "\n",
    "\n",
    "\n",
    "## plot full Depth boxplot\n",
    "ax = plt.subplot(gs[1,0:3])\n",
    "figureFunctions2.plotFeatureBoxPlot(df_loc,Kopt,'Depth_m',ax=ax,**plt_kwargs)\n",
    "ax.invert_yaxis()\n",
    "\n",
    "ax.set_ylabel('')\n",
    "ax.set_xticks([])\n",
    "ax.set_xticklabels('')\n",
    "ax.set_xlabel('')\n",
    "\n",
    "ax.set_ylabel('Depth (m)',labelpad=10)\n",
    "\n",
    "\n",
    "### ### ### ### ### ### ### ### ### ### ### ### \n",
    "### ### ### ### ### ### ### ### ### ### ### ### \n",
    "## plot boxplot for RSAM\n",
    "ax = plt.subplot(gs[2,0:3])\n",
    "\n",
    "figureFunctions2.plotFeatureBoxPlot(df,Kopt,'log10RSAM',ax=ax,**plt_kwargs)\n",
    "ax.set_ylabel('log10(RSAM) ($m/s^2$)',labelpad=5)\n",
    "ax.set_xticks([])\n",
    "ax.set_xticklabels('')\n",
    "ax.set_xlabel('')\n",
    "# ax.grid('off')\n",
    "\n",
    "\n",
    "\n",
    "### ### ### ### ### ### ### ### ### ### ### ### \n",
    "## plot Boxplot for SC\n",
    "ax = plt.subplot(gs[3,0:3])\n",
    "figureFunctions2.plotFeatureBoxPlot(df,Kopt,'SC',ax=ax,**plt_kwargs)\n",
    "# ax.set_xlabel('Cluster',labelpad=4,fontsize=FS)\n",
    "ax.set_ylabel('Spectral centroid ($Hz$)',labelpad=5)\n",
    "# ax.set_xticks([])\n",
    "# ax.set_xticklabels('')\n",
    "# ax.set_xlabel('')\n",
    "# ax.grid('off')\n",
    "\n",
    "\n",
    "\n",
    "\n",
    "### ### ### ### ### ### ### ### ### ### ### ### \n",
    "### ### ### ### ### ### ### ### ### ### ### ### \n",
    "####### NOISENOISENOISE\n",
    "### ### ### ### ### ### ### ### ### ### ### ### \n",
    "### ### ### ### ### ### ### ### ### ### ### ### \n",
    "\n",
    "\n",
    "### ### ### ### ### ### ### ### ### ### ### ### \n",
    "### ### ### ### ### ### ### ### ### ### ### ### \n",
    "## plot boxplot for RSAM NOISE\n",
    "ax = plt.subplot(gs[2,3:])\n",
    "ax.set_title(titleN,fontsize=tfont,pad=tpad)\n",
    "figureFunctions2.plotFeatureBoxPlot(dfN,KoptN,'log10RSAM',ax=ax,**plt_kwargs)\n",
    "# ax.set_ylabel('log10(RSAM)',labelpad=12)\n",
    "ax.set_ylabel('')\n",
    "\n",
    "\n",
    "\n",
    "\n",
    "### ### ### ### ### ### ### ### ### ### ### ### \n",
    "## plot Boxplot for SC NOISE\n",
    "ax = plt.subplot(gs[3,3:])\n",
    "figureFunctions2.plotFeatureBoxPlot(dfN,KoptN,'SC',ax=ax,**plt_kwargs)\n",
    "# ax.set_ylabel('Spectral centroid (Hz)',labelpad=4)\n",
    "ax.set_ylabel('')\n",
    "\n",
    "\n",
    "\n",
    "\n",
    "\n",
    "\n",
    "\n",
    "\n",
    "plt.tight_layout()\n",
    "plt.savefig(pathFig + f'Figure_8.png', dpi=300, bbox_inches='tight')"
   ]
  },
  {
   "cell_type": "code",
   "execution_count": null,
   "metadata": {},
   "outputs": [],
   "source": []
  },
  {
   "cell_type": "code",
   "execution_count": null,
   "metadata": {},
   "outputs": [],
   "source": []
  },
  {
   "cell_type": "code",
   "execution_count": null,
   "metadata": {},
   "outputs": [],
   "source": []
  },
  {
   "cell_type": "markdown",
   "metadata": {},
   "source": [
    "# Figure 9 - Hourly clusters"
   ]
  },
  {
   "cell_type": "code",
   "execution_count": null,
   "metadata": {},
   "outputs": [],
   "source": []
  },
  {
   "cell_type": "code",
   "execution_count": null,
   "metadata": {},
   "outputs": [],
   "source": []
  },
  {
   "cell_type": "markdown",
   "metadata": {},
   "source": [
    "## Stack hourly"
   ]
  },
  {
   "cell_type": "code",
   "execution_count": 18,
   "metadata": {},
   "outputs": [
    {
     "name": "stderr",
     "output_type": "stream",
     "text": [
      "../src/visualization/functions2.py:350: FutureWarning: 'loffset' in .resample() and in Grouper() is deprecated.\n",
      "\n",
      ">>> df.resample(freq=\"3s\", loffset=\"8H\")\n",
      "\n",
      "becomes:\n",
      "\n",
      ">>> from pandas.tseries.frequencies import to_offset\n",
      ">>> df = df.resample(freq=\"3s\").mean()\n",
      ">>> df.index = df.index.to_timestamp() + to_offset(\"8H\")\n",
      "\n",
      "  temp_H = meteor_df1.temp.resample('H',loffset='30T').mean().ffill()\n",
      "../src/visualization/functions2.py:351: FutureWarning: 'loffset' in .resample() and in Grouper() is deprecated.\n",
      "\n",
      ">>> df.resample(freq=\"3s\", loffset=\"8H\")\n",
      "\n",
      "becomes:\n",
      "\n",
      ">>> from pandas.tseries.frequencies import to_offset\n",
      ">>> df = df.resample(freq=\"3s\").mean()\n",
      ">>> df.index = df.index.to_timestamp() + to_offset(\"8H\")\n",
      "\n",
      "  temp_D = meteor_df1.temp.resample('D',loffset='12H').mean().ffill()\n"
     ]
    },
    {
     "data": {
      "image/png": "[encoded data removed]",
      "text/plain": [
       "<Figure size 269.292x325.984 with 4 Axes>"
      ]
     },
     "metadata": {
      "needs_background": "light"
     },
     "output_type": "display_data"
    }
   ],
   "source": [
    "plt.rcParams.update({'font.size': 12})\n",
    "title = 'Icequakes'\n",
    "titleN = 'Noise'\n",
    "dailyTempDiff = getDailyTempDiff(meteor_df,**plt_kwargs)\n",
    "\n",
    "\n",
    "tfont = 14\n",
    "tpad = 16\n",
    "\n",
    "fig,axes = plt.subplots(figsize = (width1,height1))#,sharex=True)#,constrained_layout=True)\n",
    "\n",
    "plt.suptitle('Icequakes                Noise  ',fontsize=tfont,y=.94)  \n",
    "\n",
    "gs = gridspec.GridSpec(KoptN+1, 2)\n",
    "\n",
    "gs.update(wspace=.5, hspace=.8)\n",
    "\n",
    "\n",
    "### ICEQUAKE PROPORTION HOURLY\n",
    "ax = plt.subplot(gs[0,0])\n",
    "figureFunctions2.plotHourBarStack(cat00,Kopt,dailyTempDiff,ax=ax,labelpad=10,label='none',colorBy='cluster',k=k,**plt_kwargs)\n",
    "ax.set_ylabel('Proportion of \\n observations    ',labelpad=8)\n",
    "ax.set_xlabel('                                   Hour of Day (UTC)',labelpad=8)\n",
    "ax.set_xlim(-.5,23.5)   \n",
    "ax.set_ylim(0,1)\n",
    "    \n",
    "# ### NOISE PROPORTION HOURLY\n",
    "axN = plt.subplot(gs[0,1])\n",
    "figureFunctions2.plotHourBarStack(cat00N,KoptN,dailyTempDiff,ax=axN,labelpad=8,label='right',**plt_kwargs)\n",
    "axN.set_ylabel('')\n",
    "axN.set_xlabel('')\n",
    "axN.set_xlim(-.5,23.5)\n",
    "axN.set_ylim(0,1)\n",
    "\n",
    "\n",
    "plt.savefig(pathFig + f'Figure_9_stack.png', dpi=300, bbox_inches='tight')\n"
   ]
  },
  {
   "cell_type": "markdown",
   "metadata": {},
   "source": [
    "# Figure 10 -  Clusters and GPS displacement over season"
   ]
  },
  {
   "cell_type": "markdown",
   "metadata": {},
   "source": []
  },
  {
   "cell_type": "code",
   "execution_count": 19,
   "metadata": {},
   "outputs": [
    {
     "name": "stdout",
     "output_type": "stream",
     "text": [
      "/Users/theresasawi/Documents/11_Manuscripts/Sawietal_2021/SawiEtAl_2021/notebooks\n"
     ]
    }
   ],
   "source": [
    "!pwd"
   ]
  },
  {
   "cell_type": "code",
   "execution_count": 30,
   "metadata": {},
   "outputs": [
    {
     "data": {
      "image/png": "[encoded data removed]",
      "text/plain": [
       "<Figure size 269.292x651.969 with 44 Axes>"
      ]
     },
     "metadata": {
      "needs_background": "light"
     },
     "output_type": "display_data"
    }
   ],
   "source": [
    "from matplotlib.ticker import FormatStrFormatter\n",
    "plt.rcParams.update({'font.size': 10})\n",
    "fig,axes = plt.subplots(figsize = (width1,height2))#,sharex=True)#,constrained_layout=True)\n",
    "\n",
    "\n",
    "\n",
    "gs = gridspec.GridSpec(KoptN+Kopt+1,1)\n",
    "gs.update(wspace=.6, hspace=.15)\n",
    "\n",
    "tpad = 6\n",
    "\n",
    "\n",
    "gpsstations = [24,34,36,37]\n",
    "\n",
    "timecode = '3H'\n",
    "datatype = ''\n",
    "\n",
    "\n",
    "title = 'Icequakes'\n",
    "textY = 16  \n",
    "ymax = 8.7\n",
    "\n",
    "texty = 15\n",
    "\n",
    "for k in range(1,Kopt+1):\n",
    "    \n",
    "    ax=plt.subplot(gs[k-1,0])\n",
    "\n",
    "    figureFunctions2.plotBarCluster(cat00,k=k,barWidth=.3,timeBin='H',ax=ax,**plt_kwargs)\n",
    "\n",
    "    \n",
    "    if k == 1:\n",
    "\n",
    "        figureFunctions2.plotLake(lake_df,rain_df,legend=None,ylabel='right',ax=ax,**plt_kwargs)  \n",
    "        \n",
    "        ##title\n",
    "        ax.text(x=datetime.datetime(2007,6,14),y= ymax+.2, s='Icequakes',color='k',size=texty)\n",
    "\n",
    "        ax.text(x=supraDraint,y= ymax, s='1.',color='fuchsia',size=texty)\n",
    "        ax.text(x=subDraint,y= ymax,s='2.',color='fuchsia',size=texty)\n",
    "        ax.text(x=drainEndt,y= ymax,s='3.',color='fuchsia',size=texty)\n",
    "   \n",
    "\n",
    "\n",
    "        for gps_dff in gps_df_list:\n",
    "            figureFunctions2.plotGPS(gps_dff.gps_roll,ylabel='none',size=.1,ax=ax,**plt_kwargs)\n",
    "    \n",
    "    elif k==2:    \n",
    "        ax.set_ylabel('Observations per hour',labelpad=6) \n",
    "        figureFunctions2.plotLake(lake_df,rain_df,legend=None,ylabel='none',ax=ax,**plt_kwargs)\n",
    "        \n",
    "        for gps_dff in gps_df_list:\n",
    "            figureFunctions2.plotGPS(gps_dff.gps_roll,ylabel='none',size=.1,ax=ax,**plt_kwargs)\n",
    "            \n",
    "            \n",
    "    elif k==3:\n",
    "        for e, gps_dff in enumerate(gps_df_list):\n",
    "            if e==0:\n",
    "                figureFunctions2.plotGPS(gps_dff.gps_roll,ylabel='right',size=.1,ax=ax,**plt_kwargs)\n",
    "            else:\n",
    "                figureFunctions2.plotGPS(gps_dff.gps_roll,ylabel='none',size=.1,ax=ax,**plt_kwargs)\n",
    "        figureFunctions2.plotLake(lake_df,rain_df,legend=None,ylabel='none',ax=ax,**plt_kwargs)\n",
    "    \n",
    "    else:\n",
    "        figureFunctions2.plotLake(lake_df,rain_df,legend=None,ylabel='none',ax=ax,**plt_kwargs)\n",
    "        for gps_dff in gps_df_list:\n",
    "            figureFunctions2.plotGPS(gps_dff.gps_roll,ylabel='none',size=.1,ax=ax,**plt_kwargs)\n",
    "            \n",
    "        ## lol 3 for alpha\n",
    "#     figureFunctions2.plotTemp(meteor_df.temp,ax=ax,labels='off',**plt_kwargs)  \n",
    "#     figureFunctions2.plotTemp(meteor_df.temp,ax=ax,labels='off',**plt_kwargs)   \n",
    "#     figureFunctions2.plotTemp(meteor_df.temp,ax=ax,labels='off',**plt_kwargs)               \n",
    "        \n",
    "    \n",
    "    ax.axvline(x=subDraint,color='fuchsia',linestyle='--',linewidth=2, alpha=1)\n",
    "    ax.axvline(x=supraDraint,color='fuchsia',linestyle='--',linewidth=2, alpha=1)   \n",
    "    ax.axvline(x=drainEndt,color='fuchsia',ls='--',linewidth=2)\n",
    "\n",
    "\n",
    "    if k == Kopt:\n",
    "        ax.set_xlabel('Date, 2007 (month-day)')\n",
    "        ax.tick_params(axis='x',labelrotation=0)\n",
    "        \n",
    "    else:\n",
    "        ax.set_xlabel('')\n",
    "        ax.set_xticklabels('')\n",
    "\n",
    "        \n",
    "        \n",
    "ax=plt.subplot(gs[Kopt,0])\n",
    "ax.axis('off')\n",
    "\n",
    "\n",
    "\n",
    "\n",
    "\n",
    "\n",
    "titleN = 'Noise'\n",
    "textYN = 17\n",
    "# ymaxN = 18\n",
    "ymaxN = 13\n",
    "\n",
    "for k in range(1,KoptN+1):\n",
    "    \n",
    "    ax=plt.subplot(gs[k-1+Kopt+1,0])\n",
    "#     ax.set_ylim(ymin=0)\n",
    "\n",
    "    figureFunctions2.plotBarCluster(cat00N,k=k,barWidth=.3,ax=ax,**plt_kwargs)\n",
    "    ## lol 3 for alpha\n",
    "#     figureFunctions2.plotTemp(meteor_df.temp,ax=ax,labels='off',**plt_kwargs)  \n",
    "#     figureFunctions2.plotTemp(meteor_df.temp,ax=ax,labels='off',**plt_kwargs)   \n",
    "#     figureFunctions2.plotTemp(meteor_df.temp,ax=ax,labels='off',**plt_kwargs)   \n",
    "    \n",
    "\n",
    "\n",
    "    \n",
    "    \n",
    "    ax.axvline(x=subDraint,color='fuchsia',linestyle='--',linewidth=2, alpha=1)\n",
    "    ax.axvline(x=supraDraint,color='fuchsia',linestyle='--',linewidth=2, alpha=1)   \n",
    "    ax.axvline(x=drainEndt,color='fuchsia',ls='--',linewidth=2)\n",
    "    \n",
    "    \n",
    "    if k == 1:\n",
    "        ax.set_xlabel('')\n",
    "        ax.set_xticklabels('')\n",
    "#         ax.set_title(titleN,fontsize=tfont,pad=tpad)\n",
    "\n",
    "        figureFunctions2.plotLake(lake_df,rain_df,legend=None,ylabel='right',ax=ax,**plt_kwargs)\n",
    "\n",
    "        \n",
    "        \n",
    "        ###TITLE\n",
    "        ax.text(x=datetime.datetime(2007,6,14),y= ymaxN, s='Noise',color='k',size=texty)\n",
    "        \n",
    "        \n",
    "        ax.text(x=supraDraint,y= ymaxN, s='1.',color='fuchsia',size=texty)\n",
    "        ax.text(x=subDraint,  y= ymaxN,s='2.',color='fuchsia',size=texty)\n",
    "        ax.text(x=drainEndt,  y= ymaxN,s='3.',color='fuchsia',size=texty)\n",
    "   \n",
    "    if k == 3:\n",
    "\n",
    "        ax.set_ylabel('Observations per hour',labelpad=6)  \n",
    "        figureFunctions2.plotLake(lake_df,rain_df,legend=None,ylabel=None,ax=ax,**plt_kwargs)\n",
    "        \n",
    "        for e, gps_dff in enumerate(gps_df_list):\n",
    "            if e==0:\n",
    "                figureFunctions2.plotGPS(gps_dff.gps_roll,ylabel='right',size=.1,ax=ax,**plt_kwargs)\n",
    "            else:\n",
    "                figureFunctions2.plotGPS(gps_dff.gps_roll,ylabel='none',size=.1,ax=ax,**plt_kwargs)\n",
    "    else:\n",
    "        figureFunctions2.plotLake(lake_df,rain_df,legend=None,ylabel=None,ax=ax,**plt_kwargs)\n",
    "        \n",
    "        for gps_dff in gps_df_list:\n",
    "            figureFunctions2.plotGPS(gps_dff.gps_roll,ylabel='none',size=.1,ax=ax,**plt_kwargs)\n",
    "\n",
    "    if k == KoptN:\n",
    "        ax.set_xlabel('Date, 2007 (month-day)')\n",
    "        ax.tick_params(axis='x',labelrotation=0)\n",
    "        \n",
    "    else:\n",
    "        ax.set_xlabel('')\n",
    "        ax.set_xticklabels('')\n",
    "    ax.set_ylim(bottom=.5)\n",
    "    \n",
    "        \n",
    "plt.savefig(pathFig + f'clusterBarplot.png', dpi=300, bbox_inches='tight')"
   ]
  },
  {
   "cell_type": "code",
   "execution_count": null,
   "metadata": {},
   "outputs": [],
   "source": []
  },
  {
   "cell_type": "code",
   "execution_count": null,
   "metadata": {},
   "outputs": [],
   "source": []
  },
  {
   "cell_type": "markdown",
   "metadata": {},
   "source": [
    "# PLaying with heat map -- need to interpolate time series"
   ]
  },
  {
   "cell_type": "markdown",
   "metadata": {},
   "source": [
    "## Pad earlier and later dates as list"
   ]
  },
  {
   "cell_type": "code",
   "execution_count": 21,
   "metadata": {},
   "outputs": [],
   "source": [
    "\n",
    "i=1\n",
    "timeBin='3H'\n",
    "barWidth=.1\n",
    "\n",
    "\n",
    "barHeightsPadList = []\n",
    "\n",
    "\n",
    "\n",
    "for k in range(1,Kopt+1):\n",
    "    \n",
    "    clus_events = cat00[cat00.Cluster == k]\n",
    "\n",
    "    barHeights = clus_events.resample(timeBin).event_ID.count()\n",
    "    \n",
    "    startFill = pd.date_range(start=cat00.index[0], end=barHeights.index[0], freq='3H')\n",
    "    endFill = pd.date_range(start=barHeights.index[-1], end=cat00.index[-1], freq='3H')\n",
    "    \n",
    "    startFillZ = np.zeros(len(startFill),dtype='int64')\n",
    "    endFillZ = np.zeros(len(endFill),dtype='int64')\n",
    "    \n",
    "    barHeightsPad = np.hstack([startFillZ,barHeights])\n",
    "    barHeightsPad = np.hstack([barHeightsPad,endFillZ])\n",
    "    \n",
    "    barHeightsPadList.append(barHeightsPad)\n",
    "\n",
    "\n",
    "barHeights_ar = np.array(barHeightsPadList)\n"
   ]
  },
  {
   "cell_type": "markdown",
   "metadata": {},
   "source": [
    "## Plot heat map"
   ]
  },
  {
   "cell_type": "code",
   "execution_count": 22,
   "metadata": {},
   "outputs": [
    {
     "data": {
      "text/plain": [
       "<matplotlib.lines.Line2D at 0x7fdb008a8910>"
      ]
     },
     "execution_count": 22,
     "metadata": {},
     "output_type": "execute_result"
    },
    {
     "data": {
      "image/png": "[encoded data removed]",
      "text/plain": [
       "<Figure size 538.582x325.984 with 2 Axes>"
      ]
     },
     "metadata": {
      "needs_background": "light"
     },
     "output_type": "display_data"
    }
   ],
   "source": [
    "plt.figure(figsize=(width2,height1))\n",
    "ax = plt.gca()\n",
    "sns.heatmap(barHeights_ar,\n",
    "            cmap=cm.Greys,\n",
    "            vmin = 0, #Values to anchor the colormap, otherwise they are inferred from the data and other keyword arguments.\n",
    "            vmax = np.max(barHeightsPadList),\n",
    "            square=False,\n",
    "            ax=ax)\n",
    "\n",
    "ax.set_ylabel('Observations \\n per hour',labelpad=4)\n",
    "#     ax.set_ylim(0,40)\n",
    "#     ax.set_xlim(clus_events_perday.index.min(),clus_events_perday.index.max())\n",
    "# ax.set_xticks([])\n",
    "ax.set_yticks([0.5,1.5,2.5])\n",
    "ax.set_yticklabels(['1','2','3'])\n",
    "# ax.set_xticklabels(day_labels)\n",
    "ax.set_ylabel('Cluster')\n",
    "ax.set_xlabel('time')\n",
    "    \n",
    "ax.axvline(x=0,c='k',linestyle='--',linewidth=2, alpha=1)\n",
    "ax.axvline(x=supraDraint,c='k',linestyle='--',linewidth=2, alpha=1)   \n",
    "ax.axvline(x=drainEndt,color='k',ls='--',linewidth=2)\n",
    "\n",
    "# ax.set_xlim(tstart,tend)\n"
   ]
  },
  {
   "cell_type": "markdown",
   "metadata": {},
   "source": [
    "## Same for Noise"
   ]
  },
  {
   "cell_type": "code",
   "execution_count": 23,
   "metadata": {},
   "outputs": [],
   "source": [
    "\n",
    "i=1\n",
    "timeBin='3H'\n",
    "barWidth=.1\n",
    "\n",
    "\n",
    "barHeightsPadListN = []\n",
    "\n",
    "\n",
    "\n",
    "for k in range(1,KoptN+1):\n",
    "    \n",
    "    clus_events = cat00N[cat00N.Cluster == k]\n",
    "\n",
    "    barHeightsN = clus_events.resample(timeBin).event_ID.count()\n",
    "    \n",
    "    startFill = pd.date_range(start=cat00N.index[0], end=barHeightsN.index[0], freq='3H')\n",
    "    endFill = pd.date_range(start=barHeightsN.index[-1], end=cat00N.index[-1], freq='3H')\n",
    "    \n",
    "    startFillZ = np.zeros(len(startFill),dtype='int64')\n",
    "    endFillZ = np.zeros(len(endFill),dtype='int64')\n",
    "    \n",
    "    barHeightsPadN = np.hstack([startFillZ,barHeightsN])\n",
    "    barHeightsPadN = np.hstack([barHeightsPadN,endFillZ])\n",
    "    \n",
    "    barHeightsPadListN.append(barHeightsPadN)\n",
    "barHeights_arN = np.array(barHeightsPadListN)    "
   ]
  },
  {
   "cell_type": "code",
   "execution_count": null,
   "metadata": {},
   "outputs": [],
   "source": []
  },
  {
   "cell_type": "code",
   "execution_count": 24,
   "metadata": {},
   "outputs": [
    {
     "data": {
      "text/plain": [
       "array([   0.5,   10.5,   20.5,   30.5,   40.5,   50.5,   60.5,   70.5,\n",
       "         80.5,   90.5,  100.5,  110.5,  120.5,  130.5,  140.5,  150.5,\n",
       "        160.5,  170.5,  180.5,  190.5,  200.5,  210.5,  220.5,  230.5,\n",
       "        240.5,  250.5,  260.5,  270.5,  280.5,  290.5,  300.5])"
      ]
     },
     "execution_count": 24,
     "metadata": {},
     "output_type": "execute_result"
    }
   ],
   "source": [
    "ax.get_xticks()"
   ]
  },
  {
   "cell_type": "code",
   "execution_count": 25,
   "metadata": {},
   "outputs": [
    {
     "data": {
      "text/plain": [
       "Text(0.5, 19.74804, 'time')"
      ]
     },
     "execution_count": 25,
     "metadata": {},
     "output_type": "execute_result"
    },
    {
     "data": {
      "image/png": "[encoded data removed]",
      "text/plain": [
       "<Figure size 538.582x325.984 with 2 Axes>"
      ]
     },
     "metadata": {
      "needs_background": "light"
     },
     "output_type": "display_data"
    }
   ],
   "source": [
    "plt.figure(figsize=(width2,height1))\n",
    "ax = plt.gca()\n",
    "p1 = sns.heatmap(barHeights_arN,\n",
    "            cmap=cm.Greys,\n",
    "            vmin = 0, #Values to anchor the colormap, otherwise they are inferred from the data and other keyword arguments.\n",
    "            vmax = np.max(barHeightsPadListN),\n",
    "            square=False,\n",
    "            ax=ax)\n",
    "\n",
    "p1.set_xticklabels(ax.get_xticklabels(), rotation=45)\n",
    "\n",
    "\n",
    "ax.set_ylabel('Observations \\n per hour',labelpad=4)\n",
    "#     ax.set_ylim(0,40)\n",
    "#     ax.set_xlim(clus_events_perday.index.min(),clus_events_perday.index.max())\n",
    "# ax.set_xticks([])\n",
    "ax.set_yticks([0.5,1.5,2.5,3.5])\n",
    "ax.set_yticklabels(['1','2','3','4'])\n",
    "# ax.set_xticklabels(day_labels)\n",
    "ax.set_ylabel('Cluster')\n",
    "ax.set_xlabel('time')\n",
    "# ax.set_xlim(tstart,tend)\n"
   ]
  },
  {
   "cell_type": "markdown",
   "metadata": {},
   "source": []
  },
  {
   "cell_type": "markdown",
   "metadata": {},
   "source": [
    "## Interpolate lake and gps data to x axes"
   ]
  },
  {
   "cell_type": "code",
   "execution_count": null,
   "metadata": {},
   "outputs": [],
   "source": []
  }
 ],
 "metadata": {
  "kernelspec": {
   "display_name": "Python 3",
   "language": "python",
   "name": "python3"
  },
  "language_info": {
   "codemirror_mode": {
    "name": "ipython",
    "version": 3
   },
   "file_extension": ".py",
   "mimetype": "text/x-python",
   "name": "python",
   "nbconvert_exporter": "python",
   "pygments_lexer": "ipython3",
   "version": "3.7.8"
  }
 },
 "nbformat": 4,
 "nbformat_minor": 4
}
