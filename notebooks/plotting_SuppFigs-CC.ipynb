{
 "cells": [
  {
   "cell_type": "markdown",
   "metadata": {},
   "source": [
    "# Plot Supp Figures - CC\n",
    "\n",
    "CC plots \n",
    "\n",
    "For Sawi et al., 2021"
   ]
  },
  {
   "cell_type": "code",
   "execution_count": null,
   "metadata": {},
   "outputs": [],
   "source": []
  },
  {
   "cell_type": "code",
   "execution_count": 1,
   "metadata": {},
   "outputs": [],
   "source": [
    "import h5py\n",
    "import pandas as pd\n",
    "import numpy as np\n",
    "from matplotlib import pyplot as plt\n",
    "from obspy import read\n",
    "from matplotlib import cm\n",
    "import matplotlib.gridspec as gridspec\n",
    "import os\n",
    "import datetime as dtt\n",
    "import matplotlib.patches\n",
    "import matplotlib.patches as mpatches\n",
    "import matplotlib.dates as mdates\n",
    "import datetime\n",
    "from  sklearn.preprocessing import StandardScaler\n",
    "import sys\n",
    "from matplotlib.patches import Rectangle\n",
    "import sklearn.metrics\n",
    "from scipy import spatial\n",
    "import matplotlib.image as mpimg\n",
    "import obspy\n",
    "from scipy.signal import butter, lfilter\n",
    "import librosa\n",
    "# sys.path.insert(0, '../01_DataPrep')\n",
    "from scipy.io import loadmat\n",
    "from sklearn.decomposition import PCA\n",
    "import scipy.io as spio\n",
    "from sklearn.metrics import silhouette_samples\n",
    "import seaborn as sns\n",
    "import scipy as sp\n",
    "import scipy.io as spio\n",
    "import scipy.signal\n",
    "from sklearn.metrics import confusion_matrix\n",
    "import seaborn as sns\n",
    "from sklearn.metrics import classification_report\n",
    "\n",
    "from obspy.signal.cross_correlation import correlate, xcorr_max\n",
    "\n",
    "\n",
    "sys.path.append('.')\n",
    "sys.path.append('../src/visualization/')\n",
    "\n",
    "import paths\n",
    "from sklearn.cluster import KMeans\n",
    "# import figureFunctions"
   ]
  },
  {
   "cell_type": "code",
   "execution_count": 2,
   "metadata": {},
   "outputs": [],
   "source": [
    "\n",
    "\n",
    "from functions2 import getFeatures, getLocationFeatures,getNMFOrder,resortByNMF,getSpectra_fromWF,getSgram\n",
    "from functions2 import PCAonFP,calcSilhScore,getDailyTempDiff,getSpectraMedian,CalcDiffPeak,PVEofPCA,getTopFCat,calcCCMatrix\n",
    "from functions2 import dateToEventID, catMergeFromH5, calcFFT, getWF, swapLabels,trimSpectra, KMeansSpectra, compileSpectraFromWF\n",
    "import figureFunctions2\n",
    "\n",
    "\n",
    "from functions2 import getFeatures, getLocationFeatures,getNMFOrder,resortByNMF,getSpectra_fromWF,getSgram\n",
    "from functions2 import PCAonFP,calcSilhScore,getDailyTempDiff,getSpectraMedian,CalcDiffPeak,PVEofPCA,getTopFCat,calcCCMatrix\n",
    "from functions2 import catMergeFromH5, swapLabels, calcFFT, getWF, swapLabels,trimSpectra, KMeansSpectra, compileSpectraFromWF\n",
    "import figureFunctions2"
   ]
  },
  {
   "cell_type": "markdown",
   "metadata": {},
   "source": [
    "## Define helper functions (move later)"
   ]
  },
  {
   "cell_type": "code",
   "execution_count": null,
   "metadata": {},
   "outputs": [],
   "source": []
  },
  {
   "cell_type": "markdown",
   "metadata": {},
   "source": [
    "## Set paths"
   ]
  },
  {
   "cell_type": "code",
   "execution_count": 3,
   "metadata": {},
   "outputs": [],
   "source": [
    "#%% load project variables: names and paths\n",
    "# key = sys.argv[1]\n",
    "\n",
    "key = \"BB_Gorner_Event_Final_v11_J8\"\n",
    "keyN = \"BB_Gorner_Cont_Final_v10_J8\"\n",
    "\n",
    "\n",
    "filetype = '.gse2'     \n",
    "filetypeN = '.sac' \n",
    "\n",
    "\n",
    "p = paths.returnp(key)\n",
    "pN = paths.returnp(keyN)\n",
    "\n",
    "#%%\n",
    "\n",
    "projName        = p['projName']\n",
    "datasetID       = p['datasetID']\n",
    "projName        = p['projName']\n",
    "station         = p['station']\n",
    "channel         = p['channel']\n",
    "path_top        = p['path_top']\n",
    "path_proj       = p['path_proj']\n",
    "outfile_name    = p['outfile_name']\n",
    "dataFile_name   = p['dataFile_name']\n",
    "path_WF         = p['path_WF']\n",
    "path_Cat        = p['path_Cat'] #original, raw catalog\n",
    "subCatalog_Name = f\"{dataFile_name}_Sgrams_Subcatalog.hdf5\"\n",
    "\n",
    "\n",
    "\n",
    "pathFP          = f'{path_top}{projName}/03_output/{station}/SpecUFEx_output/step4_FEATout/'\n",
    "pathACM         = f'{path_top}{projName}/03_output/{station}/SpecUFEx_output/step2_NMF/'\n",
    "pathSTM         = f'{path_top}{projName}/03_output/{station}/SpecUFEx_output/step4_stateTransMats/'\n",
    "pathEB          = f'{path_top}{projName}/02_src/02_SpecUFEx/EB.mat'\n",
    "pathElnB          = f'{path_top}{projName}/02_src/02_SpecUFEx/ElnB.mat'\n",
    "pathW        = path_proj + '02_src/02_SpecUFEx/out.DictGain.mat' \n",
    "\n",
    "\n",
    "# pathClusCat = path_proj + f\"principalDf_full_{mode}_Kopt{Kopt}.csv\"\n",
    "dataH5_path = path_proj + dataFile_name\n",
    "\n",
    "\n",
    "projNameN        = pN['projName']\n",
    "datasetIDN       = pN['datasetID']\n",
    "projNameN        = pN['projName']\n",
    "station         = pN['station']\n",
    "channel         = pN['channel']\n",
    "\n",
    "\n",
    "path_top        = pN['path_top']\n",
    "path_projN       = pN['path_proj']\n",
    "outfile_nameN    = pN['outfile_name']\n",
    "dataFile_nameN   = pN['dataFile_name']\n",
    "path_WFN         = pN['path_WF']\n",
    "path_CatN        = pN['path_Cat'] #original, raw catalog\n",
    "subCatalog_NameN = f\"{dataFile_name}_Sgrams_Subcatalog.hdf5\"\n",
    "\n",
    "\n",
    "pathACMN         = f'{path_top}{projNameN}/03_output/{station}/SpecUFEx_output/step2_NMF/'\n",
    "pathSTMN         = f'{path_top}{projNameN}/03_output/{station}/SpecUFEx_output/step4_stateTransMats/'\n",
    "pathEBN          = f'{path_top}{projNameN}/02_src/02_SpecUFEx/EB.mat'\n",
    "pathElnBN          = f'{path_top}{projNameN}/02_src/02_SpecUFEx/ElnB.mat'\n",
    "pathWN        = path_projN + '02_src/02_SpecUFEx/out.DictGain.mat' \n",
    "\n",
    "\n",
    "\n",
    "# pathClusCatN = path_projN + f\"principalDf_full_{mode}_Kopt{KoptN}.csv\"\n",
    "dataH5_pathN = path_projN + dataFile_nameN\n",
    "\n",
    "pathFigSupp = '../reports/supp_figures/'\n",
    "\n",
    "pathFig = '../reports/figures/'\n",
    "pathAuxData = '../data/processed/Garcia/'"
   ]
  },
  {
   "cell_type": "code",
   "execution_count": 4,
   "metadata": {},
   "outputs": [],
   "source": [
    "## Load auxiliary catalog\n",
    "\n",
    "gps_station_list = ['24','34','36','37']\n",
    "gps_df_list = []\n",
    "\n",
    "for gst in gps_station_list:\n",
    "    \n",
    "    \n",
    "    gps_df = pd.read_csv(f'{pathAuxData}gps_roll{gst}.csv',index_col=0)\n",
    "    gps_df['datetime'] = [pd.to_datetime(ii) for ii in gps_df.index]\n",
    "    gps_df['datetime_index'] = [pd.to_datetime(ii) for ii in gps_df.index]\n",
    "    gps_df = gps_df.set_index('datetime_index')\n",
    "    \n",
    "    \n",
    "    gps_df_list.append(gps_df)\n",
    "\n",
    "\n",
    "lake_df = pd.read_csv(f'{pathAuxData}lake_df.csv',index_col=0)\n",
    "lake_df['datetime'] = [pd.to_datetime(ii) for ii in lake_df.index]\n",
    "lake_df['datetime_index'] = [pd.to_datetime(ii) for ii in lake_df.index]\n",
    "lake_df = lake_df.set_index('datetime_index')\n",
    "\n",
    "\n",
    "meteor_df = pd.read_csv(f'{pathAuxData}meteor_df.csv',index_col=0)\n",
    "meteor_df['datetime'] = [pd.to_datetime(ii) for ii in meteor_df.index]\n",
    "meteor_df['datetime_index'] = [pd.to_datetime(ii) for ii in meteor_df.index]\n",
    "meteor_df = meteor_df.set_index('datetime_index')\n",
    "\n"
   ]
  },
  {
   "cell_type": "markdown",
   "metadata": {},
   "source": [
    "## Define some important times in study period"
   ]
  },
  {
   "cell_type": "code",
   "execution_count": 5,
   "metadata": {},
   "outputs": [],
   "source": [
    "# timing of lake events \n",
    "tstart = dtt.datetime(2007, 6, 13)\n",
    "tend = dtt.datetime(2007, 7, 23)\n",
    "calvet = dtt.datetime(2007, 7, 1,13,41,35)\n",
    "supraDraint = dtt.datetime(2007, 7, 4)\n",
    "subDraint = dtt.datetime(2007, 7, 7)\n",
    "drainEndt = dtt.datetime(2007, 7, 15)\n"
   ]
  },
  {
   "cell_type": "markdown",
   "metadata": {},
   "source": [
    "## Load original catalogs"
   ]
  },
  {
   "cell_type": "code",
   "execution_count": null,
   "metadata": {},
   "outputs": [],
   "source": []
  },
  {
   "cell_type": "code",
   "execution_count": 6,
   "metadata": {},
   "outputs": [
    {
     "name": "stdout",
     "output_type": "stream",
     "text": [
      "1411 events kept, merge sucessful\n",
      "1521 events kept, merge sucessful\n"
     ]
    }
   ],
   "source": [
    "cat00 = catMergeFromH5(path_Cat,path_proj,outfile_name)\n",
    "cat00N = catMergeFromH5(path_CatN,path_projN,outfile_nameN)"
   ]
  },
  {
   "cell_type": "markdown",
   "metadata": {},
   "source": [
    "## Get experiment parameters from H5 file"
   ]
  },
  {
   "cell_type": "code",
   "execution_count": 7,
   "metadata": {},
   "outputs": [],
   "source": [
    "#########       #########       #########       #########       #########       #########       #########       #########       \n",
    "\n",
    "####IQIQIQIQIQIQIQIQI\n",
    "\n",
    "#########       #########       #########       #########       #########       #########       #########       #########       \n",
    "\n",
    "\n",
    "\n",
    "with h5py.File(path_proj + dataFile_name,'r') as dataFile:\n",
    "\n",
    "    lenData = dataFile['processing_info/'].get('lenData')[()]\n",
    "    fs = dataFile['spec_parameters/'].get('fs')[()]\n",
    "    \n",
    "    # fmin = \n",
    "    nperseg = dataFile['spec_parameters/'].get('nperseg')[()]\n",
    "    noverlap = dataFile['spec_parameters/'].get('noverlap')[()]\n",
    "    nfft = dataFile['spec_parameters/'].get('nfft')[()]\n",
    "\n",
    "\n",
    "    fmax = dataFile['spec_parameters/'].get('fmax')[()]\n",
    "    fmax = np.ceil(fmax)\n",
    "    fmin = dataFile['spec_parameters/'].get('fmin')[()]\n",
    "    fmin = np.floor(fmin)    \n",
    "    fSTFT = dataFile['spec_parameters/'].get('fSTFT')[()]\n",
    "    tSTFT = dataFile['spec_parameters/'].get('tSTFT')[()]\n",
    "    \n",
    "    sgram_mode = dataFile['spec_parameters/'].get('mode')[()].decode('utf-8')\n",
    "    scaling = dataFile['spec_parameters/'].get('scaling')[()].decode('utf-8')\n",
    "    \n",
    "    \n",
    "fs = int(np.ceil(fs))\n",
    "winLen_Sec = float(nperseg / fs)\n",
    "\n",
    "\n",
    "#########       #########       #########       #########       #########       #########       #########       #########       \n",
    "\n",
    "##### NOISENOISENOISENOISENOISE\n",
    "\n",
    "#########       #########       #########       #########       #########       #########       #########       #########       \n",
    "\n",
    "\n",
    "with h5py.File(path_projN + dataFile_nameN,'r') as dataFile:\n",
    "\n",
    "    lenDataN = dataFile['processing_info/'].get('lenData')[()]\n",
    "    fsN = dataFile['spec_parameters/'].get('fs')[()]\n",
    "    \n",
    "    # fminN = \n",
    "    npersegN = dataFile['spec_parameters/'].get('nperseg')[()]\n",
    "    noverlapN = dataFile['spec_parameters/'].get('noverlap')[()]\n",
    "    nfftN = dataFile['spec_parameters/'].get('nfft')[()]\n",
    "\n",
    "\n",
    "    fmaxN = dataFile['spec_parameters/'].get('fmax')[()]\n",
    "    fmaxN = np.ceil(fmaxN)\n",
    "    fminN = dataFile['spec_parameters/'].get('fmin')[()]\n",
    "    fminN = np.floor(fminN)    \n",
    "    fSTFTN = dataFile['spec_parameters/'].get('fSTFT')[()]\n",
    "    tSTFTN = dataFile['spec_parameters/'].get('tSTFT')[()]\n",
    "    \n",
    "    sgram_modeN = dataFile['spec_parameters/'].get('mode')[()].decode('utf-8')\n",
    "    scalingN = dataFile['spec_parameters/'].get('scaling')[()].decode('utf-8')\n",
    "    \n",
    "    \n",
    "fsN = int(np.ceil(fsN))\n",
    "winLen_SecN = float(npersegN / fsN)\n",
    "\n"
   ]
  },
  {
   "cell_type": "markdown",
   "metadata": {},
   "source": [
    "## Format day ticks, time plotting\n",
    "\n",
    "* Central European Time is 2 hours later than UTC (Coordinated Universal Time) \n",
    "* Max temp occurs around 16:00 (4pm) local time or, 14:00 (2pm) UTC\n",
    "* All times in UTC\n",
    "\n",
    "\n",
    "todo: fix ::\n",
    "\n",
    "\n",
    "##dummy variable -- just needed to get complete day set -- FIXFIX\n",
    "clus_clu_perday = cat0.event_ID.resample('D', label='left', closed='right').count()"
   ]
  },
  {
   "cell_type": "code",
   "execution_count": 8,
   "metadata": {},
   "outputs": [
    {
     "name": "stdout",
     "output_type": "stream",
     "text": [
      "['6-14', '6-21', '6-28', '7-5', '7-12', '7-19']\n"
     ]
    }
   ],
   "source": [
    "\n",
    "\n",
    "############################################################\n",
    "            ##### FORMAT DAY TICKS (ASSUMES NO DAYS SKIPPED?) ######\n",
    "############################################################\n",
    "tstart = pd.to_datetime('2007-06-14 00:00:00')\n",
    "tend   = pd.to_datetime('2007-07-22 00:00:00')\n",
    "\n",
    "\n",
    "\n",
    "delta_day = 7\n",
    "\n",
    "##dummy variable -- just needed to get complete day set -- FIXFIX\n",
    "clus_clu_perday = cat00.event_ID.resample('D', label='left', closed='right').count()\n",
    "\n",
    "numDays = len(clus_clu_perday)\n",
    "\n",
    "days_list = [clus_clu_perday.index[i] for i in range(numDays)]\n",
    "\n",
    "\n",
    "## these have lots of possible text formats\n",
    "day_labels = [f\"{days_list[d].month}-{days_list[d].date().day}\" for d in range(0,len(days_list),delta_day)]\n",
    "\n",
    "day_ticks = [days_list[d] for d in range(0,len(days_list),delta_day)]\n",
    "\n",
    "\n",
    "# Central European Time is 2 hours later than UTC (Coordinated Universal Time)\n",
    "##max temp is around 4pm local time or 16:00, in UTC it is 14:00 or 2pm\n",
    "#all times in UTC\n",
    "hour_of_approx_max_temp = 14\n",
    "hourMaxTemp = [dtt.datetime(2007, 6, 14,hour_of_approx_max_temp,0,0) + pd.DateOffset(i) for i in range(0,numDays)]\n",
    "\n",
    "hour24labels = [str(r) for r in range(0,24)] #UTC\n",
    "\n",
    "print(day_labels)\n",
    "############################################################\n",
    "############################################################\n",
    "\n",
    "       "
   ]
  },
  {
   "cell_type": "code",
   "execution_count": null,
   "metadata": {},
   "outputs": [],
   "source": []
  },
  {
   "cell_type": "code",
   "execution_count": 9,
   "metadata": {},
   "outputs": [],
   "source": [
    "plt.rcParams['image.cmap']='magma'\n",
    "\n",
    "plt.rcParams.update({'font.size': 8})\n",
    "colors =cm.Paired(np.array([1,5,7,9,2,4,6,8]))\n",
    "\n",
    "\n",
    "## when plotting, add a bit of buffer so bars aren't cut off\n",
    "tlimstart = pd.to_datetime('2007-06-13 12:00:00')\n",
    "tlimend   = pd.to_datetime('2007-07-22 12:00:00')\n",
    "\n",
    "\n",
    "lw1=4        \n",
    "lw2=5\n",
    "alphaT=1\n",
    "ylabfont=8\n",
    "ylabpad =10\n",
    "\n",
    "\n",
    "plt_kwargs = {'lw1':lw1,\n",
    "              'lw2':lw2,\n",
    "              'alphaT':alphaT,\n",
    "              'ylabfont':ylabfont,\n",
    "              'ylabpad':ylabpad,\n",
    "              'colors':colors,\n",
    "              'scaling':scaling,\n",
    "              'sgram_mode':sgram_mode,\n",
    "              'hour24labels':hour24labels,\n",
    "              'day_ticks':day_ticks,\n",
    "              'day_labels':day_labels,\n",
    "              'numDays':numDays,\n",
    "              'hourMaxTemp':hourMaxTemp,\n",
    "              'tstart':tlimstart, ## for extending x axis to fit bars\n",
    "              'tend':tlimend,     ## for extending x axis to fit bars\n",
    "              'tstartreal':tstart,## actual study bound\n",
    "              'tendreal':tend     ## actual study bound\n",
    "             }"
   ]
  },
  {
   "cell_type": "markdown",
   "metadata": {},
   "source": [
    "## Specs for figures JGR"
   ]
  },
  {
   "cell_type": "code",
   "execution_count": 10,
   "metadata": {},
   "outputs": [],
   "source": [
    "#quarter page\n",
    "width1 = 3.74016\n",
    "height1 = 4.52756\n",
    "\n",
    "#full page\n",
    "width2 = 7.48031\n",
    "height2 = 9.05512"
   ]
  },
  {
   "cell_type": "markdown",
   "metadata": {},
   "source": [
    "# Reduce dimensionality, visualize PC plots by time, hour\n",
    "\n",
    "* Perform PCA on FPs \n",
    "* Calculate PVE (percent variance explained) for each PC, and keep enouch PCs to capture XX% of variance\n",
    "* Cluster using Kmeans \n",
    "* Choose cluster based on highest mean silhouette score\n"
   ]
  },
  {
   "cell_type": "code",
   "execution_count": 11,
   "metadata": {},
   "outputs": [
    {
     "name": "stdout",
     "output_type": "stream",
     "text": [
      "1 0.141772319308\n",
      "2 0.225535762941\n",
      "3 0.277379352922\n",
      "4 0.312981182247\n",
      "5 0.343504120995\n",
      "6 0.372574681896\n",
      "7 0.398888835673\n",
      "8 0.420888419046\n",
      "9 0.439349093698\n",
      "10 0.456414532179\n",
      "11 0.472881750608\n",
      "12 0.48865332609\n",
      "13 0.503517818175\n",
      "14 0.517480341072\n",
      "15 0.53075489761\n",
      "16 0.543724834707\n",
      "17 0.5562871587\n",
      "18 0.568379959341\n",
      "19 0.580147786654\n",
      "20 0.591292868621\n",
      "21 0.602312262237\n",
      "22 0.612610947945\n",
      "23 0.621994135208\n",
      "24 0.629969362037\n",
      "25 0.639999459174\n",
      "26 0.648601690927\n",
      "27 0.657313227011\n",
      "28 0.665405604441\n",
      "29 0.673156862875\n",
      "30 0.680781136601\n",
      "31 0.687751414276\n",
      "32 0.694490874664\n",
      "33 0.701711426885\n",
      "34 0.708680764806\n",
      "35 0.715594105465\n",
      "36 0.722445215354\n",
      "37 0.728756462458\n",
      "38 0.734990221371\n",
      "39 0.74092854244\n",
      "40 0.747130687112\n",
      "41 0.752473787084\n",
      "42 0.758629983258\n",
      "43 0.763761251859\n",
      "44 0.769336768505\n",
      "45 0.775104061458\n",
      "46 0.780146970159\n",
      "47 0.784839716292\n",
      "48 0.789831693811\n",
      "49 0.794648831575\n",
      "50 0.799364537044\n",
      "51 0.80378702853\n",
      "52 0.808390055749\n",
      "53 0.812209997121\n",
      "54 0.816799919711\n",
      "55 0.820876494218\n",
      "56 0.824947364719\n",
      "57 0.828530823155\n",
      "58 0.83247034169\n",
      "59 0.836274046489\n",
      "60 0.839970799849\n",
      "61 0.843516011802\n",
      "62 0.846947145357\n",
      "63 0.850327411964\n",
      "64 0.853678900288\n",
      "65 0.856811127505\n",
      "66 0.860034567957\n",
      "break\n",
      "1 0.562553\n",
      "2 0.7565\n",
      "3 0.860943\n",
      "break\n"
     ]
    }
   ],
   "source": [
    "numStates=15\n",
    "PCA_df, numPCA_PVE, cum_pve = PVEofPCA(path_proj,outfile_name,cat00,numPCMax=numStates**2,cum_pve_thresh=.86,stand=False);\n",
    "PCA_dfN, numPCA_PVEN, cum_pveN = PVEofPCA(path_projN,outfile_nameN,cat00N,numPCMax=numStates**2,cum_pve_thresh=.86,stand=False)\n",
    "\n"
   ]
  },
  {
   "cell_type": "code",
   "execution_count": null,
   "metadata": {},
   "outputs": [],
   "source": []
  },
  {
   "cell_type": "code",
   "execution_count": 12,
   "metadata": {},
   "outputs": [
    {
     "name": "stdout",
     "output_type": "stream",
     "text": [
      "\n",
      " For icequakes, 86.00% of variance explained by the first 66 principal components\n",
      "\n",
      " For noise, 86.09% of variance explained by the first 3 principal components\n"
     ]
    }
   ],
   "source": [
    "print(f'\\n For icequakes, {100*cum_pve:.2f}% of variance explained by the first {numPCA_PVE} principal components')\n",
    "print(f'\\n For noise, {100*cum_pveN:.2f}% of variance explained by the first {numPCA_PVEN} principal components')"
   ]
  },
  {
   "cell_type": "code",
   "execution_count": 13,
   "metadata": {},
   "outputs": [],
   "source": [
    "stand = False #standard scalar before PCA\n",
    "\n",
    "\n",
    "#returns a PCA sklearn object, a dataframe of cat00 but with columns for PCs, and a numpy array of PCs (N x numPC)\n",
    "\n",
    "sklearn_pca, cat00, Y_PCA = PCAonFP(path_proj,outfile_name,cat00,numPCA=numPCA_PVE,stand=stand)\n",
    "sklearn_pcaN, cat00N, Y_PCAN = PCAonFP(path_projN,outfile_nameN,cat00N,numPCA=numPCA_PVEN,stand=stand)\n"
   ]
  },
  {
   "cell_type": "markdown",
   "metadata": {},
   "source": [
    "## Clustering using Kmeans on PCA of FP, validating using silhouette score"
   ]
  },
  {
   "cell_type": "code",
   "execution_count": 14,
   "metadata": {},
   "outputs": [
    {
     "name": "stdout",
     "output_type": "stream",
     "text": [
      "kmeans on 2 clusters...\n",
      "kmeans on 3 clusters...\n",
      "kmeans on 4 clusters...\n",
      "kmeans on 5 clusters...\n",
      "kmeans on 6 clusters...\n",
      "kmeans on 7 clusters...\n",
      "kmeans on 8 clusters...\n",
      "kmeans on 9 clusters...\n",
      "kmeans on 10 clusters...\n",
      "Best cluster: 3\n",
      "Event optimum number of clusters::  3\n",
      "kmeans on 2 clusters...\n",
      "kmeans on 3 clusters...\n",
      "kmeans on 4 clusters...\n",
      "kmeans on 5 clusters...\n",
      "kmeans on 6 clusters...\n",
      "kmeans on 7 clusters...\n",
      "kmeans on 8 clusters...\n",
      "kmeans on 9 clusters...\n",
      "kmeans on 10 clusters...\n",
      "Best cluster: 4\n",
      "Noise optimum number of clusters::  4\n"
     ]
    }
   ],
   "source": [
    "## silh score and validation\n",
    "##making rep catalog\n",
    "\n",
    "\n",
    "##can force K here\n",
    "Kmax=10\n",
    "range_n_clusters_all = list(range(2,Kmax+1))\n",
    "\n",
    "\n",
    "cat00, catall, Kopt, maxSilScore, avgSils, sse,cluster_labels_best,ss_best,euc_dist_best = calcSilhScore(path_proj,outfile_name,cat00,range_n_clusters_all,numPCA=numPCA_PVE,Xtype='fingerprints', distMeasure = \"SilhScore\",stand=stand);\n",
    "\n",
    "print('Event optimum number of clusters:: ',Kopt)\n",
    "\n",
    "\n",
    "cat00N, catallN, KoptN, maxSilScoreN, avgSilsN, sseN,cluster_labels_bestN,ss_bestN,euc_dist_bestN = calcSilhScore(path_projN,outfile_nameN,cat00N,range_n_clusters_all,numPCA=numPCA_PVEN,Xtype='fingerprints',distMeasure = \"SilhScore\", stand=stand);\n",
    "\n",
    "\n",
    "print('Noise optimum number of clusters:: ',KoptN)\n"
   ]
  },
  {
   "cell_type": "code",
   "execution_count": 15,
   "metadata": {},
   "outputs": [
    {
     "name": "stdout",
     "output_type": "stream",
     "text": [
      "164\n",
      "445\n",
      "802\n",
      "\n",
      "\n",
      "352\n",
      "601\n",
      "353\n",
      "215\n"
     ]
    }
   ],
   "source": [
    "for k in range(1,Kopt+1):\n",
    "    print(len(cat00[cat00.Cluster==k]))\n",
    "\n",
    "    \n",
    "print('\\n')\n",
    "for k in range(1,KoptN+1):\n",
    "    print(len(cat00N[cat00N.Cluster==k]))"
   ]
  },
  {
   "cell_type": "markdown",
   "metadata": {},
   "source": [
    "# Cross correlation between topF events\n",
    "\n",
    "https://docs.obspy.org/master/packages/autogen/obspy.signal.cross_correlation.correlate.html\n",
    "    \n",
    "\n"
   ]
  },
  {
   "cell_type": "markdown",
   "metadata": {},
   "source": [
    "### Icequakes"
   ]
  },
  {
   "cell_type": "code",
   "execution_count": 16,
   "metadata": {},
   "outputs": [],
   "source": [
    "topF=20\n",
    "catRep = getTopFCat(cat00,topF=topF) "
   ]
  },
  {
   "cell_type": "code",
   "execution_count": 17,
   "metadata": {},
   "outputs": [
    {
     "data": {
      "text/plain": [
       "(60, 60)"
      ]
     },
     "execution_count": 17,
     "metadata": {},
     "output_type": "execute_result"
    }
   ],
   "source": []
  },
  {
   "cell_type": "markdown",
   "metadata": {},
   "source": [
    "## Save CC and lag time matrices for catalog"
   ]
  },
  {
   "cell_type": "code",
   "execution_count": null,
   "metadata": {},
   "outputs": [],
   "source": [
    "\n",
    "topF_list = [20]#[5,10,50,100]\n",
    "\n",
    "for topF in topF_list:\n",
    "    \n",
    "    catRep = getTopFCat(cat00,topF=topF) \n",
    "    catRepN = getTopFCat(cat00N,topF=topF)\n",
    "\n",
    "    print(f'calculating CC topF = {topF}...')\n",
    "    cc_mat,lag_mat = calcCCMatrix(catRep,lenData,dataH5_path,station,channel,fmin,fmax,fs)\n",
    "    print(f'saving CC topF = {topF}...')\n",
    "    np.save(f'../data/interim/ccMat_top{topF}_SS.npy',cc_mat)\n",
    "    np.save(f'../data/interim/ccLagMat_top{topF}_SS.npy',lag_mat)\n"
   ]
  },
  {
   "cell_type": "code",
   "execution_count": null,
   "metadata": {},
   "outputs": [],
   "source": [
    "cc_mat = np.load(f'../data/interim/ccMat_top{topF}_SS.npy')\n",
    "cc_mat.shape\n",
    "# np.save(f'../data/interim/ccMat_top{topF}.npy',cc_mat)\n",
    "# np.save(f'../data/interim/ccLagMat_top{topF}.npy',lag_mat)"
   ]
  },
  {
   "cell_type": "code",
   "execution_count": 20,
   "metadata": {},
   "outputs": [
    {
     "data": {
      "image/png": "[encoded data removed]",
      "text/plain": [
       "<Figure size 720x720 with 2 Axes>"
      ]
     },
     "metadata": {
      "needs_background": "light"
     },
     "output_type": "display_data"
    }
   ],
   "source": [
    "plt.rcParams['image.cmap']='twilight'\n",
    "plt.figure(figsize=(10,10))\n",
    "plt.imshow(cc_mat)\n",
    "cbar = plt.colorbar(pad=.06,shrink=.8)\n",
    "cbar.set_label('Correlation coefficient',labelpad=8)#,fontsize = 14)\n",
    "\n",
    "plt.clim(-1,1)\n",
    "\n",
    "plt.savefig(pathFig + f'Supp_CCMat_top{topF}.png')\n"
   ]
  },
  {
   "cell_type": "code",
   "execution_count": 21,
   "metadata": {},
   "outputs": [],
   "source": [
    "\n",
    "def upper_tri_masking(A):\n",
    "    '''\n",
    "    Get upper triangle without diagonals\n",
    "    \n",
    "    Sample: \n",
    "    A = np.array([\n",
    "     [1,2,3],\n",
    "     [4,5,6],\n",
    "     [7,8,9]])\n",
    "     \n",
    "    returns: np.array([2,3,6])\n",
    "    '''\n",
    "    m = A.shape[0]\n",
    "    r = np.arange(m)\n",
    "    mask = r[:,None] < r\n",
    "    return A[mask]\n",
    "\n",
    "# for k,ccmatK in enumerate(ccmatK_listN):\n",
    "\n",
    "#     upTri_cc = upper_tri_masking(ccmatK)\n",
    "    \n",
    "#     avg_cc = np.mean(upTri_cc)\n",
    "\n",
    "#     print(f'Cluster {k+1} avg CC:, ',avg_cc) #find CC avg"
   ]
  },
  {
   "cell_type": "code",
   "execution_count": null,
   "metadata": {},
   "outputs": [
    {
     "name": "stdout",
     "output_type": "stream",
     "text": [
      "calculating CC topF = 50...\n"
     ]
    }
   ],
   "source": [
    "topF=50\n",
    "topF_list = [50]\n",
    "\n",
    "for topF in topF_list:\n",
    "    \n",
    "    catRepN = getTopFCat(cat00N,topF=topF)\n",
    "\n",
    "    print(f'calculating CC topF = {topF}...')\n",
    "    cc_matN,lag_matN = calcCCMatrix(catRepN,lenDataN,dataH5_pathN,station,channel,fminN,fmaxN,fsN)\n",
    "    print(f'saving CC topF = {topF}...')\n",
    "    np.save(f'../data/interim/ccMat_top{topF}N.npy',cc_mat)\n"
   ]
  },
  {
   "cell_type": "code",
   "execution_count": null,
   "metadata": {},
   "outputs": [],
   "source": [
    "plt.rcParams['image.cmap']='twilight'\n",
    "plt.figure(figsize=(50,50))\n",
    "plt.imshow(cc_matN)\n",
    "cbar = plt.colorbar(pad=.06,shrink=.8)\n",
    "cbar.set_label('Correlation coefficient',labelpad=8)#,fontsize = 14)\n",
    "\n",
    "plt.clim(-1,1)\n",
    "\n",
    "plt.savefig(pathFig + f'Supp_CCMatN_top{topF}.png')\n"
   ]
  },
  {
   "cell_type": "markdown",
   "metadata": {},
   "source": [
    "## average off-diagonal for upper triangle entries..."
   ]
  },
  {
   "cell_type": "code",
   "execution_count": null,
   "metadata": {},
   "outputs": [],
   "source": []
  },
  {
   "cell_type": "code",
   "execution_count": null,
   "metadata": {},
   "outputs": [],
   "source": [
    "# for k,ccmatK in enumerate(ccmatK_listN):\n",
    "\n",
    "#     upTri_cc = upper_tri_masking(ccmatK)\n",
    "    \n",
    "#     avg_cc = np.mean(upTri_cc)\n",
    "\n",
    "#     print(f'Cluster {k+1} avg CC:, ',avg_cc) #find CC avg"
   ]
  },
  {
   "cell_type": "code",
   "execution_count": null,
   "metadata": {},
   "outputs": [],
   "source": []
  },
  {
   "cell_type": "code",
   "execution_count": null,
   "metadata": {},
   "outputs": [],
   "source": []
  },
  {
   "cell_type": "code",
   "execution_count": null,
   "metadata": {},
   "outputs": [],
   "source": []
  },
  {
   "cell_type": "code",
   "execution_count": null,
   "metadata": {},
   "outputs": [],
   "source": []
  },
  {
   "cell_type": "code",
   "execution_count": null,
   "metadata": {},
   "outputs": [],
   "source": [
    "\n",
    "def upper_tri_masking(A):\n",
    "    '''\n",
    "    Get upper triangle without diagonals\n",
    "    \n",
    "    Sample: \n",
    "    A = np.array([\n",
    "     [1,2,3],\n",
    "     [4,5,6],\n",
    "     [7,8,9]])\n",
    "     \n",
    "    returns: np.array([2,3,6])\n",
    "    '''\n",
    "    m = A.shape[0]\n",
    "    r = np.arange(m)\n",
    "    mask = r[:,None] < r\n",
    "    return A[mask]\n",
    "\n",
    "# for k,ccmatK in enumerate(ccmatK_listN):\n",
    "\n",
    "#     upTri_cc = upper_tri_masking(ccmatK)\n",
    "    \n",
    "#     avg_cc = np.mean(upTri_cc)\n",
    "\n",
    "#     print(f'Cluster {k+1} avg CC:, ',avg_cc) #find CC avg"
   ]
  },
  {
   "cell_type": "code",
   "execution_count": null,
   "metadata": {},
   "outputs": [],
   "source": []
  }
 ],
 "metadata": {
  "kernelspec": {
   "display_name": "Python 3",
   "language": "python",
   "name": "python3"
  },
  "language_info": {
   "codemirror_mode": {
    "name": "ipython",
    "version": 3
   },
   "file_extension": ".py",
   "mimetype": "text/x-python",
   "name": "python",
   "nbconvert_exporter": "python",
   "pygments_lexer": "ipython3",
   "version": "3.7.8"
  }
 },
 "nbformat": 4,
 "nbformat_minor": 4
}
