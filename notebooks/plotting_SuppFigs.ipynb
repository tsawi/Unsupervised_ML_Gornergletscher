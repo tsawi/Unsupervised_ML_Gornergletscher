{
 "cells": [
  {
   "cell_type": "markdown",
   "metadata": {},
   "source": [
    "# Plot Supp Figures\n",
    "\n",
    "CC plots for random timeseries\n",
    "\n",
    "For Sawi et al., 2021"
   ]
  },
  {
   "cell_type": "code",
   "execution_count": null,
   "metadata": {},
   "outputs": [],
   "source": []
  },
  {
   "cell_type": "code",
   "execution_count": 1,
   "metadata": {},
   "outputs": [],
   "source": [
    "import h5py\n",
    "import pandas as pd\n",
    "import numpy as np\n",
    "from matplotlib import pyplot as plt\n",
    "from obspy import read\n",
    "from matplotlib import cm\n",
    "import matplotlib.gridspec as gridspec\n",
    "import os\n",
    "import datetime as dtt\n",
    "import matplotlib.patches\n",
    "import matplotlib.patches as mpatches\n",
    "import matplotlib.dates as mdates\n",
    "import datetime\n",
    "from  sklearn.preprocessing import StandardScaler\n",
    "import sys\n",
    "from matplotlib.patches import Rectangle\n",
    "import sklearn.metrics\n",
    "from scipy import spatial\n",
    "import matplotlib.image as mpimg\n",
    "import obspy\n",
    "from scipy.signal import butter, lfilter\n",
    "import librosa\n",
    "# sys.path.insert(0, '../01_DataPrep')\n",
    "from scipy.io import loadmat\n",
    "from sklearn.decomposition import PCA\n",
    "import scipy.io as spio\n",
    "from sklearn.metrics import silhouette_samples\n",
    "import seaborn as sns\n",
    "import scipy as sp\n",
    "import scipy.io as spio\n",
    "import scipy.signal\n",
    "from sklearn.metrics import confusion_matrix\n",
    "import seaborn as sns\n",
    "from sklearn.metrics import classification_report\n",
    "\n",
    "from obspy.signal.cross_correlation import correlate, xcorr_max\n",
    "\n",
    "\n",
    "sys.path.append('.')\n",
    "sys.path.append('../src/visualization/')\n",
    "\n",
    "import paths\n",
    "from sklearn.cluster import KMeans\n",
    "# import figureFunctions"
   ]
  },
  {
   "cell_type": "code",
   "execution_count": 2,
   "metadata": {},
   "outputs": [],
   "source": [
    "\n",
    "\n",
    "from functions2 import getFeatures, getLocationFeatures,getNMFOrder,resortByNMF,getSpectra_fromWF,getSgram\n",
    "from functions2 import PCAonFP,calcSilhScore,getDailyTempDiff,getSpectraMedian,CalcDiffPeak,PVEofPCA,getTopFCat \n",
    "from functions2 import dateToEventID, catMergeFromH5, calcFFT, getWF, swapLabels,trimSpectra, KMeansSpectra, compileSpectraFromWF\n",
    "import figureFunctions2\n",
    "\n",
    "\n",
    "from functions2 import getFeatures, getLocationFeatures,getNMFOrder,resortByNMF,getSpectra_fromWF,getSgram\n",
    "from functions2 import PCAonFP,calcSilhScore,getDailyTempDiff,getSpectraMedian,CalcDiffPeak,PVEofPCA,getTopFCat \n",
    "from functions2 import catMergeFromH5, swapLabels, calcFFT, getWF, swapLabels,trimSpectra, KMeansSpectra, compileSpectraFromWF\n",
    "import figureFunctions2"
   ]
  },
  {
   "cell_type": "markdown",
   "metadata": {},
   "source": [
    "## Define helper functions (move later)"
   ]
  },
  {
   "cell_type": "code",
   "execution_count": null,
   "metadata": {},
   "outputs": [],
   "source": []
  },
  {
   "cell_type": "markdown",
   "metadata": {},
   "source": [
    "## Set paths"
   ]
  },
  {
   "cell_type": "code",
   "execution_count": 3,
   "metadata": {},
   "outputs": [],
   "source": [
    "#%% load project variables: names and paths\n",
    "# key = sys.argv[1]\n",
    "\n",
    "key = \"BB_Gorner_Event_Final_v11_J8\"\n",
    "keyN = \"BB_Gorner_Cont_Final_v10_J8\"\n",
    "\n",
    "\n",
    "filetype = '.gse2'     \n",
    "filetypeN = '.sac' \n",
    "\n",
    "\n",
    "p = paths.returnp(key)\n",
    "pN = paths.returnp(keyN)\n",
    "\n",
    "#%%\n",
    "\n",
    "projName        = p['projName']\n",
    "datasetID       = p['datasetID']\n",
    "projName        = p['projName']\n",
    "station         = p['station']\n",
    "channel         = p['channel']\n",
    "path_top        = p['path_top']\n",
    "path_proj       = p['path_proj']\n",
    "outfile_name    = p['outfile_name']\n",
    "dataFile_name   = p['dataFile_name']\n",
    "path_WF         = p['path_WF']\n",
    "path_Cat        = p['path_Cat'] #original, raw catalog\n",
    "subCatalog_Name = f\"{dataFile_name}_Sgrams_Subcatalog.hdf5\"\n",
    "\n",
    "\n",
    "\n",
    "pathFP          = f'{path_top}{projName}/03_output/{station}/SpecUFEx_output/step4_FEATout/'\n",
    "pathACM         = f'{path_top}{projName}/03_output/{station}/SpecUFEx_output/step2_NMF/'\n",
    "pathSTM         = f'{path_top}{projName}/03_output/{station}/SpecUFEx_output/step4_stateTransMats/'\n",
    "pathEB          = f'{path_top}{projName}/02_src/02_SpecUFEx/EB.mat'\n",
    "pathElnB          = f'{path_top}{projName}/02_src/02_SpecUFEx/ElnB.mat'\n",
    "pathW        = path_proj + '02_src/02_SpecUFEx/out.DictGain.mat' \n",
    "\n",
    "\n",
    "# pathClusCat = path_proj + f\"principalDf_full_{mode}_Kopt{Kopt}.csv\"\n",
    "dataH5_path = path_proj + dataFile_name\n",
    "\n",
    "\n",
    "projNameN        = pN['projName']\n",
    "datasetIDN       = pN['datasetID']\n",
    "projNameN        = pN['projName']\n",
    "station         = pN['station']\n",
    "channel         = pN['channel']\n",
    "\n",
    "\n",
    "path_top        = pN['path_top']\n",
    "path_projN       = pN['path_proj']\n",
    "outfile_nameN    = pN['outfile_name']\n",
    "dataFile_nameN   = pN['dataFile_name']\n",
    "path_WFN         = pN['path_WF']\n",
    "path_CatN        = pN['path_Cat'] #original, raw catalog\n",
    "subCatalog_NameN = f\"{dataFile_name}_Sgrams_Subcatalog.hdf5\"\n",
    "\n",
    "\n",
    "pathACMN         = f'{path_top}{projNameN}/03_output/{station}/SpecUFEx_output/step2_NMF/'\n",
    "pathSTMN         = f'{path_top}{projNameN}/03_output/{station}/SpecUFEx_output/step4_stateTransMats/'\n",
    "pathEBN          = f'{path_top}{projNameN}/02_src/02_SpecUFEx/EB.mat'\n",
    "pathElnBN          = f'{path_top}{projNameN}/02_src/02_SpecUFEx/ElnB.mat'\n",
    "pathWN        = path_projN + '02_src/02_SpecUFEx/out.DictGain.mat' \n",
    "\n",
    "\n",
    "\n",
    "# pathClusCatN = path_projN + f\"principalDf_full_{mode}_Kopt{KoptN}.csv\"\n",
    "dataH5_pathN = path_projN + dataFile_nameN\n",
    "\n",
    "\n",
    "pathFig = '../reports/figures/'\n",
    "pathAuxData = '../data/processed/Garcia/'"
   ]
  },
  {
   "cell_type": "code",
   "execution_count": 4,
   "metadata": {},
   "outputs": [],
   "source": [
    "## Load auxiliary catalog\n",
    "\n",
    "gps_station_list = ['24','34','36','37']\n",
    "gps_df_list = []\n",
    "\n",
    "for gst in gps_station_list:\n",
    "    \n",
    "    \n",
    "    gps_df = pd.read_csv(f'{pathAuxData}gps_roll{gst}.csv',index_col=0)\n",
    "    gps_df['datetime'] = [pd.to_datetime(ii) for ii in gps_df.index]\n",
    "    gps_df['datetime_index'] = [pd.to_datetime(ii) for ii in gps_df.index]\n",
    "    gps_df = gps_df.set_index('datetime_index')\n",
    "    \n",
    "    \n",
    "    gps_df_list.append(gps_df)\n",
    "\n",
    "\n",
    "lake_df = pd.read_csv(f'{pathAuxData}lake_df.csv',index_col=0)\n",
    "lake_df['datetime'] = [pd.to_datetime(ii) for ii in lake_df.index]\n",
    "lake_df['datetime_index'] = [pd.to_datetime(ii) for ii in lake_df.index]\n",
    "lake_df = lake_df.set_index('datetime_index')\n",
    "\n",
    "\n",
    "meteor_df = pd.read_csv(f'{pathAuxData}meteor_df.csv',index_col=0)\n",
    "meteor_df['datetime'] = [pd.to_datetime(ii) for ii in meteor_df.index]\n",
    "meteor_df['datetime_index'] = [pd.to_datetime(ii) for ii in meteor_df.index]\n",
    "meteor_df = meteor_df.set_index('datetime_index')\n",
    "\n"
   ]
  },
  {
   "cell_type": "markdown",
   "metadata": {},
   "source": [
    "## Define some important times in study period"
   ]
  },
  {
   "cell_type": "code",
   "execution_count": 5,
   "metadata": {},
   "outputs": [],
   "source": [
    "# timing of lake events \n",
    "tstart = dtt.datetime(2007, 6, 13)\n",
    "tend = dtt.datetime(2007, 7, 23)\n",
    "calvet = dtt.datetime(2007, 7, 1,13,41,35)\n",
    "supraDraint = dtt.datetime(2007, 7, 4)\n",
    "subDraint = dtt.datetime(2007, 7, 7)\n",
    "drainEndt = dtt.datetime(2007, 7, 15)\n"
   ]
  },
  {
   "cell_type": "markdown",
   "metadata": {},
   "source": [
    "## Load original catalogs"
   ]
  },
  {
   "cell_type": "code",
   "execution_count": null,
   "metadata": {},
   "outputs": [],
   "source": []
  },
  {
   "cell_type": "code",
   "execution_count": 6,
   "metadata": {},
   "outputs": [
    {
     "name": "stdout",
     "output_type": "stream",
     "text": [
      "1411 events kept, merge sucessful\n",
      "1521 events kept, merge sucessful\n"
     ]
    }
   ],
   "source": [
    "cat00 = catMergeFromH5(path_Cat,path_proj,outfile_name)\n",
    "cat00N = catMergeFromH5(path_CatN,path_projN,outfile_nameN)"
   ]
  },
  {
   "cell_type": "code",
   "execution_count": null,
   "metadata": {},
   "outputs": [],
   "source": []
  },
  {
   "cell_type": "markdown",
   "metadata": {},
   "source": [
    "## Load station data"
   ]
  },
  {
   "cell_type": "code",
   "execution_count": 7,
   "metadata": {},
   "outputs": [],
   "source": [
    "##station data \n",
    "stn = pd.read_csv(\"../data/raw/stnlst.csv\",\n",
    "                  header=None,\n",
    "                  names=['name','X','Y','Elevation','dX','dY','Depth'])\n",
    "\n",
    "        \n",
    "     "
   ]
  },
  {
   "cell_type": "markdown",
   "metadata": {},
   "source": [
    "## Get experiment parameters from H5 file"
   ]
  },
  {
   "cell_type": "code",
   "execution_count": 8,
   "metadata": {},
   "outputs": [],
   "source": [
    "#########       #########       #########       #########       #########       #########       #########       #########       \n",
    "\n",
    "####IQIQIQIQIQIQIQIQI\n",
    "\n",
    "#########       #########       #########       #########       #########       #########       #########       #########       \n",
    "\n",
    "\n",
    "\n",
    "with h5py.File(path_proj + dataFile_name,'r') as dataFile:\n",
    "\n",
    "    lenData = dataFile['processing_info/'].get('lenData')[()]\n",
    "    fs = dataFile['spec_parameters/'].get('fs')[()]\n",
    "    \n",
    "    # fmin = \n",
    "    nperseg = dataFile['spec_parameters/'].get('nperseg')[()]\n",
    "    noverlap = dataFile['spec_parameters/'].get('noverlap')[()]\n",
    "    nfft = dataFile['spec_parameters/'].get('nfft')[()]\n",
    "\n",
    "\n",
    "    fmax = dataFile['spec_parameters/'].get('fmax')[()]\n",
    "    fmax = np.ceil(fmax)\n",
    "    fmin = dataFile['spec_parameters/'].get('fmin')[()]\n",
    "    fmin = np.floor(fmin)    \n",
    "    fSTFT = dataFile['spec_parameters/'].get('fSTFT')[()]\n",
    "    tSTFT = dataFile['spec_parameters/'].get('tSTFT')[()]\n",
    "    \n",
    "    sgram_mode = dataFile['spec_parameters/'].get('mode')[()].decode('utf-8')\n",
    "    scaling = dataFile['spec_parameters/'].get('scaling')[()].decode('utf-8')\n",
    "    \n",
    "    \n",
    "fs = int(np.ceil(fs))\n",
    "winLen_Sec = float(nperseg / fs)\n",
    "\n",
    "\n",
    "#########       #########       #########       #########       #########       #########       #########       #########       \n",
    "\n",
    "##### NOISENOISENOISENOISENOISE\n",
    "\n",
    "#########       #########       #########       #########       #########       #########       #########       #########       \n",
    "\n",
    "\n",
    "with h5py.File(path_projN + dataFile_nameN,'r') as dataFile:\n",
    "\n",
    "    lenDataN = dataFile['processing_info/'].get('lenData')[()]\n",
    "    fsN = dataFile['spec_parameters/'].get('fs')[()]\n",
    "    \n",
    "    # fminN = \n",
    "    npersegN = dataFile['spec_parameters/'].get('nperseg')[()]\n",
    "    noverlapN = dataFile['spec_parameters/'].get('noverlap')[()]\n",
    "    nfftN = dataFile['spec_parameters/'].get('nfft')[()]\n",
    "\n",
    "\n",
    "    fmaxN = dataFile['spec_parameters/'].get('fmax')[()]\n",
    "    fmaxN = np.ceil(fmaxN)\n",
    "    fminN = dataFile['spec_parameters/'].get('fmin')[()]\n",
    "    fminN = np.floor(fminN)    \n",
    "    fSTFTN = dataFile['spec_parameters/'].get('fSTFT')[()]\n",
    "    tSTFTN = dataFile['spec_parameters/'].get('tSTFT')[()]\n",
    "    \n",
    "    sgram_modeN = dataFile['spec_parameters/'].get('mode')[()].decode('utf-8')\n",
    "    scalingN = dataFile['spec_parameters/'].get('scaling')[()].decode('utf-8')\n",
    "    \n",
    "    \n",
    "fsN = int(np.ceil(fsN))\n",
    "winLen_SecN = float(npersegN / fsN)\n",
    "\n"
   ]
  },
  {
   "cell_type": "markdown",
   "metadata": {},
   "source": [
    "## Load specufex output"
   ]
  },
  {
   "cell_type": "code",
   "execution_count": 9,
   "metadata": {},
   "outputs": [],
   "source": [
    "\n",
    "#########       #########       #########       #########       #########       #########       #########       #########       \n",
    "\n",
    "## specufex output - IQIQIQIQIQIQIQIQIQIQ\n",
    " \n",
    "#########       #########       #########       #########       #########       #########       #########       #########       Wmat = loadmat(pathW)\n",
    "\n",
    "Wmat = loadmat(pathW)\n",
    "EBmat = loadmat(pathEB)\n",
    "\n",
    "W = Wmat.get('W1')\n",
    "EB = EBmat.get('EB')\n",
    "\n",
    "\n",
    "\n",
    "numPatterns = len(W[1])\n",
    "Nfreqs = len(W)\n",
    "numStates = EB.shape[0]\n",
    "\n",
    "\n",
    "\n",
    "order_swap = getNMFOrder(W,numPatterns)\n",
    "W_new = resortByNMF(W,order_swap)\n",
    "EB_new = resortByNMF(EB,order_swap)\n",
    "\n",
    "RMM = W_new @ EB_new.T\n",
    "\n",
    "#########       #########       #########       #########       #########       #########       #########       #########       \n",
    "\n",
    "## specufex output - NOISENOISENOINSENOISE\n",
    "\n",
    "#########       #########       #########       #########       #########       #########       #########       #########       \n",
    "\n",
    "\n",
    "WmatN = loadmat(pathWN)\n",
    "EBmatN = loadmat(pathEBN)\n",
    "\n",
    "WN = WmatN.get('W1')\n",
    "EBN = EBmatN.get('EB')\n",
    "\n",
    "\n",
    "\n",
    "numPatternsN = len(WN[1])\n",
    "NfreqsN = len(WN)\n",
    "numStatesN = EBN.shape[0]\n",
    "\n",
    "\n",
    "order_swapN = getNMFOrder(WN,numPatternsN)\n",
    "W_newN = resortByNMF(WN,order_swapN)\n",
    "EB_newN = resortByNMF(EBN,order_swapN)\n",
    "\n",
    "RMMN = W_newN @ EB_newN.T"
   ]
  },
  {
   "cell_type": "markdown",
   "metadata": {},
   "source": [
    "## Format day ticks, time plotting\n",
    "\n",
    "* Central European Time is 2 hours later than UTC (Coordinated Universal Time) \n",
    "* Max temp occurs around 16:00 (4pm) local time or, 14:00 (2pm) UTC\n",
    "* All times in UTC\n",
    "\n",
    "\n",
    "todo: fix ::\n",
    "\n",
    "\n",
    "##dummy variable -- just needed to get complete day set -- FIXFIX\n",
    "clus_clu_perday = cat0.event_ID.resample('D', label='left', closed='right').count()"
   ]
  },
  {
   "cell_type": "code",
   "execution_count": 10,
   "metadata": {},
   "outputs": [
    {
     "name": "stdout",
     "output_type": "stream",
     "text": [
      "['6-14', '6-21', '6-28', '7-5', '7-12', '7-19']\n"
     ]
    }
   ],
   "source": [
    "\n",
    "\n",
    "############################################################\n",
    "            ##### FORMAT DAY TICKS (ASSUMES NO DAYS SKIPPED?) ######\n",
    "############################################################\n",
    "tstart = pd.to_datetime('2007-06-14 00:00:00')\n",
    "tend   = pd.to_datetime('2007-07-22 00:00:00')\n",
    "\n",
    "\n",
    "\n",
    "delta_day = 7\n",
    "\n",
    "##dummy variable -- just needed to get complete day set -- FIXFIX\n",
    "clus_clu_perday = cat00.event_ID.resample('D', label='left', closed='right').count()\n",
    "\n",
    "numDays = len(clus_clu_perday)\n",
    "\n",
    "days_list = [clus_clu_perday.index[i] for i in range(numDays)]\n",
    "\n",
    "\n",
    "## these have lots of possible text formats\n",
    "day_labels = [f\"{days_list[d].month}-{days_list[d].date().day}\" for d in range(0,len(days_list),delta_day)]\n",
    "\n",
    "day_ticks = [days_list[d] for d in range(0,len(days_list),delta_day)]\n",
    "\n",
    "\n",
    "# Central European Time is 2 hours later than UTC (Coordinated Universal Time)\n",
    "##max temp is around 4pm local time or 16:00, in UTC it is 14:00 or 2pm\n",
    "#all times in UTC\n",
    "hour_of_approx_max_temp = 14\n",
    "hourMaxTemp = [dtt.datetime(2007, 6, 14,hour_of_approx_max_temp,0,0) + pd.DateOffset(i) for i in range(0,numDays)]\n",
    "\n",
    "hour24labels = [str(r) for r in range(0,24)] #UTC\n",
    "\n",
    "print(day_labels)\n",
    "############################################################\n",
    "############################################################\n",
    "\n",
    "       "
   ]
  },
  {
   "cell_type": "code",
   "execution_count": null,
   "metadata": {},
   "outputs": [],
   "source": []
  },
  {
   "cell_type": "code",
   "execution_count": 11,
   "metadata": {},
   "outputs": [],
   "source": [
    "plt.rcParams['image.cmap']='magma'\n",
    "\n",
    "plt.rcParams.update({'font.size': 8})\n",
    "colors =cm.Paired(np.array([1,5,7,9,2,4,6,8]))\n",
    "\n",
    "\n",
    "## when plotting, add a bit of buffer so bars aren't cut off\n",
    "tlimstart = pd.to_datetime('2007-06-13 12:00:00')\n",
    "tlimend   = pd.to_datetime('2007-07-22 12:00:00')\n",
    "\n",
    "\n",
    "lw1=4        \n",
    "lw2=5\n",
    "alphaT=1\n",
    "ylabfont=8\n",
    "ylabpad =10\n",
    "\n",
    "\n",
    "plt_kwargs = {'lw1':lw1,\n",
    "              'lw2':lw2,\n",
    "              'alphaT':alphaT,\n",
    "              'ylabfont':ylabfont,\n",
    "              'ylabpad':ylabpad,\n",
    "              'colors':colors,\n",
    "              'scaling':scaling,\n",
    "              'sgram_mode':sgram_mode,\n",
    "              'hour24labels':hour24labels,\n",
    "              'day_ticks':day_ticks,\n",
    "              'day_labels':day_labels,\n",
    "              'numDays':numDays,\n",
    "              'hourMaxTemp':hourMaxTemp,\n",
    "              'tstart':tlimstart, ## for extending x axis to fit bars\n",
    "              'tend':tlimend,     ## for extending x axis to fit bars\n",
    "              'tstartreal':tstart,## actual study bound\n",
    "              'tendreal':tend     ## actual study bound\n",
    "             }"
   ]
  },
  {
   "cell_type": "markdown",
   "metadata": {},
   "source": [
    "## Specs for figures JGR"
   ]
  },
  {
   "cell_type": "code",
   "execution_count": 12,
   "metadata": {},
   "outputs": [],
   "source": [
    "#quarter page\n",
    "width1 = 3.74016\n",
    "height1 = 4.52756\n",
    "\n",
    "#full page\n",
    "width2 = 7.48031\n",
    "height2 = 9.05512"
   ]
  },
  {
   "cell_type": "markdown",
   "metadata": {},
   "source": [
    "# Reduce dimensionality, visualize PC plots by time, hour\n",
    "\n",
    "* Perform PCA on FPs \n",
    "* Calculate PVE (percent variance explained) for each PC, and keep enouch PCs to capture XX% of variance\n",
    "* Cluster using Kmeans \n",
    "* Choose cluster based on highest mean silhouette score\n"
   ]
  },
  {
   "cell_type": "code",
   "execution_count": 13,
   "metadata": {},
   "outputs": [
    {
     "name": "stdout",
     "output_type": "stream",
     "text": [
      "1 0.141772319308\n",
      "2 0.225535762943\n",
      "3 0.277379352466\n",
      "4 0.312981120783\n",
      "5 0.343504148781\n",
      "6 0.372574684576\n",
      "7 0.39888891688\n",
      "8 0.420888467097\n",
      "9 0.439353048501\n",
      "10 0.45641596446\n",
      "11 0.472892699879\n",
      "12 0.488663198754\n",
      "13 0.503513438636\n",
      "14 0.517374013975\n",
      "15 0.530760903475\n",
      "16 0.543688005688\n",
      "17 0.556299393838\n",
      "18 0.5684234895\n",
      "19 0.580115232232\n",
      "20 0.591282355233\n",
      "21 0.602294676701\n",
      "22 0.612605703469\n",
      "23 0.622052162051\n",
      "24 0.631161320527\n",
      "25 0.639744013187\n",
      "26 0.648315431133\n",
      "27 0.657036268271\n",
      "28 0.665247316001\n",
      "29 0.672756648672\n",
      "30 0.68065609114\n",
      "31 0.687867804503\n",
      "32 0.695009126046\n",
      "33 0.701574944722\n",
      "34 0.708809136561\n",
      "35 0.715650371413\n",
      "36 0.72219707484\n",
      "37 0.728761455364\n",
      "38 0.734869646114\n",
      "39 0.741116325521\n",
      "40 0.746825368462\n",
      "41 0.752864600702\n",
      "42 0.75835840378\n",
      "43 0.763956848906\n",
      "44 0.769771972114\n",
      "45 0.77495614986\n",
      "46 0.780036748614\n",
      "47 0.784964925576\n",
      "48 0.789747081872\n",
      "49 0.794556319555\n",
      "50 0.7993127707\n",
      "51 0.803727872034\n",
      "52 0.808073230563\n",
      "53 0.812496068058\n",
      "54 0.81650492349\n",
      "55 0.82085072464\n",
      "56 0.82475498226\n",
      "57 0.828628421889\n",
      "58 0.832636064433\n",
      "59 0.836433632153\n",
      "60 0.839971338489\n",
      "61 0.843603243255\n",
      "62 0.847035463177\n",
      "63 0.850478359531\n",
      "64 0.853479168393\n",
      "65 0.856992262709\n",
      "66 0.859946628988\n",
      "67 0.863426638173\n",
      "break\n",
      "1 0.562554\n",
      "2 0.756499\n",
      "3 0.860943\n",
      "break\n"
     ]
    }
   ],
   "source": [
    "\n",
    "PCA_df, numPCA_PVE, cum_pve = PVEofPCA(path_proj,outfile_name,cat00,numPCMax=numStates**2,cum_pve_thresh=.86,stand=False);\n",
    "PCA_dfN, numPCA_PVEN, cum_pveN = PVEofPCA(path_projN,outfile_nameN,cat00N,numPCMax=numStates**2,cum_pve_thresh=.86,stand=False)\n",
    "\n"
   ]
  },
  {
   "cell_type": "code",
   "execution_count": null,
   "metadata": {},
   "outputs": [],
   "source": []
  },
  {
   "cell_type": "code",
   "execution_count": 14,
   "metadata": {},
   "outputs": [
    {
     "name": "stdout",
     "output_type": "stream",
     "text": [
      "\n",
      " For icequakes, 86.34% of variance explained by the first 67 principal components\n",
      "\n",
      " For noise, 86.09% of variance explained by the first 3 principal components\n"
     ]
    }
   ],
   "source": [
    "print(f'\\n For icequakes, {100*cum_pve:.2f}% of variance explained by the first {numPCA_PVE} principal components')\n",
    "print(f'\\n For noise, {100*cum_pveN:.2f}% of variance explained by the first {numPCA_PVEN} principal components')"
   ]
  },
  {
   "cell_type": "code",
   "execution_count": 15,
   "metadata": {},
   "outputs": [],
   "source": [
    "stand = False #standard scalar before PCA\n",
    "\n",
    "\n",
    "#returns a PCA sklearn object, a dataframe of cat00 but with columns for PCs, and a numpy array of PCs (N x numPC)\n",
    "\n",
    "sklearn_pca, cat00, Y_PCA = PCAonFP(path_proj,outfile_name,cat00,numPCA=numPCA_PVE,stand=stand)\n",
    "sklearn_pcaN, cat00N, Y_PCAN = PCAonFP(path_projN,outfile_nameN,cat00N,numPCA=numPCA_PVEN,stand=stand)\n"
   ]
  },
  {
   "cell_type": "markdown",
   "metadata": {},
   "source": [
    "## Clustering using Kmeans on PCA of FP, validating using silhouette score"
   ]
  },
  {
   "cell_type": "code",
   "execution_count": 16,
   "metadata": {},
   "outputs": [
    {
     "name": "stdout",
     "output_type": "stream",
     "text": [
      "kmeans on 2 clusters...\n",
      "kmeans on 3 clusters...\n",
      "kmeans on 4 clusters...\n",
      "kmeans on 5 clusters...\n",
      "kmeans on 6 clusters...\n",
      "kmeans on 7 clusters...\n",
      "kmeans on 8 clusters...\n",
      "kmeans on 9 clusters...\n",
      "kmeans on 10 clusters...\n",
      "Best cluster: 3\n",
      "Event optimum number of clusters::  3\n",
      "kmeans on 2 clusters...\n",
      "kmeans on 3 clusters...\n",
      "kmeans on 4 clusters...\n",
      "kmeans on 5 clusters...\n",
      "kmeans on 6 clusters...\n",
      "kmeans on 7 clusters...\n",
      "kmeans on 8 clusters...\n",
      "kmeans on 9 clusters...\n",
      "kmeans on 10 clusters...\n",
      "Best cluster: 4\n",
      "Noise optimum number of clusters::  4\n"
     ]
    }
   ],
   "source": [
    "## silh score and validation\n",
    "##making rep catalog\n",
    "\n",
    "\n",
    "##can force K here\n",
    "Kmax=10\n",
    "range_n_clusters_all = list(range(2,Kmax+1))\n",
    "\n",
    "\n",
    "cat00, catall, Kopt, maxSilScore, avgSils, sse,cluster_labels_best,ss_best,euc_dist_best = calcSilhScore(path_proj,outfile_name,cat00,range_n_clusters_all,numPCA=numPCA_PVE,Xtype='fingerprints', distMeasure = \"SilhScore\",stand=stand);\n",
    "\n",
    "print('Event optimum number of clusters:: ',Kopt)\n",
    "\n",
    "\n",
    "cat00N, catallN, KoptN, maxSilScoreN, avgSilsN, sseN,cluster_labels_bestN,ss_bestN,euc_dist_bestN = calcSilhScore(path_projN,outfile_nameN,cat00N,range_n_clusters_all,numPCA=numPCA_PVEN,Xtype='fingerprints',distMeasure = \"SilhScore\", stand=stand);\n",
    "\n",
    "\n",
    "print('Noise optimum number of clusters:: ',KoptN)\n"
   ]
  },
  {
   "cell_type": "markdown",
   "metadata": {},
   "source": [
    "# Cross correlation between topF events\n",
    "\n",
    "https://docs.obspy.org/master/packages/autogen/obspy.signal.cross_correlation.correlate.html\n",
    "    \n",
    "\n"
   ]
  },
  {
   "cell_type": "code",
   "execution_count": 182,
   "metadata": {},
   "outputs": [],
   "source": [
    "topF=25\n",
    "catRep = getTopFCat(cat00,topF=topF) \n",
    "\n",
    "catRepN = getTopFCat(cat00N,topF=topF)"
   ]
  },
  {
   "cell_type": "code",
   "execution_count": 183,
   "metadata": {},
   "outputs": [
    {
     "data": {
      "image/png": "[encoded data removed]",
      "text/plain": [
       "<Figure size 432x288 with 2 Axes>"
      ]
     },
     "metadata": {
      "needs_background": "light"
     },
     "output_type": "display_data"
    }
   ],
   "source": [
    "__ , __ = figureFunctions2.plotCCMatrix(catRep,lenData,dataH5_path,station,channel,fmin,fmax,fs)\n"
   ]
  },
  {
   "cell_type": "markdown",
   "metadata": {},
   "source": [
    "## CC for just one cluster"
   ]
  },
  {
   "cell_type": "code",
   "execution_count": 170,
   "metadata": {},
   "outputs": [
    {
     "name": "stdout",
     "output_type": "stream",
     "text": [
      "0.207051632313\n",
      "0.19988079301\n",
      "0.181090058611\n",
      "0.198003608291\n"
     ]
    },
    {
     "data": {
      "image/png": "[encoded data removed]",
      "text/plain": [
       "<Figure size 432x288 with 2 Axes>"
      ]
     },
     "metadata": {
      "needs_background": "light"
     },
     "output_type": "display_data"
    },
    {
     "data": {
      "image/png": "[encoded data removed]",
      "text/plain": [
       "<Figure size 432x288 with 2 Axes>"
      ]
     },
     "metadata": {
      "needs_background": "light"
     },
     "output_type": "display_data"
    },
    {
     "data": {
      "image/png": "[encoded data removed]",
      "text/plain": [
       "<Figure size 432x288 with 2 Axes>"
      ]
     },
     "metadata": {
      "needs_background": "light"
     },
     "output_type": "display_data"
    },
    {
     "data": {
      "image/png": "[encoded data removed]",
      "text/plain": [
       "<Figure size 432x288 with 2 Axes>"
      ]
     },
     "metadata": {
      "needs_background": "light"
     },
     "output_type": "display_data"
    }
   ],
   "source": [
    "ccmatK_listN = []\n",
    "avg_cc_listN = []\n",
    "\n",
    "for k in range(1,KoptN+1):\n",
    "\n",
    "    catRepK = catRepN[catRepN.Cluster==k]\n",
    "    ccmatK, __ = figureFunctions2.plotCCMatrix(catRepK,lenDataN,dataH5_pathN,station,channel,fminN,fmaxN,fsN)\n",
    "    ccmatK_listN.append(ccmatK)\n",
    "    avg_cc_listN.append(np.mean(ccmatK))\n",
    "    print(np.mean(ccmatK))"
   ]
  },
  {
   "cell_type": "markdown",
   "metadata": {},
   "source": [
    "## average off-diagonal for upper triangle entries..."
   ]
  },
  {
   "cell_type": "code",
   "execution_count": 185,
   "metadata": {},
   "outputs": [],
   "source": [
    "\n",
    "def upper_tri_masking(A):\n",
    "    '''\n",
    "    Get upper triangle without diagonals\n",
    "    \n",
    "    Sample: \n",
    "    A = np.array([\n",
    "     [1,2,3],\n",
    "     [4,5,6],\n",
    "     [7,8,9]])\n",
    "     \n",
    "    returns: np.array([2,3,6])\n",
    "    '''\n",
    "    m = A.shape[0]\n",
    "    r = np.arange(m)\n",
    "    mask = r[:,None] < r\n",
    "    return A[mask]"
   ]
  },
  {
   "cell_type": "code",
   "execution_count": null,
   "metadata": {},
   "outputs": [],
   "source": []
  },
  {
   "cell_type": "code",
   "execution_count": 186,
   "metadata": {},
   "outputs": [
    {
     "name": "stdout",
     "output_type": "stream",
     "text": [
      "Cluster 1 avg CC:,  0.163701785282\n",
      "Cluster 2 avg CC:,  0.297056103072\n",
      "Cluster 3 avg CC:,  0.71325495055\n"
     ]
    }
   ],
   "source": [
    "for k,ccmatK in enumerate(ccmatK_list):\n",
    "\n",
    "    upTri_cc = upper_tri_masking(ccmatK)\n",
    "    \n",
    "    avg_cc = np.mean(upTri_cc)\n",
    "\n",
    "    print(f'Cluster {k+1} avg CC:, ',avg_cc) #find CC avg"
   ]
  },
  {
   "cell_type": "code",
   "execution_count": 173,
   "metadata": {},
   "outputs": [
    {
     "name": "stdout",
     "output_type": "stream",
     "text": [
      "Cluster 1 avg CC:,  0.00881454039075\n",
      "Cluster 2 avg CC:,  -0.000149008737044\n",
      "Cluster 3 avg CC:,  -0.0236374267366\n",
      "Cluster 4 avg CC:,  -0.00249548963636\n"
     ]
    }
   ],
   "source": [
    "for k,ccmatK in enumerate(ccmatK_listN):\n",
    "\n",
    "    upTri_cc = upper_tri_masking(ccmatK)\n",
    "    \n",
    "    avg_cc = np.mean(upTri_cc)\n",
    "\n",
    "    print(f'Cluster {k+1} avg CC:, ',avg_cc) #find CC avg"
   ]
  },
  {
   "cell_type": "code",
   "execution_count": null,
   "metadata": {},
   "outputs": [],
   "source": []
  },
  {
   "cell_type": "code",
   "execution_count": 175,
   "metadata": {},
   "outputs": [],
   "source": [
    "topF=50\n",
    "catRep = getTopFCat(cat00,topF)"
   ]
  },
  {
   "cell_type": "code",
   "execution_count": 177,
   "metadata": {},
   "outputs": [],
   "source": [
    "# plt.rcParams['image.cmap']='twilight'\n",
    "\n",
    "\n",
    "# shift_cc = lenData\n",
    "\n",
    "\n",
    "# figureFunctions2.plotCCMatrix(catRep,shift_cc,dataH5_path,station,channel,fmin,fmax,fs)\n",
    "# plt.savefig(pathFig + f'Supp_CC_events_{topF}.png')"
   ]
  },
  {
   "cell_type": "code",
   "execution_count": null,
   "metadata": {},
   "outputs": [],
   "source": []
  },
  {
   "cell_type": "code",
   "execution_count": 20,
   "metadata": {},
   "outputs": [
    {
     "data": {
      "image/png": "[encoded data removed]",
      "text/plain": [
       "<Figure size 432x288 with 2 Axes>"
      ]
     },
     "metadata": {
      "needs_background": "light"
     },
     "output_type": "display_data"
    }
   ],
   "source": [
    "shift_ccN = lenDataN\n",
    "\n",
    "\n",
    "cc_matN = figureFunctions2.plotCCMatrix(catRepN,shift_ccN,dataH5_pathN,station,channel,fminN,fmaxN,fsN)\n",
    "plt.savefig(pathFig + 'Supp_CC_Noise.png')"
   ]
  },
  {
   "cell_type": "code",
   "execution_count": null,
   "metadata": {},
   "outputs": [],
   "source": []
  },
  {
   "cell_type": "code",
   "execution_count": null,
   "metadata": {},
   "outputs": [],
   "source": []
  },
  {
   "cell_type": "code",
   "execution_count": 21,
   "metadata": {},
   "outputs": [],
   "source": [
    "# -------------------------------------------- from Jonathon Sheppard\n",
    "\n",
    "\n",
    "from random import gauss\n",
    "\n",
    "def generate_noise(mu, sigma, x, samples):\n",
    "    \"\"\"\n",
    "    Generate x number of random gaussian distributions.\n",
    "    \n",
    "    Parameters\n",
    "    ----------\n",
    "    mu: <int, float>\n",
    "        Mean of the distribution\n",
    "    sigma: <array, list>\n",
    "        Standard deviation of the distribution\n",
    "    x: <int>\n",
    "        Number of arrays to create\n",
    "    samples: <int>\n",
    "        Number of points in the distribution\n",
    "    \"\"\"\n",
    "\n",
    "    wf_list = np.zeros((x,samples))\n",
    "    for i in range(x):\n",
    "        wf_list[i] = [gauss(mu, sigma[i]) for j in range(samples)]\n",
    "    npts = x\n",
    "    \n",
    "    return wf_list\n",
    "\n"
   ]
  },
  {
   "cell_type": "code",
   "execution_count": 22,
   "metadata": {},
   "outputs": [
    {
     "ename": "NameError",
     "evalue": "name 'plotCCMatrix_Synth' is not defined",
     "output_type": "error",
     "traceback": [
      "\u001b[0;31m---------------------------------------------------------------------------\u001b[0m",
      "\u001b[0;31mNameError\u001b[0m                                 Traceback (most recent call last)",
      "\u001b[0;32m<ipython-input-22-3fd4facc0416>\u001b[0m in \u001b[0;36m<module>\u001b[0;34m\u001b[0m\n\u001b[1;32m      4\u001b[0m \u001b[0mwf_list\u001b[0m \u001b[0;34m=\u001b[0m \u001b[0mgenerate_noise\u001b[0m\u001b[0;34m(\u001b[0m\u001b[0mmu\u001b[0m\u001b[0;34m=\u001b[0m\u001b[0mmu\u001b[0m\u001b[0;34m,\u001b[0m \u001b[0msigma\u001b[0m\u001b[0;34m=\u001b[0m\u001b[0mNsigma\u001b[0m\u001b[0;34m,\u001b[0m \u001b[0mx\u001b[0m\u001b[0;34m=\u001b[0m\u001b[0mNx\u001b[0m\u001b[0;34m,\u001b[0m \u001b[0msamples\u001b[0m\u001b[0;34m=\u001b[0m\u001b[0mlenDataN\u001b[0m\u001b[0;34m)\u001b[0m \u001b[0;31m#list of waveform arrays--- from Jonathon Sheppard\u001b[0m\u001b[0;34m\u001b[0m\u001b[0;34m\u001b[0m\u001b[0m\n\u001b[1;32m      5\u001b[0m \u001b[0mshift_cc\u001b[0m \u001b[0;34m=\u001b[0m \u001b[0mlen\u001b[0m\u001b[0;34m(\u001b[0m\u001b[0mwf_list\u001b[0m\u001b[0;34m[\u001b[0m\u001b[0;36m0\u001b[0m\u001b[0;34m]\u001b[0m\u001b[0;34m)\u001b[0m \u001b[0;31m#max number of samples cross correlation can shift\u001b[0m\u001b[0;34m\u001b[0m\u001b[0;34m\u001b[0m\u001b[0m\n\u001b[0;32m----> 6\u001b[0;31m \u001b[0mplotCCMatrix_Synth\u001b[0m\u001b[0;34m(\u001b[0m\u001b[0mwf_list\u001b[0m\u001b[0;34m,\u001b[0m\u001b[0mshift_cc\u001b[0m\u001b[0;34m)\u001b[0m\u001b[0;34m\u001b[0m\u001b[0;34m\u001b[0m\u001b[0m\n\u001b[0m\u001b[1;32m      7\u001b[0m \u001b[0mplt\u001b[0m\u001b[0;34m.\u001b[0m\u001b[0msavefig\u001b[0m\u001b[0;34m(\u001b[0m\u001b[0mpathFig\u001b[0m \u001b[0;34m+\u001b[0m \u001b[0;34m'Supp_CC_RANDomnoise.png'\u001b[0m\u001b[0;34m)\u001b[0m\u001b[0;34m\u001b[0m\u001b[0;34m\u001b[0m\u001b[0m\n",
      "\u001b[0;31mNameError\u001b[0m: name 'plotCCMatrix_Synth' is not defined"
     ]
    }
   ],
   "source": [
    "Nx = 40 #number of waveforms\n",
    "Nsigma = 1 * np.ones(Nx) #array of std for gaussians for waveforms\n",
    "mu = 0 #mean of gauss\n",
    "wf_list = generate_noise(mu=mu, sigma=Nsigma, x=Nx, samples=lenDataN) #list of waveform arrays--- from Jonathon Sheppard\n",
    "shift_cc = len(wf_list[0]) #max number of samples cross correlation can shift\n",
    "plotCCMatrix_Synth(wf_list,shift_cc)\n",
    "plt.savefig(pathFig + 'Supp_CC_RANDomnoise.png')"
   ]
  },
  {
   "cell_type": "code",
   "execution_count": null,
   "metadata": {},
   "outputs": [],
   "source": []
  },
  {
   "cell_type": "markdown",
   "metadata": {},
   "source": [
    "\n",
    "# Comparing Kmeans on spectra \n"
   ]
  },
  {
   "cell_type": "markdown",
   "metadata": {},
   "source": [
    "## compile spectra caluclated from summing spectrograms"
   ]
  },
  {
   "cell_type": "code",
   "execution_count": null,
   "metadata": {},
   "outputs": [],
   "source": [
    "## compile spectra caluclated from FFT waveform  \n",
    "\n",
    "fSTFT_trim, X, sgram_df = compileSpectraFromWF(cat00,dataH5_path,station,channel,fmin,fmax)\n",
    "fSTFT_trimN, XN, sgram_dfN = compileSpectraFromWF(cat00N,dataH5_pathN,station,channel,fminN,fmaxN)\n",
    "\n",
    "\n"
   ]
  },
  {
   "cell_type": "markdown",
   "metadata": {},
   "source": [
    "## Calc Kmeans, force number of K if needed"
   ]
  },
  {
   "cell_type": "code",
   "execution_count": null,
   "metadata": {},
   "outputs": [],
   "source": []
  },
  {
   "cell_type": "code",
   "execution_count": null,
   "metadata": {},
   "outputs": [],
   "source": [
    "## Calc Kmeans, force number of K if needed\n",
    "\n",
    "# range_n_clusters = list(range(2,Kmax+1))\n",
    "\n",
    "range_n_clusters = [3]\n",
    "sgram_df_clustered = KMeansSpectra(sgram_df,range_n_clusters)\n",
    "range_n_clusters = [4]\n",
    "sgram_df_clusteredN = KMeansSpectra(sgram_dfN,range_n_clusters)"
   ]
  },
  {
   "cell_type": "markdown",
   "metadata": {},
   "source": [
    "## quick compare through time ? for switching labels"
   ]
  },
  {
   "cell_type": "code",
   "execution_count": null,
   "metadata": {},
   "outputs": [],
   "source": [
    "dt = [pd.to_datetime('200' + str(evID)) for evID in sgram_df_clustered.event_ID]\n",
    "sgram_df_clustered['datetime_index'] = dt\n",
    "sgram_df_clustered['datetime'] = dt\n",
    "sgram_df_clustered = sgram_df_clustered.set_index('datetime_index')\n",
    "\n",
    "dt = [pd.to_datetime('200' + str(evID)) for evID in sgram_df_clusteredN.event_ID]\n",
    "sgram_df_clusteredN['datetime_index'] = dt\n",
    "sgram_df_clusteredN['datetime'] = dt\n",
    "sgram_df_clusteredN = sgram_df_clusteredN.set_index('datetime_index')"
   ]
  },
  {
   "cell_type": "code",
   "execution_count": null,
   "metadata": {},
   "outputs": [],
   "source": [
    "# # sgram_df_clustered2 = swapLabels(sgram_df_clustered,A,B)\n",
    "# for k in range(1,Kopt+1):\n",
    "#     plt.figure()\n",
    "#     figureFunctions2.plotBarCluster(sgram_df_clustered,k=k,barWidth=.3,timeBin='H',ax=None,**plt_kwargs)\n",
    "\n",
    "# sgram_df_clustered2 = swapLabels(sgram_df_clustered,A,B)\n",
    "for k in range(1,KoptN+1):\n",
    "    plt.figure()\n",
    "    figureFunctions2.plotBarCluster(sgram_df_clusteredN,k=k,barWidth=.3,timeBin='H',ax=None,**plt_kwargs)\n"
   ]
  },
  {
   "cell_type": "code",
   "execution_count": null,
   "metadata": {},
   "outputs": [],
   "source": [
    "from matplotlib.ticker import FormatStrFormatter\n",
    "plt.rcParams.update({'font.size': 10})\n",
    "fig,axes = plt.subplots(figsize = (width2,height2))#,sharex=True)#,constrained_layout=True)\n",
    "tfont=14\n",
    "\n",
    "rain_df = meteor_df.rain\n",
    "\n",
    "\n",
    "gs = gridspec.GridSpec(KoptN+Kopt+1,1)\n",
    "gs.update(wspace=.6, hspace=.15)\n",
    "\n",
    "tpad = 6\n",
    "\n",
    "\n",
    "gpsstations = [24,34,36,37]\n",
    "\n",
    "timecode = '3H'\n",
    "datatype = ''\n",
    "\n",
    "\n",
    "title = 'Icequakes'\n",
    "textY = 16  \n",
    "\n",
    "titleN = 'Noise'\n",
    "textYN = 17.5\n",
    "\n",
    "for k in range(1,Kopt+1):\n",
    "    \n",
    "    ax=plt.subplot(gs[k-1,0])\n",
    "#     ax.set_ylim(0,20)\n",
    "#     ax.set_ylim(ymin=0)\n",
    "    figureFunctions2.plotBarCluster(sgram_df_clustered,k=k,barWidth=.3,timeBin='H',ax=ax,**plt_kwargs)\n",
    "    if k == 1:\n",
    "\n",
    "        figureFunctions2.plotLake(lake_df,rain_df,legend=None,ylabel='right',ax=ax,**plt_kwargs)\n",
    "        ax.set_title(title,fontsize=tfont,pad=tpad)\n",
    "\n",
    "        for gps_dff in gps_df_list:\n",
    "            figureFunctions2.plotGPS(gps_dff.vel_fill,ylabel='none',ax=ax,**plt_kwargs)\n",
    "    \n",
    "    elif k==2:    \n",
    "        ax.set_ylabel('Observations per hour',labelpad=6)    \n",
    "        for gps_dff in gps_df_list:\n",
    "            figureFunctions2.plotGPS(gps_dff.vel_fill,ylabel='none',ax=ax,**plt_kwargs)\n",
    "            \n",
    "            \n",
    "    elif k==3:\n",
    "        for e, gps_dff in enumerate(gps_df_list):\n",
    "            if e==0:\n",
    "                figureFunctions2.plotGPS(gps_dff.vel_fill,ylabel='right',ax=ax,**plt_kwargs)\n",
    "            else:\n",
    "                figureFunctions2.plotGPS(gps_dff.vel_fill,ylabel='none',ax=ax,**plt_kwargs)\n",
    "    \n",
    "    else:\n",
    "        figureFunctions2.plotLake(lake_df,rain_df,legend=None,ylabel='right',ax=ax,**plt_kwargs)\n",
    "        for gps_dff in gps_df_list:\n",
    "            figureFunctions2.plotGPS(gps_dff.vel_fill,ylabel='none',ax=ax,**plt_kwargs)\n",
    "        \n",
    "    ax.axvline(x=subDraint,c='k',linestyle='--',linewidth=2, alpha=1)\n",
    "    ax.axvline(x=supraDraint,c='k',linestyle='--',linewidth=2, alpha=1)   \n",
    "   \n",
    "\n",
    "    if k == Kopt:\n",
    "        ax.set_xlabel('Date, 2007 (month-day)')\n",
    "        ax.tick_params(axis='x',labelrotation=0)\n",
    "        \n",
    "    else:\n",
    "        ax.set_xlabel('')\n",
    "        ax.set_xticklabels('')\n",
    "\n",
    "        \n",
    "        \n",
    "ax=plt.subplot(gs[Kopt,0])\n",
    "ax.axis('off')\n",
    "\n",
    "\n",
    "\n",
    "for k in range(1,KoptN+1):\n",
    "    \n",
    "    ax=plt.subplot(gs[k-1+Kopt+1,0])\n",
    "#     ax.set_ylim(ymin=0)\n",
    "\n",
    "    figureFunctions2.plotBarCluster(sgram_df_clusteredN,k=k,barWidth=.3,ax=ax,**plt_kwargs)\n",
    "    figureFunctions2.plotLake(lake_df,rain_df,legend=None,ylabel=None,ax=ax,**plt_kwargs)\n",
    "\n",
    "    ax.axvline(x=subDraint,c='k',linestyle='--',linewidth=2, alpha=1)\n",
    "    ax.axvline(x=supraDraint,c='k',linestyle='--',linewidth=2, alpha=1)   \n",
    "    \n",
    "    \n",
    "    if k == 1:\n",
    "        ax.set_xlabel('')\n",
    "        ax.set_xticklabels('')\n",
    "        ax.set_title(titleN,fontsize=tfont,pad=tpad)\n",
    "        \n",
    "    if k == 2:\n",
    "\n",
    "        ax.set_ylabel('Observations per hour',labelpad=6)            \n",
    "        for e, gps_dff in enumerate(gps_df_list):\n",
    "            if e==0:\n",
    "                figureFunctions2.plotGPS(gps_dff.vel_fill,ylabel='right',ax=ax,**plt_kwargs)\n",
    "            else:\n",
    "                figureFunctions2.plotGPS(gps_dff.vel_fill,ylabel='none',ax=ax,**plt_kwargs)\n",
    "    else:\n",
    "        for gps_dff in gps_df_list:\n",
    "            figureFunctions2.plotGPS(gps_dff.vel_fill,ylabel='none',ax=ax,**plt_kwargs)\n",
    "\n",
    "    if k == KoptN:\n",
    "        ax.set_xlabel('Date, 2007 (month-day)')\n",
    "        ax.tick_params(axis='x',labelrotation=0)\n",
    "        \n",
    "    else:\n",
    "        ax.set_xlabel('')\n",
    "        ax.set_xticklabels('')\n",
    "        \n",
    "plt.savefig(pathFig + f'Supp_Kmeans_Figure_9_gps.pdf',bbox_inches='tight')"
   ]
  },
  {
   "cell_type": "code",
   "execution_count": null,
   "metadata": {},
   "outputs": [],
   "source": [
    "plt.rcParams.update({'font.size': 12})\n",
    "title = 'Icequakes'\n",
    "titleN = 'Noise'\n",
    "dailyTempDiff = getDailyTempDiff(meteor_df,**plt_kwargs)\n",
    "\n",
    "\n",
    "tfont = 14\n",
    "tpad = 16\n",
    "\n",
    "fig,axes = plt.subplots(figsize = (width1,height1))#,sharex=True)#,constrained_layout=True)\n",
    "\n",
    "plt.suptitle('Icequakes                Noise  ',fontsize=tfont)  \n",
    "\n",
    "gs = gridspec.GridSpec(len(catallN)+1, 2)\n",
    "\n",
    "# gs.update(left=0.05, right=0.35, wspace=.3, hspace=1)\n",
    "gs.update(wspace=.5, hspace=.8)\n",
    "\n",
    "\n",
    "### ICEQUAKE PROPORTION HOURLY\n",
    "ax = plt.subplot(gs[0,0])\n",
    "\n",
    "figureFunctions2.plotHourBar(sgram_df_clustered,Kopt,dailyTempDiff,ax=ax,labelpad=20,label='none',colorBy='all',k=0,**plt_kwargs)\n",
    "ax.set_title(f'N={len(cat00)}', loc='left',fontsize=10,pad=1,color='k')\n",
    "ax.set_ylabel('')\n",
    "ax.set_xlim(0,23)\n",
    "ax.set_xticklabels([]) \n",
    "ax.set_xlabel('')\n",
    "\n",
    "### ICEQUAKES BY CLUSTER HOURLY\n",
    "\n",
    "for k in range(1,Kopt+1):\n",
    "    \n",
    "    i = k\n",
    "    \n",
    "    ax = plt.subplot(gs[i,0])\n",
    "    ax.set_title(f'n={len(sgram_df_clustered[sgram_df_clustered.Cluster==k])}', loc='left',fontsize=10,pad=1,color=colors[k-1])\n",
    "    \n",
    "#     figureFunctions2.plotHourBar(cat00,Kopt,dailyTempDiff,ax=ax,labelpad=10,colorBy='cluster',k=k,**plt_kwargs)\n",
    "    \n",
    "    if k == 0:\n",
    "        figureFunctions2.plotHourBar(sgram_df_clustered,Kopt,dailyTempDiff,ax=ax,labelpad=10,label='right',colorBy='cluster',k=k,**plt_kwargs)\n",
    "#         ax.set_title(title,fontsize=tfont,pad=tpad)  \n",
    "    else:\n",
    "        figureFunctions2.plotHourBar(sgram_df_clustered,Kopt,dailyTempDiff,ax=ax,labelpad=10,label='none',colorBy='cluster',k=k,**plt_kwargs)\n",
    "        \n",
    "        ax.set_ylabel('')\n",
    "        \n",
    "    \n",
    "    if k != Kopt:        \n",
    "        ax.set_xlabel('')\n",
    "        ax.set_xticklabels([])  \n",
    "    if k == 1:\n",
    "        ax.set_ylabel('Number of observations    ',labelpad=8)\n",
    "    \n",
    "#     ax.set_yticklabels([])  \n",
    "\n",
    "        \n",
    "        \n",
    "# ### NOISE PROPORTION HOURLY\n",
    "axN = plt.subplot(gs[0,1])\n",
    "\n",
    "figureFunctions2.plotHourBar(sgram_df_clusteredN,KoptN,dailyTempDiff,ax=axN,labelpad=20,label='right',colorBy='all',k=0,**plt_kwargs)\n",
    "\n",
    "axN.set_title(f'N={len(cat00N)}', loc='left',fontsize=10,pad=1,color='k')\n",
    "axN.set_ylabel('')\n",
    "axN.set_xlim(0,23)\n",
    "axN.set_xticklabels([]) \n",
    "axN.set_xlabel('')\n",
    "\n",
    "### NOISE BY CLUSTER HOURLY\n",
    "for k in range(1,KoptN+1):\n",
    "    \n",
    "    i = k\n",
    "    \n",
    "    axN = plt.subplot(gs[i,1])\n",
    "\n",
    "    axN.set_title(f'n={len(sgram_df_clusteredN[sgram_df_clusteredN.Cluster==k])}', loc='left', fontsize=10,pad=1,color=colors[k-1])\n",
    "    if k == 0:\n",
    "        figureFunctions2.plotHourBar(sgram_df_clusteredN,KoptN,dailyTempDiff,ax=axN,labelpad=20,label='none',colorBy='cluster',k=k,**plt_kwargs)\n",
    "\n",
    "    if k != 1:\n",
    "        figureFunctions2.plotHourBar(sgram_df_clusteredN,KoptN,dailyTempDiff,ax=axN,labelpad=10,label='none',colorBy='cluster',k=k,**plt_kwargs)\n",
    "        \n",
    "        axN.set_ylabel('')\n",
    "#         ax.set_yticks([])   \n",
    "    else:\n",
    "        figureFunctions2.plotHourBar(sgram_df_clusteredN,KoptN,dailyTempDiff,ax=axN,labelpad=8,label='none',colorBy='cluster',k=k,**plt_kwargs)\n",
    "        \n",
    "    if k != KoptN:\n",
    "        axN.set_xticklabels([]) \n",
    "\n",
    "        axN.set_xlabel('')\n",
    "\n",
    "plt.savefig(pathFig + f'Supp_Figure_8_kmeans.pdf',bbox_inches='tight')\n"
   ]
  },
  {
   "cell_type": "markdown",
   "metadata": {},
   "source": [
    "## Confusion matrix compare kmeans on FFT and fingerprints"
   ]
  },
  {
   "cell_type": "code",
   "execution_count": null,
   "metadata": {},
   "outputs": [],
   "source": [
    "figureFunctions2.plotConfusionMatrix(cat00N,sgram_df_clusteredN)\n",
    "\n"
   ]
  },
  {
   "cell_type": "code",
   "execution_count": null,
   "metadata": {},
   "outputs": [],
   "source": [
    "figureFunctions2.plotConfusionMatrix(cat00N,sgram_df_clusteredN)\n"
   ]
  },
  {
   "cell_type": "code",
   "execution_count": null,
   "metadata": {},
   "outputs": [],
   "source": [
    "# figureFunctions2.plotConfusionMatrix(cat00,sgram_df_clustered2)"
   ]
  },
  {
   "cell_type": "code",
   "execution_count": null,
   "metadata": {},
   "outputs": [],
   "source": []
  },
  {
   "cell_type": "markdown",
   "metadata": {},
   "source": [
    "# Sanity check::  Calc spectra using FFT instead of summing spectrograms"
   ]
  },
  {
   "cell_type": "code",
   "execution_count": null,
   "metadata": {},
   "outputs": [],
   "source": [
    "from matplotlib.mlab import window_hanning\n",
    "\n",
    "##IQ\n",
    "\n",
    "spectraFFT_list = []\n",
    "\n",
    "for i, evID in enumerate(cat00.event_ID):\n",
    "    \n",
    "    c = colors[cat00.Cluster.iloc[i]-1]\n",
    "    \n",
    "    waveform = getWF(evID,dataH5_path,station,channel,fmin=fmin,fmax=400,fs=fs)\n",
    "    \n",
    "    spectrum,freqs, line =  plt.magnitude_spectrum(x=waveform, \n",
    "                                                   Fs=fs,\n",
    "                                                   window=window_hanning, \n",
    "                                                   pad_to=len(waveform)*2, \n",
    "                                                   scale='dB',\n",
    "                                                   sides='onesided',\n",
    "                                                  color=c,\n",
    "                                                  visible=True,\n",
    "                                                  alpha=.04,\n",
    "                                                   lw=.7)\n",
    "     \n",
    "    STFT_norm = spectrum / np.median(spectrum)  ##norm by median\n",
    "\n",
    "    dB = 20*np.log10(STFT_norm, where=STFT_norm != 0)  ##convert to dB\n",
    "    \n",
    "    spectraFFT_list.append(dB)\n",
    "    plt.xlim(fmin,fmax)\n",
    "    plt.ylim(-100,100)\n",
    "    plt.title('Icequakes')\n",
    "    \n",
    "plt.savefig(pathFig + 'Sup_SpectraFFT_IQ_FP.png')"
   ]
  },
  {
   "cell_type": "code",
   "execution_count": null,
   "metadata": {},
   "outputs": [],
   "source": [
    "sN = []\n",
    "\n",
    "##NOISE\n",
    "\n",
    "for i, evID in enumerate(cat00N.event_ID):\n",
    "    \n",
    "    c = colors[cat00N.Cluster.iloc[i]-1]\n",
    "    \n",
    "    waveform = getWF(evID,dataH5_pathN,station,channel,fmin=fminN,fmax=400,fs=fsN)\n",
    "    \n",
    "    spectrum,freqs, line =  plt.magnitude_spectrum(x=waveform, \n",
    "                                                   Fs=fsN,\n",
    "                                                   window=window_hanning, \n",
    "                                                   pad_to=len(waveform)*2, \n",
    "                                                   scale='dB',\n",
    "                                                   sides='onesided',\n",
    "                                                  color=c,\n",
    "                                                  visible=True,\n",
    "                                                  alpha=.04,\n",
    "                                                  lw=.7)\n",
    "    \n",
    "\n",
    "    STFT_norm = spectrum / np.median(spectrum)  ##norm by median\n",
    "\n",
    "    dB = 20*np.log10(STFT_norm, where=STFT_norm != 0)  ##convert to dB\n",
    "    \n",
    "    sN.append(dB)\n",
    "    plt.xlim(fminN,fmaxN)\n",
    "    plt.ylim(-175,50)\n",
    "    plt.title('Noise')\n",
    "    \n",
    "plt.savefig(pathFig + 'Sup_SpectraFFT_NS_FP.png')"
   ]
  },
  {
   "cell_type": "code",
   "execution_count": null,
   "metadata": {},
   "outputs": [],
   "source": []
  }
 ],
 "metadata": {
  "kernelspec": {
   "display_name": "Python 3",
   "language": "python",
   "name": "python3"
  },
  "language_info": {
   "codemirror_mode": {
    "name": "ipython",
    "version": 3
   },
   "file_extension": ".py",
   "mimetype": "text/x-python",
   "name": "python",
   "nbconvert_exporter": "python",
   "pygments_lexer": "ipython3",
   "version": "3.7.8"
  }
 },
 "nbformat": 4,
 "nbformat_minor": 4
}
